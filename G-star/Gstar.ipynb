{
 "cells": [
  {
   "cell_type": "code",
   "execution_count": 31,
   "id": "975cbe0b",
   "metadata": {},
   "outputs": [
    {
     "name": "stdout",
     "output_type": "stream",
     "text": [
      "\n",
      "--------------------------------------------------------------------------\n",
      "Instance:  ./instances/map1/obs_10/i_1/Map_i0_o10.pkl  Radius:  1\n",
      "Tolerances:  {'continuity': 0.1, 'angular': 15, 'polygon_intersection': 0.7, 'circle_intersection_ratio': 0.5}\n",
      "Euclidean Upper Bound (No Obstacles):  5.0\n",
      "Dubins Upper Bound (No Obstacles):  6.820510415464687\n",
      "### Solving Euclidean Lower Bound ###\n",
      "Path:  [0, 1]\n",
      "\n",
      "--------------------------------------------------------------------------\n",
      "Instance:  ./instances/map1/obs_10/i_1/Map_i0_o10.pkl  Radius:  2\n",
      "Tolerances:  {'continuity': 0.1, 'angular': 15, 'polygon_intersection': 0.7, 'circle_intersection_ratio': 0.5}\n",
      "Euclidean Upper Bound (No Obstacles):  5.0\n",
      "Dubins Upper Bound (No Obstacles):  17.562370614359175\n",
      "### Solving Euclidean Lower Bound ###\n",
      "Path:  [0, 1]\n",
      "\n",
      "--------------------------------------------------------------------------\n",
      "Instance:  ./instances/map1/obs_10/i_1/Map_i0_o10.pkl  Radius:  3\n",
      "Tolerances:  {'continuity': 0.1, 'angular': 15, 'polygon_intersection': 0.7, 'circle_intersection_ratio': 0.5}\n",
      "Euclidean Upper Bound (No Obstacles):  5.0\n",
      "Dubins Upper Bound (No Obstacles):  23.84355592153876\n",
      "### Solving Euclidean Lower Bound ###\n",
      "Path:  [0, 1]\n"
     ]
    }
   ],
   "source": [
    "# Author: Abhishek Nayak\n",
    "# from re import S\n",
    "import sys\n",
    "sys.path.append('DubinsLineSegToLineSeg/')\n",
    "\n",
    "from graphutils import is_path_exists, is_route_continuous, is_feasible_path, is_angle_matching, get_shortest_path\n",
    "from graphutils import ConstructGates, ConnectGates_Dubins, GraphUpdate_BreakGate, UpdatePath_Dubins, GraphUpdate_BreakAngle\n",
    "from graphutils import ConnectGates_Euclidean, UpdatePath_Euclidean, EuclideanToDubinsGraph\n",
    "from graphutils import PlotGstar\n",
    "from graphutils import Graph_Gstar\n",
    "from DubinsLineSegToLineSeg import DubinsL2L\n",
    "from map_utils import Map\n",
    "from copy import deepcopy\n",
    "import pickle as pkl\n",
    "import dubins as du\n",
    "import time\n",
    "import networkx as nx\n",
    "import numpy as np\n",
    "import csv\n",
    "import os\n",
    "import yaml\n",
    "import logging\n",
    "\n",
    "from networkx.algorithms.shortest_paths.generic import shortest_path\n",
    "# from networkx.classes.graph import Graph\n",
    "sys.path.append('DubinsLineSegToLineSeg/')\n",
    "\n",
    "step_size = 0.1\n",
    "bound_resolution = 1\n",
    "\n",
    "\n",
    "def GstarPaths(Map, G, timeLimit, imgPath, heading_restricted, headingAngles):\n",
    "\n",
    "    '''\n",
    "    This function computes the Euclidean and Dubins lower and upper bounds of the shortest path\n",
    "    between the start and goal points in the input Map. If the shortest path is feasible, the\n",
    "    function terminates. Otherwise, it constructs and connects gates to update the graph and\n",
    "    continues the computation until the shortest path is feasible or the time limit is reached.\n",
    "\n",
    "    Args:\n",
    "    - Map: An object of the Map class, containing the obstacles and start and goal points\n",
    "    - G: An object of the Graph class, containing the nodes and edges of the graph\n",
    "    - timeLimit: The maximum computation time allowed for finding the shortest path\n",
    "    - imgPath: The path where the images of the computed paths will be saved\n",
    "    - heading_restricted: A boolean indicating whether the heading angles at the start and goal\n",
    "                          points are restricted or not\n",
    "    - headingAngles: A dictionary containing the restricted heading angles at the start and goal\n",
    "                     points (if any)\n",
    "\n",
    "    Returns:\n",
    "        A tuple containing the lower bounds of the G* algorithm, the map object, and the GStarGraph object.\n",
    "    '''\n",
    "\n",
    "    # Compute the Euclidean upper bound of the shortest path\n",
    "    eucBoundStartTime = time.monotonic()\n",
    "    short_path_list, G.eucLB_free = get_shortest_path('s', 'e', G)\n",
    "\n",
    "    if heading_restricted:\n",
    "        outAngle = headingAngles['startAngle']*np.pi/180\n",
    "        inAngle = headingAngles['goalAngle']*np.pi/180\n",
    "    else:\n",
    "        outAngle, inAngle = 0, 0\n",
    "\n",
    "    # Compute the Dubins upper bound of the shortest path\n",
    "    delta = 0.001\n",
    "    dubLB_free = DubinsL2L.Line2LineDubins(G.LineStart, (outAngle-delta, outAngle+delta), G.LineEnd, (inAngle-delta, inAngle+delta), G.rho)\n",
    "    G.dubLB_free, minPath = dubLB_free.MinDub_L2L()\n",
    "\n",
    "    # Print the Euclidean and Dubins upper bounds\n",
    "    print(\"Euclidean Upper Bound (No Obstacles): \", G.eucLB_free)\n",
    "    print(\"Dubins Upper Bound (No Obstacles): \", G.dubLB_free)\n",
    "\n",
    "    ''' Step 1: Construct Euclidean Lower bounds '''\n",
    "    if not is_feasible_path(short_path_list, G, Map.ObstacleList):\n",
    "        improve_bounds = True\n",
    "    else:\n",
    "        improve_bounds = False\n",
    "\n",
    "    print('### Solving Euclidean Lower Bound ###')\n",
    "    loop = 0\n",
    "    G.eucLB_time, eucBoundStartTime = 0, time.monotonic()\n",
    "    improve_bounds = True\n",
    "    \n",
    "    while improve_bounds and (G.eucLB_time < 0.001*timeLimit):\n",
    "        path_exists = is_path_exists('s', 'e', G)\n",
    "        path_feasible = is_feasible_path(short_path_list, G, Map.ObstacleList)\n",
    "        path_continuous = is_route_continuous(short_path_list, G)\n",
    "\n",
    "        if path_exists and path_continuous and path_feasible:\n",
    "            improve_bounds = False\n",
    "        else:\n",
    "            if not path_feasible:\n",
    "                G = ConstructGates(G, Map, short_path_list,graphType='Euclidean')\n",
    "                G = ConnectGates_Euclidean(G)\n",
    "                short_path_list, short_path_length = get_shortest_path('s', 'e', G)\n",
    "\n",
    "            if not path_continuous:\n",
    "                G = GraphUpdate_BreakGate(G, short_path_list)\n",
    "                G = UpdatePath_Euclidean(G)\n",
    "                short_path_list, short_path_length = get_shortest_path('s', 'e', G)\n",
    "        \n",
    "        print('Path: ', short_path_list)\n",
    "        G.eucLB_time = time.monotonic()-eucBoundStartTime\n",
    "        loop += 1\n",
    "        plotTitle = \"Euclidean Lower Bound (length = \" + str(round(short_path_length, 3)) + \")\"\n",
    "        PlotGstar(short_path_list, G, Map, plotTitle, save_path=imgPath+'/step_'+str(loop)+'_euc', action='display')\n",
    "\n",
    "    G.eucLowerPath, G.eucLowerBound = short_path_list, short_path_length\n",
    "    G.eucGraph = deepcopy(G.graph)\n",
    "\n",
    "    print(nx.info(G.graph))\n",
    "    print('Euclidean Lower Bound: ', G.eucLowerBound)\n",
    "    print(\"Time (Euclindean Lower Bound): \", G.eucLB_time)\n",
    "    plotTitle = \"Euclidean Lower Bound (length = \" + str(round(G.eucLowerBound, 3)) + \")\"\n",
    "    PlotGstar(G.eucLowerPath, G, Map, plotTitle, save_path=imgPath+'/eucLB', action='display')\n",
    "\n",
    "    \"\"\" Step 2:  Compute Dubins Lower Bound \"\"\"\n",
    "    print('### Solving Dubins Lower Bound ###')\n",
    "    times, Gstar_path_lengths = [], []\n",
    "    dubBoundStartTime = time.monotonic()\n",
    "    improve_bounds = True\n",
    "\n",
    "    G = EuclideanToDubinsGraph(G, heading_restricted, startAngle=outAngle, goalAngle=inAngle)\n",
    "    G = ConnectGates_Dubins(G)\n",
    "\n",
    "    short_path_list, short_path_length = get_shortest_path('s', 'e', G)\n",
    "    times.append(time.monotonic() - dubBoundStartTime)\n",
    "    Gstar_path_lengths.append(short_path_length)\n",
    "    loop += 1\n",
    "    \n",
    "    plotTitle = \"G* (length = \" + str(round(short_path_length, 3)) + \")\"\n",
    "    PlotGstar(short_path_list, G, Map, plotTitle, save_path=imgPath +'/step_'+str(loop)+'_dub', action='display')\n",
    "\n",
    "    print(short_path_list)\n",
    "    print('G* lower bound distance: ', short_path_length)\n",
    "    # PlotGstar(short_path_list, G.graph, self.Map, loop, title)\n",
    "    G.dubLB_time = time.monotonic()-dubBoundStartTime\n",
    "\n",
    "    '''### G* lower bounds ###'''\n",
    "    '''### REPLACE EUCLIDEAN PATHS WITH DubLineToLine ###'''\n",
    "    while improve_bounds and (G.dubLB_time < timeLimit):\n",
    "        path_exists = is_path_exists('s', 'e', G)\n",
    "        path_feasible = is_feasible_path(short_path_list, G, Map.ObstacleList)\n",
    "        path_continuous = is_route_continuous(short_path_list, G)\n",
    "        angle_matching = is_angle_matching(short_path_list, G)\n",
    "\n",
    "        if path_exists and path_continuous and path_feasible and angle_matching:\n",
    "            improve_bounds = False\n",
    "            # break\n",
    "        else:\n",
    "            if not path_feasible:\n",
    "                logging.info('loop {}', loop)\n",
    "                logging.info('Constructing New Gates...')\n",
    "                G = ConstructGates(G, Map, short_path_list, graphType='Dubins')\n",
    "                G = ConnectGates_Dubins(G)\n",
    "                short_path_list, short_path_length = get_shortest_path('s', 'e', G)\n",
    "                # PlotGstar(short_path_list, G, Map, title, save_path='./images', action='save')\n",
    "\n",
    "            if not path_continuous:\n",
    "                logging.info('Breaking Gates...')\n",
    "                G = GraphUpdate_BreakGate(G, short_path_list)\n",
    "                # G = ConnectGates_Dubins(G)\n",
    "                G = UpdatePath_Dubins(G)\n",
    "                short_path_list, short_path_length = get_shortest_path('s', 'e', G)\n",
    "                # PlotGstar(short_path_list, G, Map, title, save_path='./images', action='display')\n",
    "\n",
    "            if not angle_matching:\n",
    "                logging.info('Optimizing Angle...')\n",
    "                G = GraphUpdate_BreakAngle(G, short_path_list)\n",
    "                ## G = ConnectGates_Dubins(G)\n",
    "                G = UpdatePath_Dubins(G)\n",
    "                short_path_list, short_path_length = get_shortest_path('s', 'e', G)\n",
    "                # PlotGstar(short_path_list, G, Map, title, save_path='./images', action='display')\n",
    "\n",
    "            G.dubLB_time = time.monotonic()-dubBoundStartTime\n",
    "            times.append(G.dubLB_time)\n",
    "            Gstar_path_lengths.append(short_path_length)\n",
    "            loop += 1\n",
    "            plotTitle = \"G* (length = \" + str(round(short_path_length, 3)) + \")\"\n",
    "            PlotGstar(short_path_list, G, Map, plotTitle, save_path=imgPath+'/step_'+str(loop)+'_dub', action='display')\n",
    "            \n",
    "    \n",
    "    # short_path_list, short_path_length = get_shortest_path('s', 'e', G)\n",
    "    G.dubLowerPath, G.dubLowerBound = short_path_list, short_path_length\n",
    "    print(\"G* Bound Time: \", G.dubLB_time)\n",
    "    print(\"G* Path: \", G.dubLowerPath)\n",
    "    print('G* lower bound distance: ', G.dubLowerBound)\n",
    "    plotTitle = \"G* (length = \" + str(round(G.dubLowerBound, 3)) + \")\"\n",
    "\n",
    "    return G.dubLowerPath, Map, G\n",
    "\n",
    "\n",
    "if __name__ == \"__main__\":\n",
    "\n",
    "    timeLimit = 1800\n",
    "    radius_list = [1, 2, 3]\n",
    "    initial_Sectors = 3\n",
    "    start_conf = (0, 2, 0)\n",
    "    end_conf = (16, 4.5, 0)\n",
    "    heading_restricted = True\n",
    "\n",
    "    instance_paths = ['./instances/map1']\n",
    "\n",
    "    for path in instance_paths:\n",
    "\n",
    "        with open(path+'/tolerances.yaml') as toleances_yaml:\n",
    "            tolerances = yaml.load(toleances_yaml, Loader=yaml.FullLoader)\n",
    "\n",
    "        with open(path+'/heading.yaml') as heading_yaml:\n",
    "            headingAngles = yaml.load(heading_yaml, Loader=yaml.FullLoader)\n",
    "\n",
    "        result_fields = ['name', 'path', 'Obstacles', 'turning_radius', 'continuity_tolerance', 'angle_tolerance', 'node_count',\n",
    "                         'edge_count', 'eucLB_NoObstacles', 'dubLB_NoObstacles', 'eucLB', 'eucLB_time', 'dubLB', 'dubLB_time',  'dubUB', 'dubUB_time']\n",
    "        result_filename = path+'/results_' + \\\n",
    "            time.strftime(\"%Y%m%d-%H%M%S\")+'.csv'\n",
    "\n",
    "        # writing to csv file\n",
    "        with open(result_filename, 'w') as csvfile:\n",
    "            # creating a csv writer object\n",
    "            csvwriter = csv.writer(csvfile)\n",
    "            csvwriter.writerow(result_fields)\n",
    "\n",
    "            # writing the data rows\n",
    "            instance_results = []\n",
    "            for (instance_path, dirs, files) in os.walk(path):\n",
    "                for f in files:\n",
    "                    if f.endswith(\".pkl\"):\n",
    "                        obstacle_count = instance_path.split(\"/\")[-2]\n",
    "                        obstacle_count = obstacle_count.split('_')[1]\n",
    "\n",
    "                        # M = Map(start_conf, end_conf, (15,8), obstacle_count, shape=5)\n",
    "                        filepath = instance_path+'/' + f\n",
    "                        if f.split('_')[0] == 'Map':\n",
    "                            m = open(filepath, 'rb')\n",
    "                            Map = pkl.load(m)\n",
    "\n",
    "                            for rho in radius_list:\n",
    "                                print(\n",
    "                                    \"\\n--------------------------------------------------------------------------\")\n",
    "                                print(\"Instance: \", instance_path +\n",
    "                                      '/'+f, \" Radius: \", rho)\n",
    "                                print(\"Tolerances: \", tolerances)\n",
    "                                G = Graph_Gstar(\n",
    "                                    start_conf, end_conf, rho, initial_Sectors, tolerances)\n",
    "                                imgPath = instance_path+'/img/r_'+str(rho)\n",
    "                                if not os.path.exists(imgPath):\n",
    "                                    os.makedirs(imgPath)\n",
    "\n",
    "                                try:\n",
    "\n",
    "                                    start_time = time.monotonic()\n",
    "                                    # if not os.path.exists(instance_path+'/graphs/G_r'+str(rho)+'.pkl'):\n",
    "                                    try:\n",
    "                                        dubLB_path, Map, G = GstarPaths(\n",
    "                                            Map, G, timeLimit, imgPath, heading_restricted, headingAngles)\n",
    "                                        PlotGstar(dubLB_path, G, Map, 'G* Lower Bound Path',\n",
    "                                                    save_path=instance_path+'/dub_LB_r'+str(rho), action='save')\n",
    "                                        print('test')\n",
    "\n",
    "                                        total_time = time.monotonic() - start_time\n",
    "                                        print('Time of execution: ',\n",
    "                                                total_time)\n",
    "                                    except:\n",
    "                                        None\n",
    "\n",
    "                                    if not os.path.exists(instance_path+'/graphs'):\n",
    "                                        os.mkdir(instance_path+'/graphs')\n",
    "                                    G_filename = instance_path + \\\n",
    "                                        '/graphs/G_r'+str(rho)+'.pkl'\n",
    "                                    G_file = open(G_filename, 'wb')\n",
    "                                    pkl.dump(G, G_file)\n",
    "                                    G_file.close()\n",
    "\n",
    "                                    instance_data = [\n",
    "                                        f, \n",
    "                                        filepath, \n",
    "                                        obstacle_count, \n",
    "                                        rho, \n",
    "                                        tolerances['continuity'], \n",
    "                                        tolerances['angular'], \n",
    "                                        G.graph.number_of_nodes(), \n",
    "                                        G.graph.size(), \n",
    "                                        G.eucLB_free, \n",
    "                                        G.dubLB_free, \n",
    "                                        G.eucLowerBound, \n",
    "                                        G.eucLB_time, \n",
    "                                        G.dubLowerBound, \n",
    "                                        G.dubLB_time, \n",
    "                                        G.dubUpperBound, \n",
    "                                        G.dubUB_time\n",
    "                                        ]\n",
    "                                    csvwriter.writerow(instance_data)\n",
    "\n",
    "                                except:\n",
    "                                    None"
   ]
  },
  {
   "cell_type": "code",
   "execution_count": 4,
   "id": "1541f29e",
   "metadata": {},
   "outputs": [
    {
     "data": {
      "text/plain": [
       "(0, 4.5, 0)"
      ]
     },
     "execution_count": 4,
     "metadata": {},
     "output_type": "execute_result"
    }
   ],
   "source": [
    "Map.StartConf"
   ]
  },
  {
   "cell_type": "code",
   "execution_count": 5,
   "id": "fef57c11",
   "metadata": {},
   "outputs": [
    {
     "data": {
      "text/plain": [
       "(16, 4.5, 3.141592653589793)"
      ]
     },
     "execution_count": 5,
     "metadata": {},
     "output_type": "execute_result"
    }
   ],
   "source": [
    "Map.EndConf"
   ]
  },
  {
   "cell_type": "code",
   "execution_count": 6,
   "id": "4b6c7f9d",
   "metadata": {},
   "outputs": [
    {
     "data": {
      "text/plain": [
       "{'continuity': 0.1,\n",
       " 'angular': 15,\n",
       " 'polygon_intersection': 0.7,\n",
       " 'circle_intersection_ratio': 0.5}"
      ]
     },
     "execution_count": 6,
     "metadata": {},
     "output_type": "execute_result"
    }
   ],
   "source": [
    "tolerances"
   ]
  },
  {
   "cell_type": "code",
   "execution_count": 7,
   "id": "03f65204",
   "metadata": {},
   "outputs": [],
   "source": [
    "from timeit import default_timer as timer\n",
    "import matplotlib.pyplot as plt\n",
    "from types import SimpleNamespace\n",
    "from DubinsLineSegToLineSeg import utils\n",
    "from DubinsLineSegToLineSeg import dubutils as du"
   ]
  },
  {
   "cell_type": "code",
   "execution_count": 8,
   "id": "67e1386e",
   "metadata": {},
   "outputs": [
    {
     "ename": "NameError",
     "evalue": "name 'tole' is not defined",
     "output_type": "error",
     "traceback": [
      "\u001b[0;31m---------------------------------------------------------------------------\u001b[0m",
      "\u001b[0;31mNameError\u001b[0m                                 Traceback (most recent call last)",
      "Cell \u001b[0;32mIn[8], line 1\u001b[0m\n\u001b[0;32m----> 1\u001b[0m \u001b[43mtole\u001b[49m\n",
      "\u001b[0;31mNameError\u001b[0m: name 'tole' is not defined"
     ]
    }
   ],
   "source": [
    "tole"
   ]
  },
  {
   "cell_type": "code",
   "execution_count": null,
   "id": "a52a238b",
   "metadata": {},
   "outputs": [],
   "source": [
    "def GstarPaths(Map, G, timeLimit, imgPath, heading_restricted, headingAngles):\n",
    "    \n",
    "    eucBoundStartTime = time.monotonic()"
   ]
  },
  {
   "cell_type": "code",
   "execution_count": null,
   "id": "d417bcf1",
   "metadata": {},
   "outputs": [],
   "source": []
  },
  {
   "cell_type": "code",
   "execution_count": 9,
   "id": "c91a29b7",
   "metadata": {},
   "outputs": [],
   "source": [
    "from graphutils import get_shortest_path, node_id_list\n",
    "from shapely.geometry import Point, Polygon, MultiPolygon, LineString, MultiLineString, mapping"
   ]
  },
  {
   "cell_type": "code",
   "execution_count": 10,
   "id": "8fe4acff",
   "metadata": {},
   "outputs": [],
   "source": [
    "G = Graph_Gstar(start_conf, end_conf, rho, initial_Sectors, tolerances)"
   ]
  },
  {
   "cell_type": "code",
   "execution_count": 11,
   "id": "a5ed5b38",
   "metadata": {},
   "outputs": [],
   "source": [
    "short_path_list, G.eucLB_free = get_shortest_path('s', 'e', G)"
   ]
  },
  {
   "cell_type": "code",
   "execution_count": 10,
   "id": "c0b3a8e7",
   "metadata": {},
   "outputs": [],
   "source": [
    "if heading_restricted:\n",
    "    outAngle = headingAngles['startAngle']*np.pi/180\n",
    "    inAngle = headingAngles['goalAngle']*np.pi/180\n",
    "else:\n",
    "    outAngle, inAngle = 0, 0\n"
   ]
  },
  {
   "cell_type": "code",
   "execution_count": 11,
   "id": "ca69454f",
   "metadata": {},
   "outputs": [
    {
     "ename": "NameError",
     "evalue": "name 'ou' is not defined",
     "output_type": "error",
     "traceback": [
      "\u001b[0;31m---------------------------------------------------------------------------\u001b[0m",
      "\u001b[0;31mNameError\u001b[0m                                 Traceback (most recent call last)",
      "Cell \u001b[0;32mIn[11], line 1\u001b[0m\n\u001b[0;32m----> 1\u001b[0m \u001b[43mou\u001b[49m\n",
      "\u001b[0;31mNameError\u001b[0m: name 'ou' is not defined"
     ]
    }
   ],
   "source": [
    "ou"
   ]
  },
  {
   "cell_type": "code",
   "execution_count": 12,
   "id": "848ca51f",
   "metadata": {},
   "outputs": [],
   "source": [
    "delta = 0.001\n",
    "dubLB_free = DubinsL2L.Line2LineDubins(G.LineStart, (outAngle-delta, outAngle+delta), G.LineEnd, (inAngle-delta, inAngle+delta), G.rho)\n",
    "# G.dubLB_free, minPath = dubLB_free.MinDub_L2L()\n",
    "minLength, minPath = dubLB_free.MinDub_L2L()"
   ]
  },
  {
   "cell_type": "code",
   "execution_count": 13,
   "id": "a0320ed2",
   "metadata": {},
   "outputs": [],
   "source": [
    "lineSeg1 = G.LineStart\n",
    "lineSeg2 = G.LineEnd\n",
    "int1 = (outAngle-delta, outAngle+delta)\n",
    "int2 = (inAngle-delta, inAngle+delta)\n",
    "rho = G.rho"
   ]
  },
  {
   "cell_type": "code",
   "execution_count": 14,
   "id": "b5e36f14",
   "metadata": {},
   "outputs": [
    {
     "name": "stdout",
     "output_type": "stream",
     "text": [
      "minLength=21.264214093935287\n",
      "minPathType= RSL\n",
      "minConfStart=  (0, 4.49)   1.5697963267948967\n",
      "minConfGoal=  (16, 4.51)   1.5697963267948967\n",
      "Segment lengths=  (6.632084047035267, 8.000045999864751, 6.632084047035267)\n",
      "comp_time=3.962500022680615e-05\n"
     ]
    },
    {
     "data": {
      "image/png": "[encoded data removed]",
      "text/plain": [
       "<Figure size 640x480 with 1 Axes>"
      ]
     },
     "metadata": {},
     "output_type": "display_data"
    }
   ],
   "source": [
    "plotFlag  = True\n",
    "## computing shortest line to line dubins path using analytical results\n",
    "tic = timer()\n",
    "# L2LDub = DubinsL2L.Line2LineDubins(lineSeg1, int1, lineSeg2, int2, rho) \n",
    "# minLength, minPath = L2LDub.MinDub_L2L()   #This returns the length of the minimum path, minimum path, and all the candidate paths\n",
    "comp_time = timer()-tic\n",
    "print(f\"{minLength=}\")\n",
    "print(\"minPathType=\", minPath.pathType)\n",
    "print(\"minConfStart= \", minPath.iniPos, \" \", minPath.iniHead)\n",
    "print(\"minConfGoal= \", minPath.finalPos, \" \", minPath.finalHead)\n",
    "print(\"Segment lengths= \", minPath.segLengths)\n",
    "print(f\"{comp_time=}\")\n",
    "\n",
    "if plotFlag:\n",
    "    plt.figure()\n",
    "    linesegfmt = SimpleNamespace(color='m', linewidth=1.5, linestyle='-', marker='x',endPoints=True)        \n",
    "    pathfmt = SimpleNamespace(color='b', linewidth=2, linestyle='-', marker='x', endPoints=False)    \n",
    "    arrfmt = SimpleNamespace(color='g', linewidth=1, linestyle='--', marker='x', arrLen=10)       \n",
    "    utils.PlotLineSeg(lineSeg1[0], lineSeg1[1], linesegfmt)\n",
    "    utils.PlotLineSeg(lineSeg2[0], lineSeg2[1], linesegfmt)\n",
    "    if minLength:   \n",
    "        arrfmt = SimpleNamespace(color='g', linewidth=1, linestyle='--', marker='x', arrLen=10)                   \n",
    "        utils.PlotInterval(minPath.iniPos, int1, arrfmt)\n",
    "        utils.PlotInterval(minPath.finalPos, int2, arrfmt)\n",
    "        du.PlotDubPathSegments((minPath.iniPos[0], minPath.iniPos[1], minPath.iniHead), minPath.pathType, minPath.segLengths, rho, pathfmt)     \n",
    "        arrfmt = SimpleNamespace(color='c', linewidth=1, linestyle='--', marker='x', arrLen=10)           \n",
    "        utils.PlotArrow(minPath.finalPos, minPath.finalHead, 10, arrfmt) \n",
    "        utils.PlotArrow(minPath.iniPos, minPath.iniHead, 10, arrfmt)            \n",
    " \n",
    "    plt.axis('equal')\n",
    "    plt.show()\n"
   ]
  },
  {
   "cell_type": "code",
   "execution_count": 15,
   "id": "ccdc1450",
   "metadata": {},
   "outputs": [],
   "source": [
    "G.dubLB_free = minLength"
   ]
  },
  {
   "cell_type": "code",
   "execution_count": 16,
   "id": "397d6459",
   "metadata": {},
   "outputs": [
    {
     "name": "stdout",
     "output_type": "stream",
     "text": [
      "Euclidean Upper Bound (No Obstacles):  16.0\n",
      "Dubins Upper Bound (No Obstacles):  21.264214093935287\n"
     ]
    }
   ],
   "source": [
    "print(\"Euclidean Upper Bound (No Obstacles): \", G.eucLB_free)\n",
    "print(\"Dubins Upper Bound (No Obstacles): \", G.dubLB_free)"
   ]
  },
  {
   "cell_type": "code",
   "execution_count": 17,
   "id": "7fad7ecc",
   "metadata": {},
   "outputs": [],
   "source": [
    "def is_feasible_path(Path, G, obstacleList):\n",
    "    feasible = True\n",
    "    for i in range(len(Path)-1):\n",
    "        u = Path[i]\n",
    "        v = Path[i+1]\n",
    "        Edge = G.graph.get_edge_data(u, v)\n",
    "\n",
    "        for obstacle in obstacleList:\n",
    "            feasible = is_feasible_connection(Edge, obstacle, G.tolerances)\n",
    "            if not feasible:\n",
    "                return False\n",
    "\n",
    "    return feasible"
   ]
  },
  {
   "cell_type": "code",
   "execution_count": 18,
   "id": "b57c87ab",
   "metadata": {},
   "outputs": [],
   "source": [
    "def is_feasible_connection(Edge, obstacle, Tolerances):\n",
    "    feasible = True\n",
    "    ''' if the path is a single line segment '''\n",
    "    if mapping(Edge['geom'])['type'] == 'LineString':\n",
    "        if Edge['geom'].within(obstacle) or Edge['geom'].overlaps(obstacle):\n",
    "            return False\n",
    "        if Edge['geom'].crosses(obstacle):\n",
    "            if mapping(obstacle)['type'] == 'Polygon':\n",
    "                s = Edge['geom'].intersection(obstacle).length\n",
    "                if s > Tolerances['polygon_intersection']:\n",
    "                    return False\n",
    "            else:\n",
    "                s = Edge['geom'].intersection(obstacle).length\n",
    "                d = math.sqrt(4*obstacle.area/math.pi)\n",
    "                if (s/d) > Tolerances['circle_intersection_ratio']:\n",
    "                    return False\n",
    "    elif mapping(Edge['geom'])['type'] == 'MultiLineString':\n",
    "        for segment in list(Edge['geom']):\n",
    "            if segment.within(obstacle) or segment.overlaps(obstacle):\n",
    "                return False\n",
    "            if segment.crosses(obstacle):\n",
    "                if mapping(obstacle)['type'] == 'Polygon':\n",
    "                    s = segment.intersection(obstacle).length\n",
    "                    if s > Tolerances['polygon_intersection']:\n",
    "                        return False\n",
    "                else:\n",
    "                    s = segment.intersection(obstacle).length\n",
    "                    d = math.sqrt(4*obstacle.area/math.pi)\n",
    "                    if (s/d) > (s/d) > Tolerances['circle_intersection_ratio']:\n",
    "                        return False\n",
    "    return feasible"
   ]
  },
  {
   "cell_type": "code",
   "execution_count": 19,
   "id": "6e8f54d7",
   "metadata": {},
   "outputs": [
    {
     "data": {
      "text/plain": [
       "False"
      ]
     },
     "execution_count": 19,
     "metadata": {},
     "output_type": "execute_result"
    }
   ],
   "source": [
    "is_feasible_path(short_path_list, G, Map.ObstacleList)"
   ]
  },
  {
   "cell_type": "code",
   "execution_count": 20,
   "id": "7b820282",
   "metadata": {},
   "outputs": [
    {
     "data": {
      "text/plain": [
       "[0, 1]"
      ]
     },
     "execution_count": 20,
     "metadata": {},
     "output_type": "execute_result"
    }
   ],
   "source": [
    "short_path_list"
   ]
  },
  {
   "cell_type": "code",
   "execution_count": 21,
   "id": "3ca7edd9",
   "metadata": {},
   "outputs": [],
   "source": [
    "if not is_feasible_path(short_path_list, G, Map.ObstacleList):\n",
    "    improve_bounds = True\n",
    "else:\n",
    "    improve_bounds = False\n"
   ]
  },
  {
   "cell_type": "code",
   "execution_count": 22,
   "id": "a6688873",
   "metadata": {},
   "outputs": [
    {
     "data": {
      "text/plain": [
       "True"
      ]
     },
     "execution_count": 22,
     "metadata": {},
     "output_type": "execute_result"
    }
   ],
   "source": [
    "improve_bounds"
   ]
  },
  {
   "cell_type": "code",
   "execution_count": null,
   "id": "9f29059a",
   "metadata": {},
   "outputs": [],
   "source": []
  },
  {
   "cell_type": "code",
   "execution_count": 23,
   "id": "61112b4c",
   "metadata": {},
   "outputs": [],
   "source": [
    "def is_path_exists(StartId, EndId, G):\n",
    "    start_id_list, end_id_list = node_id_list(\n",
    "        StartId, G), node_id_list(EndId, G)\n",
    "    for s in start_id_list:\n",
    "        for e in end_id_list:\n",
    "            if not nx.has_path(G.graph, source=s, target=e):\n",
    "                return False\n",
    "    return True"
   ]
  },
  {
   "cell_type": "code",
   "execution_count": 24,
   "id": "8831583b",
   "metadata": {},
   "outputs": [
    {
     "data": {
      "text/plain": [
       "True"
      ]
     },
     "execution_count": 24,
     "metadata": {},
     "output_type": "execute_result"
    }
   ],
   "source": [
    "path_exists = is_path_exists('s', 'e', G)\n",
    "path_exists"
   ]
  },
  {
   "cell_type": "code",
   "execution_count": 25,
   "id": "c1469587",
   "metadata": {},
   "outputs": [
    {
     "data": {
      "text/plain": [
       "False"
      ]
     },
     "execution_count": 25,
     "metadata": {},
     "output_type": "execute_result"
    }
   ],
   "source": [
    "path_feasible = is_feasible_path(short_path_list, G, Map.ObstacleList)\n",
    "path_feasible"
   ]
  },
  {
   "cell_type": "code",
   "execution_count": 26,
   "id": "01581839",
   "metadata": {},
   "outputs": [
    {
     "data": {
      "text/plain": [
       "True"
      ]
     },
     "execution_count": 26,
     "metadata": {},
     "output_type": "execute_result"
    }
   ],
   "source": [
    "path_continuous = is_route_continuous(short_path_list, G)\n",
    "path_continuous"
   ]
  },
  {
   "cell_type": "code",
   "execution_count": 27,
   "id": "9d78d375",
   "metadata": {},
   "outputs": [],
   "source": [
    "def ConstructGates(G, Map, Path, graphType='euclidean'):\n",
    "    ''' 1. Draw gates for obstacles intesecting the path '''\n",
    "    for i in range(len(Path)-1):\n",
    "        u, v = Path[i], Path[i+1]\n",
    "        Edge = G.graph.get_edge_data(u, v)\n",
    "        # if is_feasible_connection(Edge, ObstacleMap) == False:\n",
    "        #\n",
    "        for obstacle in Map.ObstacleList:\n",
    "            if mapping(Edge['geom'])['type'] == 'LineString':\n",
    "                # if Edge['geom'].crosses(obstacle):\n",
    "                if not is_feasible_connection(Edge, obstacle, G.tolerances):\n",
    "                    # nx.G.graph.remove_edge()\n",
    "                    G = add_gate(G, Edge['geom'], obstacle, Map, graphType)\n",
    "\n",
    "            elif mapping(Edge['geom'])['type'] == 'MultiLineString':\n",
    "                for segment in list(Edge['geom']):\n",
    "                    # if segment.crosses(obstacle):\n",
    "                    if not is_feasible_connection(segment, obstacle, G.tolerances):\n",
    "                        G = add_gate(G, segment, obstacle, Map, graphType)\n",
    "    return G"
   ]
  },
  {
   "cell_type": "code",
   "execution_count": 28,
   "id": "32c7ea3e",
   "metadata": {},
   "outputs": [],
   "source": [
    "def add_gate(G, Edge, Obstacle, Map, Type):\n",
    "    ''' List of points intersecting the obstacle'''\n",
    "    points = list(Edge.intersection(Obstacle).coords)\n",
    "    ''' Draw gates at midway of points'''\n",
    "    avg_X, avg_Y = 0, 0\n",
    "    \n",
    "    for point in points:\n",
    "        avg_X += point[0]\n",
    "        avg_Y += point[1]\n",
    "    \n",
    "    avg_X /= len(points)\n",
    "    avg_Y /= len(points)\n",
    "\n",
    "    gate_geom = LineString([(avg_X, Map.map_maxy), (avg_X, Map.map_miny)])\n",
    "\n",
    "    for obs in Map.ObstacleList:\n",
    "        gate_geom = gate_geom - obs\n",
    "\n",
    "    # ExistingGateList = []\n",
    "    # try:\n",
    "    #     ExistingGateList = [G.graph.nodes[n]['geom'] for n in list(G.graph.nodes)]\n",
    "    # except AttributeError:\n",
    "    #     print(\"Error adding new gates\")\n",
    "\n",
    "    if Type == 'Euclidean':\n",
    "        if mapping(gate_geom)['type'] == 'LineString':\n",
    "            # if gate_geom not in ExistingGateList:\n",
    "            if gate_geom not in G.gateGeomList:\n",
    "                G.graph.add_node(G.GateCounter, id=G.GateCounter,\n",
    "                                 geom=gate_geom, sector=None, x_dist=avg_X)\n",
    "                G.gateGeomList.append(gate_geom)\n",
    "                G.GateCounter += 1\n",
    "        elif mapping(gate_geom)['type'] == 'MultiLineString':\n",
    "            for gate_segment_geom in list(gate_geom):\n",
    "                # if gate_segment_geom not in ExistingGateList:\n",
    "                if gate_segment_geom not in G.gateGeomList:\n",
    "                    G.graph.add_node(G.GateCounter, id=G.GateCounter,\n",
    "                                     geom=gate_segment_geom, sector=None, x_dist=avg_X)\n",
    "                    G.gateGeomList.append(gate_segment_geom)\n",
    "                    G.GateCounter += 1\n",
    "\n",
    "    elif Type == 'Dubins':\n",
    "        sector_list = [(2*np.pi*i/G.Sectors, 2*np.pi*(i+1)/G.Sectors)\n",
    "                       for i in range(G.Sectors)]\n",
    "        if mapping(gate_geom)['type'] == 'LineString':\n",
    "            # if gate_geom not in ExistingGateList:\n",
    "            if gate_geom not in G.gateGeomList:\n",
    "                for sector in sector_list:\n",
    "                    G.graph.add_node(G.GateCounter, id=G.GateCounter,\n",
    "                                     geom=gate_geom, sector=sector, x_dist=avg_X)\n",
    "                    G.gateGeomList.append(gate_geom)\n",
    "                    G.GateCounter += 1\n",
    "        elif mapping(gate_geom)['type'] == 'MultiLineString':\n",
    "            for gate_segment_geom in list(gate_geom):\n",
    "                # if gate_segment_geom not in ExistingGateList:\n",
    "                if gate_segment_geom not in G.gateGeomList:\n",
    "                    for sector in sector_list:\n",
    "                        G.graph.add_node(\n",
    "                            G.GateCounter, id=G.GateCounter, geom=gate_segment_geom, sector=sector, x_dist=avg_X)\n",
    "                        G.gateGeomList.append(gate_segment_geom)\n",
    "                        G.GateCounter += 1\n",
    "\n",
    "    else:\n",
    "        print('TypeError: Check selected path type')\n",
    "    return G"
   ]
  },
  {
   "cell_type": "code",
   "execution_count": 29,
   "id": "be657922",
   "metadata": {},
   "outputs": [],
   "source": [
    "def ConnectGates_Euclidean(G):\n",
    "    \"\"\"\n",
    "    Function to connect Euclidean edges between gates.\n",
    "\n",
    "    Attributes\n",
    "    ----------\n",
    "    Graph : nx.graph()\n",
    "        A graph containing Gates as nodes.\n",
    "\n",
    "    Output\n",
    "    -------\n",
    "    Graph : nx.graph()\n",
    "        A graph containing Gates connected using Euclidean paths.\n",
    "\n",
    "    \"\"\"\n",
    "\n",
    "    G.graph.clear_edges()\n",
    "    smallest_gate_x_dist, largest_gate_x_dist = np.inf, 0\n",
    "    for n in list(G.graph.nodes):\n",
    "        if G.graph.nodes[n]['x_dist'] < smallest_gate_x_dist:\n",
    "            smallest_gate_x_dist = G.graph.nodes[n]['x_dist']\n",
    "        if G.graph.nodes[n]['x_dist'] > largest_gate_x_dist:\n",
    "            largest_gate_x_dist = G.graph.nodes[n]['x_dist']\n",
    "\n",
    "    ''' 4/1. Start path'''\n",
    "    nearest_gates, nearest_gate_dist = [], np.inf\n",
    "    for n in list(G.graph.nodes):\n",
    "        if G.graph.nodes[n]['x_dist'] == smallest_gate_x_dist:\n",
    "            nearest_gate_dist = G.graph.nodes[n]['x_dist']\n",
    "            nearest_gates.append(n)\n",
    "\n",
    "    prev_x_dist = nearest_gate_dist\n",
    "    prev_gates = nearest_gates\n",
    "\n",
    "    ''' 4/2. Gate connections '''\n",
    "\n",
    "    while prev_x_dist < largest_gate_x_dist:\n",
    "        nearest_gates, nearest_gate_dist = [], np.inf\n",
    "        for n in list(G.graph.nodes):\n",
    "            if G.graph.nodes[n]['x_dist'] < nearest_gate_dist and G.graph.nodes[n]['x_dist'] > prev_x_dist:\n",
    "                nearest_gate_dist = G.graph.nodes[n]['x_dist']\n",
    "                nearest_gates = [n]\n",
    "            elif G.graph.nodes[n]['x_dist'] == nearest_gate_dist:\n",
    "                nearest_gates.append(n)\n",
    "\n",
    "        for a in prev_gates:\n",
    "            for b in nearest_gates:\n",
    "                near_points = nearest_points(\n",
    "                    G.graph.nodes[a]['geom'], G.graph.nodes[b]['geom'])\n",
    "                temp_path = LineString(near_points)\n",
    "                minConfStart = [near_points[0].x,\n",
    "                                near_points[0].y, find_slope(temp_path)]\n",
    "                minConfGoal = [near_points[1].x,\n",
    "                               near_points[1].y, find_slope(temp_path)]\n",
    "                G.graph.add_edge(a, b, weight=temp_path.length, geom=temp_path, pathConf=[\n",
    "                                 minConfStart, minConfGoal], parent_gates=[a, b])\n",
    "        prev_x_dist = nearest_gate_dist\n",
    "        prev_gates = nearest_gates\n",
    "\n",
    "    return G\n"
   ]
  },
  {
   "cell_type": "code",
   "execution_count": 30,
   "id": "7ea5c798",
   "metadata": {},
   "outputs": [
    {
     "name": "stdout",
     "output_type": "stream",
     "text": [
      "### Solving Euclidean Lower Bound ###\n"
     ]
    },
    {
     "ename": "TypeError",
     "evalue": "'MultiLineString' object is not iterable",
     "output_type": "error",
     "traceback": [
      "\u001b[0;31m---------------------------------------------------------------------------\u001b[0m",
      "\u001b[0;31mTypeError\u001b[0m                                 Traceback (most recent call last)",
      "Cell \u001b[0;32mIn[30], line 15\u001b[0m\n\u001b[1;32m     13\u001b[0m \u001b[38;5;28;01melse\u001b[39;00m:\n\u001b[1;32m     14\u001b[0m     \u001b[38;5;28;01mif\u001b[39;00m \u001b[38;5;129;01mnot\u001b[39;00m path_feasible:\n\u001b[0;32m---> 15\u001b[0m         G \u001b[38;5;241m=\u001b[39m \u001b[43mConstructGates\u001b[49m\u001b[43m(\u001b[49m\u001b[43mG\u001b[49m\u001b[43m,\u001b[49m\u001b[43m \u001b[49m\u001b[43mMap\u001b[49m\u001b[43m,\u001b[49m\u001b[43m \u001b[49m\u001b[43mshort_path_list\u001b[49m\u001b[43m,\u001b[49m\u001b[43mgraphType\u001b[49m\u001b[38;5;241;43m=\u001b[39;49m\u001b[38;5;124;43m'\u001b[39;49m\u001b[38;5;124;43mEuclidean\u001b[39;49m\u001b[38;5;124;43m'\u001b[39;49m\u001b[43m)\u001b[49m\n\u001b[1;32m     16\u001b[0m         G \u001b[38;5;241m=\u001b[39m ConnectGates_Euclidean(G)\n\u001b[1;32m     17\u001b[0m         short_path_list, short_path_length \u001b[38;5;241m=\u001b[39m get_shortest_path(\u001b[38;5;124m'\u001b[39m\u001b[38;5;124ms\u001b[39m\u001b[38;5;124m'\u001b[39m, \u001b[38;5;124m'\u001b[39m\u001b[38;5;124me\u001b[39m\u001b[38;5;124m'\u001b[39m, G)\n",
      "Cell \u001b[0;32mIn[27], line 13\u001b[0m, in \u001b[0;36mConstructGates\u001b[0;34m(G, Map, Path, graphType)\u001b[0m\n\u001b[1;32m      9\u001b[0m \u001b[38;5;28;01mif\u001b[39;00m mapping(Edge[\u001b[38;5;124m'\u001b[39m\u001b[38;5;124mgeom\u001b[39m\u001b[38;5;124m'\u001b[39m])[\u001b[38;5;124m'\u001b[39m\u001b[38;5;124mtype\u001b[39m\u001b[38;5;124m'\u001b[39m] \u001b[38;5;241m==\u001b[39m \u001b[38;5;124m'\u001b[39m\u001b[38;5;124mLineString\u001b[39m\u001b[38;5;124m'\u001b[39m:\n\u001b[1;32m     10\u001b[0m     \u001b[38;5;66;03m# if Edge['geom'].crosses(obstacle):\u001b[39;00m\n\u001b[1;32m     11\u001b[0m     \u001b[38;5;28;01mif\u001b[39;00m \u001b[38;5;129;01mnot\u001b[39;00m is_feasible_connection(Edge, obstacle, G\u001b[38;5;241m.\u001b[39mtolerances):\n\u001b[1;32m     12\u001b[0m         \u001b[38;5;66;03m# nx.G.graph.remove_edge()\u001b[39;00m\n\u001b[0;32m---> 13\u001b[0m         G \u001b[38;5;241m=\u001b[39m \u001b[43madd_gate\u001b[49m\u001b[43m(\u001b[49m\u001b[43mG\u001b[49m\u001b[43m,\u001b[49m\u001b[43m \u001b[49m\u001b[43mEdge\u001b[49m\u001b[43m[\u001b[49m\u001b[38;5;124;43m'\u001b[39;49m\u001b[38;5;124;43mgeom\u001b[39;49m\u001b[38;5;124;43m'\u001b[39;49m\u001b[43m]\u001b[49m\u001b[43m,\u001b[49m\u001b[43m \u001b[49m\u001b[43mobstacle\u001b[49m\u001b[43m,\u001b[49m\u001b[43m \u001b[49m\u001b[43mMap\u001b[49m\u001b[43m,\u001b[49m\u001b[43m \u001b[49m\u001b[43mgraphType\u001b[49m\u001b[43m)\u001b[49m\n\u001b[1;32m     15\u001b[0m \u001b[38;5;28;01melif\u001b[39;00m mapping(Edge[\u001b[38;5;124m'\u001b[39m\u001b[38;5;124mgeom\u001b[39m\u001b[38;5;124m'\u001b[39m])[\u001b[38;5;124m'\u001b[39m\u001b[38;5;124mtype\u001b[39m\u001b[38;5;124m'\u001b[39m] \u001b[38;5;241m==\u001b[39m \u001b[38;5;124m'\u001b[39m\u001b[38;5;124mMultiLineString\u001b[39m\u001b[38;5;124m'\u001b[39m:\n\u001b[1;32m     16\u001b[0m     \u001b[38;5;28;01mfor\u001b[39;00m segment \u001b[38;5;129;01min\u001b[39;00m \u001b[38;5;28mlist\u001b[39m(Edge[\u001b[38;5;124m'\u001b[39m\u001b[38;5;124mgeom\u001b[39m\u001b[38;5;124m'\u001b[39m]):\n\u001b[1;32m     17\u001b[0m         \u001b[38;5;66;03m# if segment.crosses(obstacle):\u001b[39;00m\n",
      "Cell \u001b[0;32mIn[28], line 34\u001b[0m, in \u001b[0;36madd_gate\u001b[0;34m(G, Edge, Obstacle, Map, Type)\u001b[0m\n\u001b[1;32m     32\u001b[0m         G\u001b[38;5;241m.\u001b[39mGateCounter \u001b[38;5;241m+\u001b[39m\u001b[38;5;241m=\u001b[39m \u001b[38;5;241m1\u001b[39m\n\u001b[1;32m     33\u001b[0m \u001b[38;5;28;01melif\u001b[39;00m mapping(gate_geom)[\u001b[38;5;124m'\u001b[39m\u001b[38;5;124mtype\u001b[39m\u001b[38;5;124m'\u001b[39m] \u001b[38;5;241m==\u001b[39m \u001b[38;5;124m'\u001b[39m\u001b[38;5;124mMultiLineString\u001b[39m\u001b[38;5;124m'\u001b[39m:\n\u001b[0;32m---> 34\u001b[0m     \u001b[38;5;28;01mfor\u001b[39;00m gate_segment_geom \u001b[38;5;129;01min\u001b[39;00m \u001b[38;5;28;43mlist\u001b[39;49m\u001b[43m(\u001b[49m\u001b[43mgate_geom\u001b[49m\u001b[43m)\u001b[49m:\n\u001b[1;32m     35\u001b[0m         \u001b[38;5;66;03m# if gate_segment_geom not in ExistingGateList:\u001b[39;00m\n\u001b[1;32m     36\u001b[0m         \u001b[38;5;28;01mif\u001b[39;00m gate_segment_geom \u001b[38;5;129;01mnot\u001b[39;00m \u001b[38;5;129;01min\u001b[39;00m G\u001b[38;5;241m.\u001b[39mgateGeomList:\n\u001b[1;32m     37\u001b[0m             G\u001b[38;5;241m.\u001b[39mgraph\u001b[38;5;241m.\u001b[39madd_node(G\u001b[38;5;241m.\u001b[39mGateCounter, \u001b[38;5;28mid\u001b[39m\u001b[38;5;241m=\u001b[39mG\u001b[38;5;241m.\u001b[39mGateCounter,\n\u001b[1;32m     38\u001b[0m                              geom\u001b[38;5;241m=\u001b[39mgate_segment_geom, sector\u001b[38;5;241m=\u001b[39m\u001b[38;5;28;01mNone\u001b[39;00m, x_dist\u001b[38;5;241m=\u001b[39mavg_X)\n",
      "\u001b[0;31mTypeError\u001b[0m: 'MultiLineString' object is not iterable"
     ]
    }
   ],
   "source": [
    "print('### Solving Euclidean Lower Bound ###')\n",
    "loop = 0\n",
    "G.eucLB_time, eucBoundStartTime = 0, time.monotonic()\n",
    "improve_bounds = True\n",
    "\n",
    "while improve_bounds and (G.eucLB_time < 0.001*timeLimit):\n",
    "    path_exists = is_path_exists('s', 'e', G)\n",
    "    path_feasible = is_feasible_path(short_path_list, G, Map.ObstacleList)\n",
    "    path_continuous = is_route_continuous(short_path_list, G)\n",
    "\n",
    "    if path_exists and path_continuous and path_feasible:\n",
    "        improve_bounds = False\n",
    "    else:\n",
    "        if not path_feasible:\n",
    "            G = ConstructGates(G, Map, short_path_list,graphType='Euclidean')\n",
    "            G = ConnectGates_Euclidean(G)\n",
    "            short_path_list, short_path_length = get_shortest_path('s', 'e', G)\n",
    "\n",
    "        if not path_continuous:\n",
    "            G = GraphUpdate_BreakGate(G, short_path_list)\n",
    "            G = UpdatePath_Euclidean(G)\n",
    "            short_path_list, short_path_length = get_shortest_path('s', 'e', G)\n",
    "\n",
    "    print('Path: ', short_path_list)\n",
    "    G.eucLB_time = time.monotonic()-eucBoundStartTime\n",
    "    loop += 1\n",
    "    plotTitle = \"Euclidean Lower Bound (length = \" + str(round(short_path_length, 3)) + \")\"\n",
    "    PlotGstar(short_path_list, G, Map, plotTitle, save_path=imgPath+'/step_'+str(loop)+'_euc', action='display')\n",
    "\n",
    "G.eucLowerPath, G.eucLowerBound = short_path_list, short_path_length\n",
    "G.eucGraph = deepcopy(G.graph)\n",
    "\n",
    "print(nx.info(G.graph))\n",
    "print('Euclidean Lower Bound: ', G.eucLowerBound)\n",
    "print(\"Time (Euclindean Lower Bound): \", G.eucLB_time)\n",
    "plotTitle = \"Euclidean Lower Bound (length = \" + str(round(G.eucLowerBound, 3)) + \")\"\n",
    "PlotGstar(G.eucLowerPath, G, Map, plotTitle, save_path=imgPath+'/eucLB', action='display')"
   ]
  },
  {
   "cell_type": "code",
   "execution_count": null,
   "id": "eee2f9b5",
   "metadata": {},
   "outputs": [],
   "source": []
  },
  {
   "cell_type": "code",
   "execution_count": null,
   "id": "9fcf36fa",
   "metadata": {},
   "outputs": [],
   "source": []
  },
  {
   "cell_type": "code",
   "execution_count": null,
   "id": "30d9523d",
   "metadata": {},
   "outputs": [],
   "source": []
  },
  {
   "cell_type": "code",
   "execution_count": null,
   "id": "7a978e34",
   "metadata": {},
   "outputs": [],
   "source": []
  },
  {
   "cell_type": "code",
   "execution_count": 31,
   "id": "6e10fae9",
   "metadata": {
    "scrolled": false
   },
   "outputs": [
    {
     "ename": "TypeError",
     "evalue": "'MultiLineString' object is not iterable",
     "output_type": "error",
     "traceback": [
      "\u001b[0;31m---------------------------------------------------------------------------\u001b[0m",
      "\u001b[0;31mTypeError\u001b[0m                                 Traceback (most recent call last)",
      "Cell \u001b[0;32mIn[31], line 1\u001b[0m\n\u001b[0;32m----> 1\u001b[0m G \u001b[38;5;241m=\u001b[39m \u001b[43mConstructGates\u001b[49m\u001b[43m(\u001b[49m\u001b[43mG\u001b[49m\u001b[43m,\u001b[49m\u001b[43m \u001b[49m\u001b[43mMap\u001b[49m\u001b[43m,\u001b[49m\u001b[43m \u001b[49m\u001b[43mshort_path_list\u001b[49m\u001b[43m,\u001b[49m\u001b[43mgraphType\u001b[49m\u001b[38;5;241;43m=\u001b[39;49m\u001b[38;5;124;43m'\u001b[39;49m\u001b[38;5;124;43mEuclidean\u001b[39;49m\u001b[38;5;124;43m'\u001b[39;49m\u001b[43m)\u001b[49m\n",
      "Cell \u001b[0;32mIn[27], line 13\u001b[0m, in \u001b[0;36mConstructGates\u001b[0;34m(G, Map, Path, graphType)\u001b[0m\n\u001b[1;32m      9\u001b[0m \u001b[38;5;28;01mif\u001b[39;00m mapping(Edge[\u001b[38;5;124m'\u001b[39m\u001b[38;5;124mgeom\u001b[39m\u001b[38;5;124m'\u001b[39m])[\u001b[38;5;124m'\u001b[39m\u001b[38;5;124mtype\u001b[39m\u001b[38;5;124m'\u001b[39m] \u001b[38;5;241m==\u001b[39m \u001b[38;5;124m'\u001b[39m\u001b[38;5;124mLineString\u001b[39m\u001b[38;5;124m'\u001b[39m:\n\u001b[1;32m     10\u001b[0m     \u001b[38;5;66;03m# if Edge['geom'].crosses(obstacle):\u001b[39;00m\n\u001b[1;32m     11\u001b[0m     \u001b[38;5;28;01mif\u001b[39;00m \u001b[38;5;129;01mnot\u001b[39;00m is_feasible_connection(Edge, obstacle, G\u001b[38;5;241m.\u001b[39mtolerances):\n\u001b[1;32m     12\u001b[0m         \u001b[38;5;66;03m# nx.G.graph.remove_edge()\u001b[39;00m\n\u001b[0;32m---> 13\u001b[0m         G \u001b[38;5;241m=\u001b[39m \u001b[43madd_gate\u001b[49m\u001b[43m(\u001b[49m\u001b[43mG\u001b[49m\u001b[43m,\u001b[49m\u001b[43m \u001b[49m\u001b[43mEdge\u001b[49m\u001b[43m[\u001b[49m\u001b[38;5;124;43m'\u001b[39;49m\u001b[38;5;124;43mgeom\u001b[39;49m\u001b[38;5;124;43m'\u001b[39;49m\u001b[43m]\u001b[49m\u001b[43m,\u001b[49m\u001b[43m \u001b[49m\u001b[43mobstacle\u001b[49m\u001b[43m,\u001b[49m\u001b[43m \u001b[49m\u001b[43mMap\u001b[49m\u001b[43m,\u001b[49m\u001b[43m \u001b[49m\u001b[43mgraphType\u001b[49m\u001b[43m)\u001b[49m\n\u001b[1;32m     15\u001b[0m \u001b[38;5;28;01melif\u001b[39;00m mapping(Edge[\u001b[38;5;124m'\u001b[39m\u001b[38;5;124mgeom\u001b[39m\u001b[38;5;124m'\u001b[39m])[\u001b[38;5;124m'\u001b[39m\u001b[38;5;124mtype\u001b[39m\u001b[38;5;124m'\u001b[39m] \u001b[38;5;241m==\u001b[39m \u001b[38;5;124m'\u001b[39m\u001b[38;5;124mMultiLineString\u001b[39m\u001b[38;5;124m'\u001b[39m:\n\u001b[1;32m     16\u001b[0m     \u001b[38;5;28;01mfor\u001b[39;00m segment \u001b[38;5;129;01min\u001b[39;00m \u001b[38;5;28mlist\u001b[39m(Edge[\u001b[38;5;124m'\u001b[39m\u001b[38;5;124mgeom\u001b[39m\u001b[38;5;124m'\u001b[39m]):\n\u001b[1;32m     17\u001b[0m         \u001b[38;5;66;03m# if segment.crosses(obstacle):\u001b[39;00m\n",
      "Cell \u001b[0;32mIn[28], line 34\u001b[0m, in \u001b[0;36madd_gate\u001b[0;34m(G, Edge, Obstacle, Map, Type)\u001b[0m\n\u001b[1;32m     32\u001b[0m         G\u001b[38;5;241m.\u001b[39mGateCounter \u001b[38;5;241m+\u001b[39m\u001b[38;5;241m=\u001b[39m \u001b[38;5;241m1\u001b[39m\n\u001b[1;32m     33\u001b[0m \u001b[38;5;28;01melif\u001b[39;00m mapping(gate_geom)[\u001b[38;5;124m'\u001b[39m\u001b[38;5;124mtype\u001b[39m\u001b[38;5;124m'\u001b[39m] \u001b[38;5;241m==\u001b[39m \u001b[38;5;124m'\u001b[39m\u001b[38;5;124mMultiLineString\u001b[39m\u001b[38;5;124m'\u001b[39m:\n\u001b[0;32m---> 34\u001b[0m     \u001b[38;5;28;01mfor\u001b[39;00m gate_segment_geom \u001b[38;5;129;01min\u001b[39;00m \u001b[38;5;28;43mlist\u001b[39;49m\u001b[43m(\u001b[49m\u001b[43mgate_geom\u001b[49m\u001b[43m)\u001b[49m:\n\u001b[1;32m     35\u001b[0m         \u001b[38;5;66;03m# if gate_segment_geom not in ExistingGateList:\u001b[39;00m\n\u001b[1;32m     36\u001b[0m         \u001b[38;5;28;01mif\u001b[39;00m gate_segment_geom \u001b[38;5;129;01mnot\u001b[39;00m \u001b[38;5;129;01min\u001b[39;00m G\u001b[38;5;241m.\u001b[39mgateGeomList:\n\u001b[1;32m     37\u001b[0m             G\u001b[38;5;241m.\u001b[39mgraph\u001b[38;5;241m.\u001b[39madd_node(G\u001b[38;5;241m.\u001b[39mGateCounter, \u001b[38;5;28mid\u001b[39m\u001b[38;5;241m=\u001b[39mG\u001b[38;5;241m.\u001b[39mGateCounter,\n\u001b[1;32m     38\u001b[0m                              geom\u001b[38;5;241m=\u001b[39mgate_segment_geom, sector\u001b[38;5;241m=\u001b[39m\u001b[38;5;28;01mNone\u001b[39;00m, x_dist\u001b[38;5;241m=\u001b[39mavg_X)\n",
      "\u001b[0;31mTypeError\u001b[0m: 'MultiLineString' object is not iterable"
     ]
    }
   ],
   "source": [
    "G = ConstructGates(G, Map, short_path_list,graphType='Euclidean')"
   ]
  },
  {
   "cell_type": "code",
   "execution_count": 32,
   "id": "8f9c287b",
   "metadata": {},
   "outputs": [
    {
     "ename": "SyntaxError",
     "evalue": "invalid syntax (3761764947.py, line 1)",
     "output_type": "error",
     "traceback": [
      "\u001b[0;36m  Cell \u001b[0;32mIn[32], line 1\u001b[0;36m\u001b[0m\n\u001b[0;31m    G.graph.\u001b[0m\n\u001b[0m            ^\u001b[0m\n\u001b[0;31mSyntaxError\u001b[0m\u001b[0;31m:\u001b[0m invalid syntax\n"
     ]
    }
   ],
   "source": [
    "G.graph."
   ]
  },
  {
   "cell_type": "code",
   "execution_count": 33,
   "id": "fc533e4c",
   "metadata": {},
   "outputs": [
    {
     "data": {
      "image/svg+xml": [
       "<svg xmlns=\"http://www.w3.org/2000/svg\" xmlns:xlink=\"http://www.w3.org/1999/xlink\" width=\"100.0\" height=\"100.0\" viewBox=\"-0.64 3.86 17.28 1.2799999999999998\" preserveAspectRatio=\"xMinYMin meet\"><g transform=\"matrix(1,0,0,-1,0,9.0)\"><polyline fill=\"none\" stroke=\"#66cc99\" stroke-width=\"0.3456\" points=\"0.0,4.5 16.0,4.5\" opacity=\"0.8\" /></g></svg>"
      ],
      "text/plain": [
       "<LINESTRING (0 4.5, 16 4.5)>"
      ]
     },
     "execution_count": 33,
     "metadata": {},
     "output_type": "execute_result"
    }
   ],
   "source": [
    "Edge = G.graph.get_edge_data(0,1)\n",
    "Edge = Edge['geom']\n",
    "Edge"
   ]
  },
  {
   "cell_type": "code",
   "execution_count": 34,
   "id": "6cd8ae27",
   "metadata": {},
   "outputs": [],
   "source": [
    "points = Edge.intersection(Map.ObstacleList[0])"
   ]
  },
  {
   "cell_type": "code",
   "execution_count": 35,
   "id": "8052fea0",
   "metadata": {},
   "outputs": [
    {
     "data": {
      "text/plain": [
       "[(7.717878119327566, 4.5), (8.704226588619758, 4.5)]"
      ]
     },
     "execution_count": 35,
     "metadata": {},
     "output_type": "execute_result"
    }
   ],
   "source": [
    "g = list(points.coords)\n",
    "g"
   ]
  },
  {
   "cell_type": "code",
   "execution_count": 36,
   "id": "e840882d",
   "metadata": {},
   "outputs": [
    {
     "data": {
      "text/plain": [
       "8.211052353973662"
      ]
     },
     "execution_count": 36,
     "metadata": {},
     "output_type": "execute_result"
    }
   ],
   "source": [
    "avg_x = 0\n",
    "for point in g:\n",
    "    avg_x += point[0]\n",
    "    \n",
    "avg_x = avg_x/len(g)\n",
    "avg_x"
   ]
  },
  {
   "cell_type": "code",
   "execution_count": 37,
   "id": "2c989616",
   "metadata": {},
   "outputs": [],
   "source": [
    "from shapely.geometry import MultiPoint"
   ]
  },
  {
   "cell_type": "code",
   "execution_count": null,
   "id": "c2039c46",
   "metadata": {},
   "outputs": [],
   "source": []
  },
  {
   "cell_type": "code",
   "execution_count": null,
   "id": "bf975da0",
   "metadata": {},
   "outputs": [],
   "source": []
  },
  {
   "cell_type": "code",
   "execution_count": null,
   "id": "10d198dc",
   "metadata": {},
   "outputs": [],
   "source": []
  },
  {
   "cell_type": "code",
   "execution_count": 38,
   "id": "85dbae9e",
   "metadata": {},
   "outputs": [
    {
     "ename": "TypeError",
     "evalue": "'Point' object is not iterable",
     "output_type": "error",
     "traceback": [
      "\u001b[0;31m---------------------------------------------------------------------------\u001b[0m",
      "\u001b[0;31mTypeError\u001b[0m                                 Traceback (most recent call last)",
      "Cell \u001b[0;32mIn[38], line 11\u001b[0m\n\u001b[1;32m      8\u001b[0m intersection_points \u001b[38;5;241m=\u001b[39m obstacle_boundary\u001b[38;5;241m.\u001b[39mintersection(line)\n\u001b[1;32m     10\u001b[0m \u001b[38;5;66;03m# Iterate over the intersection points\u001b[39;00m\n\u001b[0;32m---> 11\u001b[0m \u001b[38;5;28;01mfor\u001b[39;00m point \u001b[38;5;129;01min\u001b[39;00m intersection_points:\n\u001b[1;32m     12\u001b[0m     \u001b[38;5;28;01mif\u001b[39;00m \u001b[38;5;28misinstance\u001b[39m(point, Point):\n\u001b[1;32m     13\u001b[0m         \u001b[38;5;28mprint\u001b[39m(\u001b[38;5;124m\"\u001b[39m\u001b[38;5;124mIntersection point:\u001b[39m\u001b[38;5;124m\"\u001b[39m, point\u001b[38;5;241m.\u001b[39mx, point\u001b[38;5;241m.\u001b[39my)\n",
      "\u001b[0;31mTypeError\u001b[0m: 'Point' object is not iterable"
     ]
    }
   ],
   "source": [
    "# Example MultiPoint boundary of an obstacle\n",
    "obstacle_boundary = MultiPoint([(0, 0), (1, 1), (2, 0), (0, 2)])\n",
    "\n",
    "# Example line to check for intersection\n",
    "line = LineString([(0, 1), (2, 1)])\n",
    "\n",
    "# Find intersection points\n",
    "intersection_points = obstacle_boundary.intersection(line)\n",
    "\n",
    "# Iterate over the intersection points\n",
    "for point in intersection_points:\n",
    "    if isinstance(point, Point):\n",
    "        print(\"Intersection point:\", point.x, point.y)\n"
   ]
  },
  {
   "cell_type": "code",
   "execution_count": null,
   "id": "9c5c3dee",
   "metadata": {},
   "outputs": [],
   "source": []
  },
  {
   "cell_type": "code",
   "execution_count": null,
   "id": "78fa0edc",
   "metadata": {},
   "outputs": [],
   "source": []
  },
  {
   "cell_type": "code",
   "execution_count": 4,
   "id": "25f1bf6f",
   "metadata": {},
   "outputs": [],
   "source": [
    "# from re import S\n",
    "import sys\n",
    "sys.path.append('DubinsLineSegToLineSeg/')\n",
    "\n",
    "from graphutils import is_path_exists, is_route_continuous, is_feasible_path, is_angle_matching, get_shortest_path\n",
    "from graphutils import ConstructGates, ConnectGates_Dubins, GraphUpdate_BreakGate, UpdatePath_Dubins, GraphUpdate_BreakAngle\n",
    "from graphutils import ConnectGates_Euclidean, UpdatePath_Euclidean, EuclideanToDubinsGraph\n",
    "from graphutils import PlotGstar\n",
    "from graphutils import Graph_Gstar\n",
    "from DubinsLineSegToLineSeg import DubinsL2L\n",
    "from map_utils import Map\n",
    "from copy import deepcopy\n",
    "import pickle as pkl\n",
    "import dubins as du\n",
    "import time\n",
    "import networkx as nx\n",
    "import numpy as np\n",
    "import csv\n",
    "import os\n",
    "import yaml\n",
    "import logging\n",
    "\n",
    "from networkx.algorithms.shortest_paths.generic import shortest_path\n",
    "# from networkx.classes.graph import Graph\n",
    "sys.path.append('DubinsLineSegToLineSeg/')\n",
    "\n",
    "step_size = 0.1\n",
    "bound_resolution = 1"
   ]
  },
  {
   "cell_type": "code",
   "execution_count": 25,
   "id": "1f910af9",
   "metadata": {},
   "outputs": [
    {
     "name": "stdout",
     "output_type": "stream",
     "text": [
      "path = './instances/map1'\n",
      "f = 'Map_i0_o10.pkl'\n",
      "\n",
      "--------------------------------------------------------------------------\n",
      "Instance:  ./instances/map1/obs_10/i_1/Map_i0_o10.pkl  Radius:  1\n",
      "Tolerances:  {'continuity': 0.1, 'angular': 15, 'polygon_intersection': 0.7, 'circle_intersection_ratio': 0.5}\n",
      "\n",
      "--------------------------------------------------------------------------\n",
      "Instance:  ./instances/map1/obs_10/i_1/Map_i0_o10.pkl  Radius:  2\n",
      "Tolerances:  {'continuity': 0.1, 'angular': 15, 'polygon_intersection': 0.7, 'circle_intersection_ratio': 0.5}\n",
      "\n",
      "--------------------------------------------------------------------------\n",
      "Instance:  ./instances/map1/obs_10/i_1/Map_i0_o10.pkl  Radius:  3\n",
      "Tolerances:  {'continuity': 0.1, 'angular': 15, 'polygon_intersection': 0.7, 'circle_intersection_ratio': 0.5}\n"
     ]
    },
    {
     "name": "stderr",
     "output_type": "stream",
     "text": [
      "/tmp/ipykernel_74253/4263643249.py:56: UserWarning: Unpickling a shapely <2.0 geometry object. Please save the pickle again; shapely 2.1 will not have this compatibility.\n",
      "  Map = pkl.load(m)\n"
     ]
    }
   ],
   "source": [
    "if __name__ == \"__main__\":\n",
    "\n",
    "    timeLimit = 1800\n",
    "    radius_list = [1, 2, 3]\n",
    "    initial_Sectors = 3\n",
    "    start_conf = (0, 4.5, 0)\n",
    "    end_conf = (16, 4.5, 0)\n",
    "    heading_restricted = True\n",
    "\n",
    "    instance_paths = ['./instances/map1']\n",
    "\n",
    "    for path in instance_paths:\n",
    "\n",
    "        print(f\"{path = }\")\n",
    "        \n",
    "        with open(path+'/tolerances.yaml') as toleances_yaml:\n",
    "            tolerances = yaml.load(toleances_yaml, Loader=yaml.FullLoader)\n",
    "#             print(f\"{tolerances = }\")\n",
    "\n",
    "        with open(path+'/heading.yaml') as heading_yaml:\n",
    "            headingAngles = yaml.load(heading_yaml, Loader=yaml.FullLoader)\n",
    "#             print(f\"{headingAngles = }\")\n",
    "\n",
    "        result_fields = ['name', 'path', 'Obstacles', 'turning_radius', 'continuity_tolerance', 'angle_tolerance', 'node_count',\n",
    "                         'edge_count', 'eucLB_NoObstacles', 'dubLB_NoObstacles', 'eucLB', 'eucLB_time', 'dubLB', 'dubLB_time',  'dubUB', 'dubUB_time']\n",
    "        \n",
    "        result_filename = path+'/results_' + time.strftime(\"%Y%m%d-%H%M%S\")+'.csv'\n",
    "\n",
    "        # writing to csv file\n",
    "        with open(result_filename, 'w') as csvfile:\n",
    "            # creating a csv writer object\n",
    "            csvwriter = csv.writer(csvfile)\n",
    "            csvwriter.writerow(result_fields)\n",
    "\n",
    "            # writing the data rows\n",
    "            instance_results = []\n",
    "            for (instance_path, dirs, files) in os.walk(path):\n",
    "#                 print(f\"{instance_path = }\")\n",
    "#                 print(f\"{dirs = }\")\n",
    "#                 print(f\"{files = }\")\n",
    "                \n",
    "                for f in files:\n",
    "#                     print(f'{f = }')\n",
    "                    if f.endswith(\".pkl\"):\n",
    "#                         print(f'f that ends with .pkl : {f = }')\n",
    "                        obstacle_count = instance_path.split(\"/\")[-2]\n",
    "#                         print(f\"{obstacle_count = }\")\n",
    "                        obstacle_count = obstacle_count.split('_')[1]\n",
    "#                         print(f\"{obstacle_count = }\")\n",
    "\n",
    "#                         # M = Map(start_conf, end_conf, (15,8), obstacle_count, shape=5)\n",
    "                        filepath = instance_path+'/' + f\n",
    "                        if f.split('_')[0] == 'Map':\n",
    "                            print(f'{f = }')\n",
    "                            m = open(filepath, 'rb')\n",
    "                            Map = pkl.load(m)\n",
    "\n",
    "                            for rho in radius_list:\n",
    "                                print( \"\\n--------------------------------------------------------------------------\")\n",
    "                                \n",
    "                                print(\"Instance: \", instance_path +'/'+f, \" Radius: \", rho)\n",
    "                                \n",
    "                                print(\"Tolerances: \", tolerances)\n",
    "                                \n",
    "                                G = Graph_Gstar(start_conf, end_conf, rho, initial_Sectors, tolerances)\n",
    "                                \n",
    "                                imgPath = instance_path+'/img/r_'+str(rho)\n",
    "                                \n",
    "                                if not os.path.exists(imgPath):\n",
    "                                    os.makedirs(imgPath)\n",
    "\n",
    "                                try:\n",
    "\n",
    "                                    start_time = time.monotonic()\n",
    "                                    # if not os.path.exists(instance_path+'/graphs/G_r'+str(rho)+'.pkl'):\n",
    "                                    try:\n",
    "                                        dubLB_path, Map, G = GstarPaths( Map, G, timeLimit, imgPath, heading_restricted, headingAngles)\n",
    "                                        PlotGstar(dubLB_path, G, Map, 'G* Lower Bound Path', save_path=instance_path+'/dub_LB_r'+str(rho), action='save')\n",
    "                                        print('test')\n",
    "\n",
    "                                        total_time = time.monotonic() - start_time\n",
    "                                        print('Time of execution: ', total_time)\n",
    "                                    except:\n",
    "                                        None\n",
    "\n",
    "                                    if not os.path.exists(instance_path+'/graphs'):\n",
    "                                        os.mkdir(instance_path+'/graphs')\n",
    "                                    G_filename = instance_path + '/graphs/G_r'+str(rho)+'.pkl'\n",
    "                                    G_file = open(G_filename, 'wb')\n",
    "                                    pkl.dump(G, G_file)\n",
    "                                    G_file.close()\n",
    "\n",
    "                                    instance_data = [\n",
    "                                        f, \n",
    "                                        filepath, \n",
    "                                        obstacle_count, \n",
    "                                        rho, \n",
    "                                        tolerances['continuity'], \n",
    "                                        tolerances['angular'], \n",
    "                                        G.graph.number_of_nodes(), \n",
    "                                        G.graph.size(), \n",
    "                                        G.eucLB_free, \n",
    "                                        G.dubLB_free, \n",
    "                                        G.eucLowerBound, \n",
    "                                        G.eucLB_time, \n",
    "                                        G.dubLowerBound, \n",
    "                                        G.dubLB_time, \n",
    "                                        G.dubUpperBound, \n",
    "                                        G.dubUB_time\n",
    "                                        ]\n",
    "                                    csvwriter.writerow(instance_data)\n",
    "\n",
    "                                except:\n",
    "                                    None"
   ]
  },
  {
   "cell_type": "code",
   "execution_count": 8,
   "id": "889e2503",
   "metadata": {},
   "outputs": [
    {
     "name": "stdout",
     "output_type": "stream",
     "text": [
      "['.ipynb_checkpoints', 'obs_10']\n",
      "[]\n",
      "['i_1']\n",
      "['graphs', 'img']\n",
      "[]\n",
      "['r_1', 'r_3', 'r_2']\n",
      "[]\n",
      "[]\n",
      "[]\n"
     ]
    }
   ],
   "source": [
    "for a,b,c in os.walk(path):\n",
    "    print(b)"
   ]
  },
  {
   "cell_type": "code",
   "execution_count": 23,
   "id": "4dfda961",
   "metadata": {},
   "outputs": [
    {
     "data": {
      "text/plain": [
       "0"
      ]
     },
     "execution_count": 23,
     "metadata": {},
     "output_type": "execute_result"
    }
   ],
   "source": [
    "G.dubUB_nodeCounter"
   ]
  },
  {
   "cell_type": "code",
   "execution_count": null,
   "id": "bb2f6b5c",
   "metadata": {},
   "outputs": [],
   "source": []
  }
 ],
 "metadata": {
  "kernelspec": {
   "display_name": "Python 3.8 (myenv)",
   "language": "python",
   "name": "myenv"
  },
  "language_info": {
   "codemirror_mode": {
    "name": "ipython",
    "version": 3
   },
   "file_extension": ".py",
   "mimetype": "text/x-python",
   "name": "python",
   "nbconvert_exporter": "python",
   "pygments_lexer": "ipython3",
   "version": "3.8.18"
  }
 },
 "nbformat": 4,
 "nbformat_minor": 5
}
