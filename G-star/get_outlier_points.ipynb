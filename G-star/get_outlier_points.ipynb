{
 "cells": [
  {
   "cell_type": "code",
   "execution_count": 1,
   "id": "c3bc408f",
   "metadata": {},
   "outputs": [],
   "source": [
    "import random\n",
    "import numpy as np\n",
    "import matplotlib.pyplot as plt\n",
    "from shapely.geometry import Polygon, Point\n",
    "\n",
    "class ObstacleMap:\n",
    "    \n",
    "    def __init__(self, StartConf: tuple, EndConf: tuple, MapBounds: tuple, ObstaclesNum: int, Shape: int):\n",
    "        \"\"\"\n",
    "        Initialize an obstacle map with given parameters.\n",
    "\n",
    "        Args:\n",
    "            StartConf (tuple): Start configuration coordinates.\n",
    "            EndConf (tuple): End configuration coordinates.\n",
    "            MapBounds (tuple): Map boundary dimensions (x_max, y_max).\n",
    "            ObstaclesNum (int): Number of obstacles to generate.\n",
    "            Shape (int): Number of sides in polygon obstacles (minimum 3).\n",
    "\n",
    "        Raises:\n",
    "            Exception: If Shape is less than 3.\n",
    "        \"\"\"\n",
    "        self.StartCoords = Point(StartConf[0], StartConf[1])\n",
    "        self.EndCoords = Point(EndConf[0], EndConf[1])\n",
    "        \n",
    "        if Shape < 3:\n",
    "            raise Exception(\"Min Num of sides in a Polygon is 3\")\n",
    "        else:\n",
    "            self.ObstacleList, self.CentroidList = self.generate_polygon_obstacles(MapBounds, ObstaclesNum, Shape)\n",
    "    \n",
    "    def __get_angles(self, num_of_sides: int) -> list:\n",
    "        \"\"\"\n",
    "        Generate a list of angles for the vertices of a polygon.\n",
    "\n",
    "        Args:\n",
    "            num_of_sides (int): Number of sides in the polygon.\n",
    "\n",
    "        Returns:\n",
    "            list: List of angles in radians.\n",
    "        \"\"\"\n",
    "        random_numbers = [random.uniform(0, 1) for _ in range(num_of_sides)]\n",
    "        normalized_numbers = [num / sum(random_numbers) for num in random_numbers]\n",
    "        angles = np.cumsum([2*np.pi * x for x in normalized_numbers])\n",
    "        angles_list = list(angles)\n",
    "        return angles_list\n",
    "    \n",
    "    def __get_vertices(self, center: np.array, radius: float, angles_list: list):\n",
    "        \"\"\"\n",
    "        Calculate vertices of a polygon based on center, radius, and angles.\n",
    "\n",
    "        Args:\n",
    "            center (np.array): Center coordinates of the polygon.\n",
    "            radius (float): Radius of the polygon.\n",
    "            angles_list (list): List of angles in radians.\n",
    "\n",
    "        Returns:\n",
    "            np.array: Array of vertices for the polygon.\n",
    "        \"\"\"\n",
    "        vertices = np.array([center + np.array([radius*np.cos(angle), radius*np.sin(angle)]) for angle in angles_list])\n",
    "        return vertices\n",
    "    \n",
    "    def generate_polygon_obstacles(self, MapBounds: tuple, ObstaclesNum: int, Shape: int):\n",
    "        \"\"\"\n",
    "        Generate a list of polygon obstacles.\n",
    "\n",
    "        Args:\n",
    "            MapBounds (tuple): Map boundary dimensions (x_max, y_max).\n",
    "            ObstaclesNum (int): Number of obstacles to generate.\n",
    "            Shape (int): Number of sides in polygon obstacles.\n",
    "\n",
    "        Returns:\n",
    "            list: List of Shapely Polygon obstacles.\n",
    "        \"\"\"\n",
    "        xmin, xmax = 0, MapBounds[0]\n",
    "        ymin, ymax = 0, MapBounds[1]\n",
    "        min_distance = 0.5\n",
    "        ObstacleList = []\n",
    "        CentroidList = []\n",
    "        count = 0\n",
    "        while count < ObstaclesNum:\n",
    "            radius = random.uniform(0.07, 0.08) * xmax\n",
    "            center = np.array([np.random.rand() * xmax, np.random.rand() * ymax])\n",
    "            \n",
    "            if Shape == 3:\n",
    "                pshape = 3\n",
    "            else:\n",
    "                pshape = np.random.randint(low=3, high=Shape)\n",
    "            \n",
    "            angles_list = self.__get_angles(pshape)\n",
    "            vertices = self.__get_vertices(center, radius, angles_list)\n",
    "            polygon = Polygon(vertices)\n",
    "            x, y = polygon.exterior.xy\n",
    "            \n",
    "            intersects = False\n",
    "            for existing_obstacle in ObstacleList:\n",
    "                if polygon.intersects(existing_obstacle) or polygon.distance(existing_obstacle) < min_distance or \\\n",
    "                polygon.intersects(self.StartCoords) or polygon.intersects(self.EndCoords) or \\\n",
    "                np.any(x < (self.StartCoords.x + 0.5)) or np.any(x > (self.EndCoords.x - 0.5)):\n",
    "                    intersects = True\n",
    "                    break\n",
    "            \n",
    "            if not intersects:\n",
    "                ObstacleList.append(polygon)\n",
    "                \n",
    "                CentroidList.append(list(polygon.centroid.coords))\n",
    "                count += 1\n",
    "                \n",
    "                \n",
    "        \n",
    "                \n",
    "                \n",
    "                \n",
    "        \n",
    "        return ObstacleList, CentroidList\n",
    "    \n",
    "    def generate_plot(self):\n",
    "        \"\"\"\n",
    "        Generate a plot to visualize the obstacle map.\n",
    "        \"\"\"\n",
    "        plt.axis('equal')\n",
    "        for obstacle in self.ObstacleList:\n",
    "            x, y = obstacle.exterior.xy\n",
    "            plt.fill(x, y, c=\"blue\")\n",
    "            \n",
    "        plt.plot(self.StartCoords.x, self.StartCoords.y, \"X\", color =\"black\")\n",
    "        plt.plot(self.EndCoords.x, self.EndCoords.y, \"X\", color = \"black\")\n",
    "        plt.show()\n"
   ]
  },
  {
   "cell_type": "code",
   "execution_count": 2,
   "id": "2edc1523",
   "metadata": {},
   "outputs": [],
   "source": [
    "StartConf = (0.5, 5, 5.78)\n",
    "EndConf = (9.5, 5, 2.79)\n",
    "MapBounds=(10.0, 10.0)\n",
    "ObstaclesNum=15\n",
    "Shape=6"
   ]
  },
  {
   "cell_type": "code",
   "execution_count": 3,
   "id": "78aa05d7",
   "metadata": {},
   "outputs": [],
   "source": [
    "M = ObstacleMap(StartConf, EndConf, MapBounds, ObstaclesNum, Shape)"
   ]
  },
  {
   "cell_type": "code",
   "execution_count": 4,
   "id": "55030537",
   "metadata": {},
   "outputs": [],
   "source": [
    "points = np.array(M.CentroidList)\n",
    "points = points.reshape(-1,2)"
   ]
  },
  {
   "cell_type": "code",
   "execution_count": 5,
   "id": "30bd3056",
   "metadata": {},
   "outputs": [
    {
     "data": {
      "text/plain": [
       "array([[ 5.70392043,  9.45887681],\n",
       "       [ 6.53674015,  1.15326361],\n",
       "       [ 2.49171321,  5.73866341],\n",
       "       [ 3.7292483 ,  7.7407258 ],\n",
       "       [ 3.33239039,  2.74627381],\n",
       "       [ 5.92031486,  3.01071405],\n",
       "       [ 2.23720614,  9.74585335],\n",
       "       [ 7.01006051,  7.33532516],\n",
       "       [ 2.16111317,  0.63817359],\n",
       "       [ 5.25157902,  5.94328961],\n",
       "       [ 7.50866457,  8.68257903],\n",
       "       [ 8.1133674 ,  3.11255238],\n",
       "       [ 6.86325105,  4.81079026],\n",
       "       [ 1.84652595,  2.48186243],\n",
       "       [ 6.84546421, -0.02710829]])"
      ]
     },
     "execution_count": 5,
     "metadata": {},
     "output_type": "execute_result"
    }
   ],
   "source": [
    "points"
   ]
  },
  {
   "cell_type": "code",
   "execution_count": 6,
   "id": "79b9a635",
   "metadata": {},
   "outputs": [],
   "source": [
    "x = points[:,0]\n",
    "y = points[:,1]"
   ]
  },
  {
   "cell_type": "code",
   "execution_count": 7,
   "id": "521e1449",
   "metadata": {},
   "outputs": [
    {
     "data": {
      "text/plain": [
       "<matplotlib.collections.PathCollection at 0x7f61dd78b5b0>"
      ]
     },
     "execution_count": 7,
     "metadata": {},
     "output_type": "execute_result"
    },
    {
     "data": {
      "image/png": "[encoded data removed]",
      "text/plain": [
       "<Figure size 640x480 with 1 Axes>"
      ]
     },
     "metadata": {},
     "output_type": "display_data"
    }
   ],
   "source": [
    "plt.xlim(-2,12)\n",
    "plt.ylim(-2,12)\n",
    "plt.scatter(x, y)"
   ]
  },
  {
   "cell_type": "code",
   "execution_count": 8,
   "id": "1cda13c9",
   "metadata": {},
   "outputs": [
    {
     "ename": "NameError",
     "evalue": "name 'ConvexHull' is not defined",
     "output_type": "error",
     "traceback": [
      "\u001b[0;31m---------------------------------------------------------------------------\u001b[0m",
      "\u001b[0;31mNameError\u001b[0m                                 Traceback (most recent call last)",
      "Cell \u001b[0;32mIn[8], line 2\u001b[0m\n\u001b[1;32m      1\u001b[0m unique_coords \u001b[38;5;241m=\u001b[39m np\u001b[38;5;241m.\u001b[39munique(points, axis\u001b[38;5;241m=\u001b[39m\u001b[38;5;241m0\u001b[39m)\n\u001b[0;32m----> 2\u001b[0m hull \u001b[38;5;241m=\u001b[39m \u001b[43mConvexHull\u001b[49m(unique_coords)\n\u001b[1;32m      3\u001b[0m convex_hull_vertices \u001b[38;5;241m=\u001b[39m hull\u001b[38;5;241m.\u001b[39mpoints[hull\u001b[38;5;241m.\u001b[39mvertices]\n\u001b[1;32m      5\u001b[0m plt\u001b[38;5;241m.\u001b[39mxlim(\u001b[38;5;241m-\u001b[39m\u001b[38;5;241m2\u001b[39m,\u001b[38;5;241m12\u001b[39m)\n",
      "\u001b[0;31mNameError\u001b[0m: name 'ConvexHull' is not defined"
     ]
    }
   ],
   "source": [
    "unique_coords = np.unique(points, axis=0)\n",
    "hull = ConvexHull(unique_coords)\n",
    "convex_hull_vertices = hull.points[hull.vertices]\n",
    "\n",
    "plt.xlim(-2,12)\n",
    "plt.ylim(-2,12)\n",
    "plt.scatter(convex_hull_vertices[:,0], convex_hull_vertices[:,1])"
   ]
  },
  {
   "cell_type": "code",
   "execution_count": null,
   "id": "296d0d86",
   "metadata": {},
   "outputs": [],
   "source": []
  },
  {
   "cell_type": "code",
   "execution_count": 9,
   "id": "11e5e5cb",
   "metadata": {},
   "outputs": [
    {
     "name": "stdout",
     "output_type": "stream",
     "text": [
      "Vertices of the largest convex polygon:\n",
      "[[ 2.2372067   9.7458535 ]\n",
      " [ 1.84652537  2.48186311]\n",
      " [ 2.1611124   0.63817282]\n",
      " [ 6.84546393 -0.02710877]\n",
      " [ 8.11336647  3.11255213]\n",
      " [ 7.50866491  8.68257818]\n",
      " [ 5.70391977  9.45887622]]\n"
     ]
    }
   ],
   "source": [
    "from scipy.spatial import ConvexHull\n",
    "import numpy as np\n",
    "\n",
    "def preprocess_coordinates(coordinates, epsilon=1e-6):\n",
    "    unique_coords = np.unique(coordinates, axis=0)\n",
    "    perturbed_coords = unique_coords + np.random.uniform(-epsilon, epsilon, size=unique_coords.shape)\n",
    "    return perturbed_coords\n",
    "\n",
    "def largest_convex_polygon_vertices(coordinates):\n",
    "    hull = ConvexHull(coordinates)\n",
    "    convex_hull_vertices = hull.points[hull.vertices]\n",
    "    return convex_hull_vertices\n",
    "\n",
    "# Example random coordinates (replace with your own)\n",
    "coordinates = np.array([\n",
    "    [1, 2],\n",
    "    [3, 4],\n",
    "    [5, 6],\n",
    "    [7, 8],\n",
    "    [9, 10]\n",
    "])\n",
    "\n",
    "preprocessed_coords = preprocess_coordinates(points)\n",
    "largest_polygon_vertices = largest_convex_polygon_vertices(preprocessed_coords)\n",
    "print(\"Vertices of the largest convex polygon:\")\n",
    "print(largest_polygon_vertices)\n"
   ]
  },
  {
   "cell_type": "code",
   "execution_count": null,
   "id": "4ca00b49",
   "metadata": {},
   "outputs": [],
   "source": []
  },
  {
   "cell_type": "code",
   "execution_count": 10,
   "id": "46820610",
   "metadata": {},
   "outputs": [
    {
     "data": {
      "text/plain": [
       "<matplotlib.collections.PathCollection at 0x7f61cac851f0>"
      ]
     },
     "execution_count": 10,
     "metadata": {},
     "output_type": "execute_result"
    },
    {
     "data": {
      "image/png": "[encoded data removed]",
      "text/plain": [
       "<Figure size 640x480 with 1 Axes>"
      ]
     },
     "metadata": {},
     "output_type": "display_data"
    }
   ],
   "source": [
    "plt.xlim(-2,12)\n",
    "plt.ylim(-2,12)\n",
    "plt.scatter(x, y)"
   ]
  },
  {
   "cell_type": "code",
   "execution_count": 11,
   "id": "2b64bbcc",
   "metadata": {},
   "outputs": [
    {
     "data": {
      "text/plain": [
       "<function __main__.largest_convex_polygon_vertices(coordinates)>"
      ]
     },
     "execution_count": 11,
     "metadata": {},
     "output_type": "execute_result"
    }
   ],
   "source": [
    "largest_convex_polygon_vertices"
   ]
  },
  {
   "cell_type": "code",
   "execution_count": 12,
   "id": "b55dfd9c",
   "metadata": {},
   "outputs": [
    {
     "data": {
      "text/plain": [
       "array([[ 5.70392043,  9.45887681],\n",
       "       [ 6.53674015,  1.15326361],\n",
       "       [ 2.49171321,  5.73866341],\n",
       "       [ 3.7292483 ,  7.7407258 ],\n",
       "       [ 3.33239039,  2.74627381],\n",
       "       [ 5.92031486,  3.01071405],\n",
       "       [ 2.23720614,  9.74585335],\n",
       "       [ 7.01006051,  7.33532516],\n",
       "       [ 2.16111317,  0.63817359],\n",
       "       [ 5.25157902,  5.94328961],\n",
       "       [ 7.50866457,  8.68257903],\n",
       "       [ 8.1133674 ,  3.11255238],\n",
       "       [ 6.86325105,  4.81079026],\n",
       "       [ 1.84652595,  2.48186243],\n",
       "       [ 6.84546421, -0.02710829]])"
      ]
     },
     "execution_count": 12,
     "metadata": {},
     "output_type": "execute_result"
    }
   ],
   "source": [
    "points"
   ]
  },
  {
   "cell_type": "code",
   "execution_count": 13,
   "id": "a69fe131",
   "metadata": {},
   "outputs": [
    {
     "data": {
      "text/plain": [
       "array([[ 2.2372067 ,  9.7458535 ],\n",
       "       [ 1.84652537,  2.48186311],\n",
       "       [ 2.1611124 ,  0.63817282],\n",
       "       [ 6.84546393, -0.02710877],\n",
       "       [ 8.11336647,  3.11255213],\n",
       "       [ 7.50866491,  8.68257818],\n",
       "       [ 5.70391977,  9.45887622]])"
      ]
     },
     "execution_count": 13,
     "metadata": {},
     "output_type": "execute_result"
    }
   ],
   "source": [
    "largest_polygon_vertices"
   ]
  },
  {
   "cell_type": "code",
   "execution_count": 14,
   "id": "97f077a8",
   "metadata": {},
   "outputs": [
    {
     "data": {
      "text/plain": [
       "array([[ 1.84652595,  2.48186243],\n",
       "       [ 2.16111317,  0.63817359],\n",
       "       [ 2.23720614,  9.74585335],\n",
       "       [ 2.49171321,  5.73866341],\n",
       "       [ 3.33239039,  2.74627381],\n",
       "       [ 3.7292483 ,  7.7407258 ],\n",
       "       [ 5.25157902,  5.94328961],\n",
       "       [ 5.70392043,  9.45887681],\n",
       "       [ 5.92031486,  3.01071405],\n",
       "       [ 6.53674015,  1.15326361],\n",
       "       [ 6.84546421, -0.02710829],\n",
       "       [ 6.86325105,  4.81079026],\n",
       "       [ 7.01006051,  7.33532516],\n",
       "       [ 7.50866457,  8.68257903],\n",
       "       [ 8.1133674 ,  3.11255238]])"
      ]
     },
     "execution_count": 14,
     "metadata": {},
     "output_type": "execute_result"
    }
   ],
   "source": [
    "x = np.unique(points, axis=0)\n",
    "x"
   ]
  },
  {
   "cell_type": "code",
   "execution_count": 15,
   "id": "2354747f",
   "metadata": {},
   "outputs": [
    {
     "data": {
      "text/plain": [
       "array([[ 5.70392043,  9.45887681],\n",
       "       [ 6.53674015,  1.15326361],\n",
       "       [ 2.49171321,  5.73866341],\n",
       "       [ 3.7292483 ,  7.7407258 ],\n",
       "       [ 3.33239039,  2.74627381],\n",
       "       [ 5.92031486,  3.01071405],\n",
       "       [ 2.23720614,  9.74585335],\n",
       "       [ 7.01006051,  7.33532516],\n",
       "       [ 2.16111317,  0.63817359],\n",
       "       [ 5.25157902,  5.94328961],\n",
       "       [ 7.50866457,  8.68257903],\n",
       "       [ 8.1133674 ,  3.11255238],\n",
       "       [ 6.86325105,  4.81079026],\n",
       "       [ 1.84652595,  2.48186243],\n",
       "       [ 6.84546421, -0.02710829]])"
      ]
     },
     "execution_count": 15,
     "metadata": {},
     "output_type": "execute_result"
    }
   ],
   "source": [
    "points"
   ]
  },
  {
   "cell_type": "code",
   "execution_count": 16,
   "id": "6daa4ce4",
   "metadata": {},
   "outputs": [
    {
     "data": {
      "text/plain": [
       "array([[-5.65658702e-07,  1.68040070e-07],\n",
       "       [-1.11686016e-07,  4.19072944e-07],\n",
       "       [ 3.83135927e-07, -9.60934663e-07],\n",
       "       [-4.06480205e-08,  7.80232166e-07],\n",
       "       [ 3.96565108e-07, -8.57076985e-08],\n",
       "       [ 1.33623594e-08, -3.40084897e-08],\n",
       "       [ 3.53454661e-07,  5.13572390e-07],\n",
       "       [ 6.68030956e-07,  9.31637606e-07],\n",
       "       [-3.43206777e-07, -8.48193227e-08],\n",
       "       [ 8.91315223e-08, -3.47460988e-07],\n",
       "       [-6.38247341e-07, -6.89574294e-08],\n",
       "       [ 8.17087477e-07, -1.74888337e-10],\n",
       "       [ 4.83345667e-07, -4.36393284e-07],\n",
       "       [ 1.33285434e-07, -2.97511912e-07],\n",
       "       [-3.09524234e-07, -6.11217034e-07]])"
      ]
     },
     "execution_count": 16,
     "metadata": {},
     "output_type": "execute_result"
    }
   ],
   "source": [
    "y = np.random.uniform(-1e-6,1e-6, size = points.shape)\n",
    "y"
   ]
  },
  {
   "cell_type": "code",
   "execution_count": 17,
   "id": "3ddb41d6",
   "metadata": {},
   "outputs": [
    {
     "data": {
      "text/plain": [
       "array([[ 1.84652538,  2.48186259],\n",
       "       [ 2.16111306,  0.63817401],\n",
       "       [ 2.23720653,  9.74585239],\n",
       "       [ 2.49171317,  5.73866419],\n",
       "       [ 3.33239078,  2.74627372],\n",
       "       [ 3.72924832,  7.74072576],\n",
       "       [ 5.25157937,  5.94329012],\n",
       "       [ 5.7039211 ,  9.45887774],\n",
       "       [ 5.92031452,  3.01071396],\n",
       "       [ 6.53674024,  1.15326327],\n",
       "       [ 6.84546358, -0.02710836],\n",
       "       [ 6.86325187,  4.81079026],\n",
       "       [ 7.01006099,  7.33532472],\n",
       "       [ 7.5086647 ,  8.68257873],\n",
       "       [ 8.11336709,  3.11255177]])"
      ]
     },
     "execution_count": 17,
     "metadata": {},
     "output_type": "execute_result"
    }
   ],
   "source": [
    "x + y"
   ]
  },
  {
   "cell_type": "code",
   "execution_count": null,
   "id": "2d194a41",
   "metadata": {},
   "outputs": [],
   "source": []
  },
  {
   "cell_type": "code",
   "execution_count": null,
   "id": "4fde6cc2",
   "metadata": {},
   "outputs": [],
   "source": []
  }
 ],
 "metadata": {
  "kernelspec": {
   "display_name": "Python 3.8 (myenv)",
   "language": "python",
   "name": "myenv"
  },
  "language_info": {
   "codemirror_mode": {
    "name": "ipython",
    "version": 3
   },
   "file_extension": ".py",
   "mimetype": "text/x-python",
   "name": "python",
   "nbconvert_exporter": "python",
   "pygments_lexer": "ipython3",
   "version": "3.8.18"
  }
 },
 "nbformat": 4,
 "nbformat_minor": 5
}
