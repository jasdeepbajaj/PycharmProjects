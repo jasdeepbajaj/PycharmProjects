{
 "cells": [
  {
   "cell_type": "code",
   "execution_count": 16,
   "id": "ba1fa757",
   "metadata": {},
   "outputs": [
    {
     "name": "stdout",
     "output_type": "stream",
     "text": [
      "\n",
      "--------------------------------------------------------------------------\n",
      "Instance:  ./instances/map1/obs_10/i_1/Map_i0_o10.pkl  Radius:  1\n",
      "Tolerances:  {'continuity': 0.1, 'angular': 15, 'polygon_intersection': 0.7, 'circle_intersection_ratio': 0.5}\n",
      "Euclidean Upper Bound (No Obstacles):  16.0\n",
      "Dubins Upper Bound (No Obstacles):  17.27956949581917\n",
      "### Solving Euclidean Lower Bound ###\n",
      "\n",
      "--------------------------------------------------------------------------\n",
      "Instance:  ./instances/map1/obs_10/i_1/Map_i0_o10.pkl  Radius:  2\n",
      "Tolerances:  {'continuity': 0.1, 'angular': 15, 'polygon_intersection': 0.7, 'circle_intersection_ratio': 0.5}\n",
      "Euclidean Upper Bound (No Obstacles):  16.0\n",
      "Dubins Upper Bound (No Obstacles):  18.944265969213614\n",
      "### Solving Euclidean Lower Bound ###\n",
      "\n",
      "--------------------------------------------------------------------------\n",
      "Instance:  ./instances/map1/obs_10/i_1/Map_i0_o10.pkl  Radius:  3\n",
      "Tolerances:  {'continuity': 0.1, 'angular': 15, 'polygon_intersection': 0.7, 'circle_intersection_ratio': 0.5}\n",
      "Euclidean Upper Bound (No Obstacles):  16.0\n",
      "Dubins Upper Bound (No Obstacles):  21.264214093935287\n",
      "### Solving Euclidean Lower Bound ###\n"
     ]
    },
    {
     "name": "stderr",
     "output_type": "stream",
     "text": [
      "/tmp/ipykernel_40638/699480505.py:235: UserWarning: Unpickling a shapely <2.0 geometry object. Please save the pickle again; shapely 2.1 will not have this compatibility.\n",
      "  Map = pkl.load(m)\n"
     ]
    }
   ],
   "source": [
    "# Author: Abhishek Nayak\n",
    "# from re import S\n",
    "import sys\n",
    "sys.path.append('DubinsLineSegToLineSeg/')\n",
    "\n",
    "from graphutils import is_path_exists, is_route_continuous, is_feasible_path, is_angle_matching, get_shortest_path\n",
    "from graphutils import ConstructGates, ConnectGates_Dubins, GraphUpdate_BreakGate, UpdatePath_Dubins, GraphUpdate_BreakAngle\n",
    "from graphutils import ConnectGates_Euclidean, UpdatePath_Euclidean, EuclideanToDubinsGraph\n",
    "from graphutils import PlotGstar\n",
    "from graphutils import Graph_Gstar\n",
    "from DubinsLineSegToLineSeg import DubinsL2L\n",
    "from map_utils import Map\n",
    "from copy import deepcopy\n",
    "import pickle as pkl\n",
    "import dubins as du\n",
    "import time\n",
    "import networkx as nx\n",
    "import numpy as np\n",
    "import csv\n",
    "import os\n",
    "import yaml\n",
    "import logging\n",
    "\n",
    "from networkx.algorithms.shortest_paths.generic import shortest_path\n",
    "# from networkx.classes.graph import Graph\n",
    "sys.path.append('DubinsLineSegToLineSeg/')\n",
    "\n",
    "step_size = 0.1\n",
    "bound_resolution = 1\n",
    "\n",
    "\n",
    "def GstarPaths(Map, G, timeLimit, imgPath, heading_restricted, headingAngles):\n",
    "\n",
    "    '''\n",
    "    This function computes the Euclidean and Dubins lower and upper bounds of the shortest path\n",
    "    between the start and goal points in the input Map. If the shortest path is feasible, the\n",
    "    function terminates. Otherwise, it constructs and connects gates to update the graph and\n",
    "    continues the computation until the shortest path is feasible or the time limit is reached.\n",
    "\n",
    "    Args:\n",
    "    - Map: An object of the Map class, containing the obstacles and start and goal points\n",
    "    - G: An object of the Graph class, containing the nodes and edges of the graph\n",
    "    - timeLimit: The maximum computation time allowed for finding the shortest path\n",
    "    - imgPath: The path where the images of the computed paths will be saved\n",
    "    - heading_restricted: A boolean indicating whether the heading angles at the start and goal\n",
    "                          points are restricted or not\n",
    "    - headingAngles: A dictionary containing the restricted heading angles at the start and goal\n",
    "                     points (if any)\n",
    "\n",
    "    Returns:\n",
    "        A tuple containing the lower bounds of the G* algorithm, the map object, and the GStarGraph object.\n",
    "    '''\n",
    "\n",
    "    # Compute the Euclidean upper bound of the shortest path\n",
    "    eucBoundStartTime = time.monotonic()\n",
    "    short_path_list, G.eucLB_free = get_shortest_path('s', 'e', G)\n",
    "\n",
    "    if heading_restricted:\n",
    "        outAngle = headingAngles['startAngle']*np.pi/180\n",
    "        inAngle = headingAngles['goalAngle']*np.pi/180\n",
    "    else:\n",
    "        outAngle, inAngle = 0, 0\n",
    "\n",
    "    # Compute the Dubins upper bound of the shortest path\n",
    "    delta = 0.001\n",
    "    dubLB_free = DubinsL2L.Line2LineDubins(G.LineStart, (outAngle-delta, outAngle+delta), G.LineEnd, (inAngle-delta, inAngle+delta), G.rho)\n",
    "    G.dubLB_free, minPath = dubLB_free.MinDub_L2L()\n",
    "\n",
    "    # Print the Euclidean and Dubins upper bounds\n",
    "    print(\"Euclidean Upper Bound (No Obstacles): \", G.eucLB_free)\n",
    "    print(\"Dubins Upper Bound (No Obstacles): \", G.dubLB_free)\n",
    "\n",
    "    ''' Step 1: Construct Euclidean Lower bounds '''\n",
    "    if not is_feasible_path(short_path_list, G, Map.ObstacleList):\n",
    "        improve_bounds = True\n",
    "    else:\n",
    "        improve_bounds = False\n",
    "\n",
    "    print('### Solving Euclidean Lower Bound ###')\n",
    "    loop = 0\n",
    "    G.eucLB_time, eucBoundStartTime = 0, time.monotonic()\n",
    "    improve_bounds = True\n",
    "    \n",
    "    while improve_bounds and (G.eucLB_time < 0.001*timeLimit):\n",
    "        path_exists = is_path_exists('s', 'e', G)\n",
    "        path_feasible = is_feasible_path(short_path_list, G, Map.ObstacleList)\n",
    "        path_continuous = is_route_continuous(short_path_list, G)\n",
    "\n",
    "        if path_exists and path_continuous and path_feasible:\n",
    "            improve_bounds = False\n",
    "        else:\n",
    "            if not path_feasible:\n",
    "                G = ConstructGates(G, Map, short_path_list,graphType='Euclidean')\n",
    "                G = ConnectGates_Euclidean(G)\n",
    "                short_path_list, short_path_length = get_shortest_path('s', 'e', G)\n",
    "\n",
    "            if not path_continuous:\n",
    "                G = GraphUpdate_BreakGate(G, short_path_list)\n",
    "                G = UpdatePath_Euclidean(G)\n",
    "                short_path_list, short_path_length = get_shortest_path('s', 'e', G)\n",
    "        \n",
    "        print('Path: ', short_path_list)\n",
    "        G.eucLB_time = time.monotonic()-eucBoundStartTime\n",
    "        loop += 1\n",
    "        plotTitle = \"Euclidean Lower Bound (length = \" + str(round(short_path_length, 3)) + \")\"\n",
    "        PlotGstar(short_path_list, G, Map, plotTitle, save_path=imgPath+'/step_'+str(loop)+'_euc', action='save')\n",
    "\n",
    "    G.eucLowerPath, G.eucLowerBound = short_path_list, short_path_length\n",
    "    G.eucGraph = deepcopy(G.graph)\n",
    "\n",
    "    print(nx.info(G.graph))\n",
    "    print('Euclidean Lower Bound: ', G.eucLowerBound)\n",
    "    print(\"Time (Euclindean Lower Bound): \", G.eucLB_time)\n",
    "    plotTitle = \"Euclidean Lower Bound (length = \" + str(round(G.eucLowerBound, 3)) + \")\"\n",
    "    PlotGstar(G.eucLowerPath, G, Map, plotTitle, save_path=imgPath+'/eucLB', action='save')\n",
    "\n",
    "    \"\"\" Step 2:  Compute Dubins Lower Bound \"\"\"\n",
    "    print('### Solving Dubins Lower Bound ###')\n",
    "    times, Gstar_path_lengths = [], []\n",
    "    dubBoundStartTime = time.monotonic()\n",
    "    improve_bounds = True\n",
    "\n",
    "    G = EuclideanToDubinsGraph(G, heading_restricted, startAngle=outAngle, goalAngle=inAngle)\n",
    "    G = ConnectGates_Dubins(G)\n",
    "\n",
    "    short_path_list, short_path_length = get_shortest_path('s', 'e', G)\n",
    "    times.append(time.monotonic() - dubBoundStartTime)\n",
    "    Gstar_path_lengths.append(short_path_length)\n",
    "    loop += 1\n",
    "    \n",
    "    plotTitle = \"G* (length = \" + str(round(short_path_length, 3)) + \")\"\n",
    "    PlotGstar(short_path_list, G, Map, plotTitle, save_path=imgPath +'/step_'+str(loop)+'_dub', action='save')\n",
    "\n",
    "    print(short_path_list)\n",
    "    print('G* lower bound distance: ', short_path_length)\n",
    "    # PlotGstar(short_path_list, G.graph, self.Map, loop, title)\n",
    "    G.dubLB_time = time.monotonic()-dubBoundStartTime\n",
    "\n",
    "    '''### G* lower bounds ###'''\n",
    "    '''### REPLACE EUCLIDEAN PATHS WITH DubLineToLine ###'''\n",
    "    while improve_bounds and (G.dubLB_time < timeLimit):\n",
    "        path_exists = is_path_exists('s', 'e', G)\n",
    "        path_feasible = is_feasible_path(short_path_list, G, Map.ObstacleList)\n",
    "        path_continuous = is_route_continuous(short_path_list, G)\n",
    "        angle_matching = is_angle_matching(short_path_list, G)\n",
    "\n",
    "        if path_exists and path_continuous and path_feasible and angle_matching:\n",
    "            improve_bounds = False\n",
    "            # break\n",
    "        else:\n",
    "            if not path_feasible:\n",
    "                logging.info('loop {}', loop)\n",
    "                logging.info('Constructing New Gates...')\n",
    "                G = ConstructGates(G, Map, short_path_list, graphType='Dubins')\n",
    "                G = ConnectGates_Dubins(G)\n",
    "                short_path_list, short_path_length = get_shortest_path('s', 'e', G)\n",
    "                # PlotGstar(short_path_list, G, Map, title, save_path='./images', action='save')\n",
    "\n",
    "            if not path_continuous:\n",
    "                logging.info('Breaking Gates...')\n",
    "                G = GraphUpdate_BreakGate(G, short_path_list)\n",
    "                # G = ConnectGates_Dubins(G)\n",
    "                G = UpdatePath_Dubins(G)\n",
    "                short_path_list, short_path_length = get_shortest_path('s', 'e', G)\n",
    "                # PlotGstar(short_path_list, G, Map, title, save_path='./images', action='display')\n",
    "\n",
    "            if not angle_matching:\n",
    "                logging.info('Optimizing Angle...')\n",
    "                G = GraphUpdate_BreakAngle(G, short_path_list)\n",
    "                ## G = ConnectGates_Dubins(G)\n",
    "                G = UpdatePath_Dubins(G)\n",
    "                short_path_list, short_path_length = get_shortest_path('s', 'e', G)\n",
    "                # PlotGstar(short_path_list, G, Map, title, save_path='./images', action='display')\n",
    "\n",
    "            G.dubLB_time = time.monotonic()-dubBoundStartTime\n",
    "            times.append(G.dubLB_time)\n",
    "            Gstar_path_lengths.append(short_path_length)\n",
    "            loop += 1\n",
    "            plotTitle = \"G* (length = \" + str(round(short_path_length, 3)) + \")\"\n",
    "            PlotGstar(short_path_list, G, Map, plotTitle, save_path=imgPath+'/step_'+str(loop)+'_dub', action='save')\n",
    "            \n",
    "    \n",
    "    # short_path_list, short_path_length = get_shortest_path('s', 'e', G)\n",
    "    G.dubLowerPath, G.dubLowerBound = short_path_list, short_path_length\n",
    "    print(\"G* Bound Time: \", G.dubLB_time)\n",
    "    print(\"G* Path: \", G.dubLowerPath)\n",
    "    print('G* lower bound distance: ', G.dubLowerBound)\n",
    "    plotTitle = \"G* (length = \" + str(round(G.dubLowerBound, 3)) + \")\"\n",
    "\n",
    "    return G.dubLowerPath, Map, G\n",
    "\n",
    "\n",
    "if __name__ == \"__main__\":\n",
    "\n",
    "    timeLimit = 1800\n",
    "    radius_list = [1, 2, 3]\n",
    "    initial_Sectors = 3\n",
    "    start_conf = (0, 4.5, 0)\n",
    "    end_conf = (16, 4.5, 0)\n",
    "    heading_restricted = True\n",
    "\n",
    "    instance_paths = ['./instances/map1']\n",
    "\n",
    "    for path in instance_paths:\n",
    "\n",
    "        with open(path+'/tolerances.yaml') as toleances_yaml:\n",
    "            tolerances = yaml.load(toleances_yaml, Loader=yaml.FullLoader)\n",
    "\n",
    "        with open(path+'/heading.yaml') as heading_yaml:\n",
    "            headingAngles = yaml.load(heading_yaml, Loader=yaml.FullLoader)\n",
    "\n",
    "        result_fields = ['name', 'path', 'Obstacles', 'turning_radius', 'continuity_tolerance', 'angle_tolerance', 'node_count',\n",
    "                         'edge_count', 'eucLB_NoObstacles', 'dubLB_NoObstacles', 'eucLB', 'eucLB_time', 'dubLB', 'dubLB_time',  'dubUB', 'dubUB_time']\n",
    "        result_filename = path+'/results_' + \\\n",
    "            time.strftime(\"%Y%m%d-%H%M%S\")+'.csv'\n",
    "\n",
    "        # writing to csv file\n",
    "        with open(result_filename, 'w') as csvfile:\n",
    "            # creating a csv writer object\n",
    "            csvwriter = csv.writer(csvfile)\n",
    "            csvwriter.writerow(result_fields)\n",
    "\n",
    "            # writing the data rows\n",
    "            instance_results = []\n",
    "            for (instance_path, dirs, files) in os.walk(path):\n",
    "                for f in files:\n",
    "                    if f.endswith(\".pkl\"):\n",
    "                        obstacle_count = instance_path.split(\"/\")[-2]\n",
    "                        obstacle_count = obstacle_count.split('_')[1]\n",
    "\n",
    "                        # M = Map(start_conf, end_conf, (15,8), obstacle_count, shape=5)\n",
    "                        filepath = instance_path+'/' + f\n",
    "                        if f.split('_')[0] == 'Map':\n",
    "                            m = open(filepath, 'rb')\n",
    "                            Map = pkl.load(m)\n",
    "\n",
    "                            for rho in radius_list:\n",
    "                                print(\n",
    "                                    \"\\n--------------------------------------------------------------------------\")\n",
    "                                print(\"Instance: \", instance_path +\n",
    "                                      '/'+f, \" Radius: \", rho)\n",
    "                                print(\"Tolerances: \", tolerances)\n",
    "                                G = Graph_Gstar(\n",
    "                                    start_conf, end_conf, rho, initial_Sectors, tolerances)\n",
    "                                imgPath = instance_path+'/img/r_'+str(rho)\n",
    "                                if not os.path.exists(imgPath):\n",
    "                                    os.makedirs(imgPath)\n",
    "\n",
    "                                try:\n",
    "\n",
    "                                    start_time = time.monotonic()\n",
    "                                    # if not os.path.exists(instance_path+'/graphs/G_r'+str(rho)+'.pkl'):\n",
    "                                    try:\n",
    "                                        dubLB_path, Map, G = GstarPaths(\n",
    "                                            Map, G, timeLimit, imgPath, heading_restricted, headingAngles)\n",
    "                                        PlotGstar(dubLB_path, G, Map, 'G* Lower Bound Path',\n",
    "                                                    save_path=instance_path+'/dub_LB_r'+str(rho), action='save')\n",
    "                                        print('test')\n",
    "\n",
    "                                        total_time = time.monotonic() - start_time\n",
    "                                        print('Time of execution: ',\n",
    "                                                total_time)\n",
    "                                    except:\n",
    "                                        None\n",
    "\n",
    "                                    if not os.path.exists(instance_path+'/graphs'):\n",
    "                                        os.mkdir(instance_path+'/graphs')\n",
    "                                    G_filename = instance_path + \\\n",
    "                                        '/graphs/G_r'+str(rho)+'.pkl'\n",
    "                                    G_file = open(G_filename, 'wb')\n",
    "                                    pkl.dump(G, G_file)\n",
    "                                    G_file.close()\n",
    "\n",
    "                                    instance_data = [\n",
    "                                        f, \n",
    "                                        filepath, \n",
    "                                        obstacle_count, \n",
    "                                        rho, \n",
    "                                        tolerances['continuity'], \n",
    "                                        tolerances['angular'], \n",
    "                                        G.graph.number_of_nodes(), \n",
    "                                        G.graph.size(), \n",
    "                                        G.eucLB_free, \n",
    "                                        G.dubLB_free, \n",
    "                                        G.eucLowerBound, \n",
    "                                        G.eucLB_time, \n",
    "                                        G.dubLowerBound, \n",
    "                                        G.dubLB_time, \n",
    "                                        G.dubUpperBound, \n",
    "                                        G.dubUB_time\n",
    "                                        ]\n",
    "                                    csvwriter.writerow(instance_data)\n",
    "\n",
    "                                except:\n",
    "                                    None"
   ]
  },
  {
   "cell_type": "code",
   "execution_count": 7,
   "id": "098a22d3",
   "metadata": {},
   "outputs": [
    {
     "name": "stdout",
     "output_type": "stream",
     "text": [
      "Defaulting to user installation because normal site-packages is not writeable\n",
      "Requirement already satisfied: scipy in /home/jasdeep/.local/lib/python3.8/site-packages (1.10.1)\n",
      "Requirement already satisfied: numpy<1.27.0,>=1.19.5 in /home/jasdeep/.local/lib/python3.8/site-packages (from scipy) (1.24.4)\n",
      "Note: you may need to restart the kernel to use updated packages.\n"
     ]
    }
   ],
   "source": [
    "pip install scipy"
   ]
  },
  {
   "cell_type": "code",
   "execution_count": 17,
   "id": "8992e1a3",
   "metadata": {},
   "outputs": [
    {
     "name": "stdout",
     "output_type": "stream",
     "text": [
      "\n",
      "--------------------------------------------------------------------------\n",
      "Tolerances:  {'continuity': 0.1, 'angular': 15, 'polygon_intersection': 0.7, 'circle_intersection_ratio': 0.5}\n",
      "Euclidean Upper Bound (No Obstacles):  16.0\n",
      "Dubins Upper Bound (No Obstacles):  17.27956949581917\n",
      "### Solving Euclidean Lower Bound ###\n",
      "\n",
      "--------------------------------------------------------------------------\n",
      "Tolerances:  {'continuity': 0.1, 'angular': 15, 'polygon_intersection': 0.7, 'circle_intersection_ratio': 0.5}\n",
      "Euclidean Upper Bound (No Obstacles):  16.0\n",
      "Dubins Upper Bound (No Obstacles):  18.944265969213614\n",
      "### Solving Euclidean Lower Bound ###\n"
     ]
    },
    {
     "name": "stderr",
     "output_type": "stream",
     "text": [
      "/tmp/ipykernel_40638/2464005590.py:79: UserWarning: Unpickling a shapely <2.0 geometry object. Please save the pickle again; shapely 2.1 will not have this compatibility.\n",
      "  Map = pkl.load(m)\n"
     ]
    }
   ],
   "source": [
    "import yaml\n",
    "import time\n",
    "import csv\n",
    "import os\n",
    "import pickle as pkl\n",
    "import numpy as np\n",
    "\n",
    "from graphutils import Graph_Gstar\n",
    "from Gstar import GstarPaths, PlotGstar\n",
    "\n",
    "if __name__ == \"__main__\":\n",
    "\n",
    "    # Set the time limit for the algorithm to execute\n",
    "    timeLimit = 600\n",
    "\n",
    "    # Set the initial number of sectors and starting and ending configurations\n",
    "    initial_Sectors = 3\n",
    "    start_conf = (0, 4.5, 0)\n",
    "    end_conf = (16, 4.5, 0)\n",
    "\n",
    "    # Specify whether the heading is restricted or not\n",
    "    heading_restricted = True\n",
    "\n",
    "    # Specify the list of radii to use for the algorithm\n",
    "    radius_list = [1, 2]\n",
    "\n",
    "    # Specify the paths to the instance files\n",
    "    instance_paths = ['./instances/map1']\n",
    "\n",
    "    # Loop through each instance path\n",
    "    for path in instance_paths:\n",
    "        # Load the tolerances for this instance from the YAML file\n",
    "        with open(path+'/tolerances.yaml') as toleances_yaml:\n",
    "            tolerances = yaml.load(toleances_yaml, Loader=yaml.FullLoader)\n",
    "\n",
    "        # Load the heading angles for this instance from the YAML file\n",
    "        with open(path+'/heading.yaml') as heading_yaml:\n",
    "            headingAngles = yaml.load(heading_yaml, Loader=yaml.FullLoader)\n",
    "\n",
    "\n",
    "        # Set up the result fields for the CSV file\n",
    "        result_fields = [\n",
    "            'name', \n",
    "            'path', \n",
    "            'Obstacles', \n",
    "            'turning_radius', \n",
    "            'continuity_tolerance', \n",
    "            'angle_tolerance', \n",
    "            'node_count', \n",
    "            'edge_count', \n",
    "            'eucLB_NoObstacles', \n",
    "            'dubLB_NoObstacles', \n",
    "            'eucLB', \n",
    "            'eucLB_time', \n",
    "            'dubLB', \n",
    "            'dubLB_time',  \n",
    "            'dubUB', \n",
    "            'dubUB_time']\n",
    "        result_filename = path+'/results_' + time.strftime(\"%Y%m%d-%H%M%S\")+'.csv'\n",
    "\n",
    "        # Open the CSV file and write the result fields to the first row\n",
    "        with open(result_filename, 'w') as csvfile:\n",
    "            csvwriter = csv.writer(csvfile)\n",
    "            csvwriter.writerow(result_fields)\n",
    "\n",
    "            # Loop through each instance path and file\n",
    "            instance_results = []\n",
    "            for (instance_path, dirs, files) in os.walk(path):\n",
    "                for f in files:\n",
    "                    # Check if the file is a pickled Map object\n",
    "                    if f.endswith(\".pkl\") and f.split('_')[0] == 'Map':\n",
    "                        obstacle_count = instance_path.split(\"/\")[-2]\n",
    "                        obstacle_count = obstacle_count.split('_')[1]\n",
    "\n",
    "                        # Load the Map object from the pickled file\n",
    "                        # filepath = instance_path + '/'+f\n",
    "                        filepath = os.path.join(instance_path, f)\n",
    "                        m = open(filepath, 'rb')\n",
    "                        Map = pkl.load(m)\n",
    "\n",
    "                        for rho in radius_list:\n",
    "                            print(\"\\n--------------------------------------------------------------------------\")\n",
    "                            # print(\"Instance: \", instance_path + '/'+ f, \" Radius: \", rho)\n",
    "                            print(\"Tolerances: \", tolerances)\n",
    "\n",
    "                            # Instantiate the Graph_Gstar object\n",
    "                            G = Graph_Gstar(start_conf, end_conf, rho, initial_Sectors, tolerances)\n",
    "\n",
    "                            # Set the image save path\n",
    "                            imgPath = instance_path+'/img'+'/r_'+str(rho)\n",
    "\n",
    "                            # Record the start time\n",
    "                            start_time = time.time()\n",
    "\n",
    "                            # if not os.path.exists(instance_path+'/graphs/G_r'+str(rho)+'.pkl'):\n",
    "                            \n",
    "                            try:\n",
    "                                # Calculate the GstarPaths\n",
    "                                dubLB_path, Map, G = GstarPaths(Map, G, timeLimit, imgPath, heading_restricted, headingAngles)\n",
    "\n",
    "                                # Plot the GstarPaths\n",
    "                                PlotGstar(dubLB_path, G, Map, 'G* Lower Bound Path', save_path=instance_path+'/dub_LB_r'+str(rho), action='save')\n",
    "\n",
    "                                total_time = time.time() - start_time\n",
    "                                print('Time of execution: ', total_time)\n",
    "                            except:\n",
    "                                None\n",
    "\n",
    "\n",
    "                            # Ensure the 'graphs' directory exists\n",
    "                            graphs_path = os.path.join(instance_path, 'graphs')\n",
    "                            if not os.path.exists(graphs_path):\n",
    "                                os.makedirs(graphs_path)\n",
    "\n",
    "                            # Save the graph to a file\n",
    "                            graph_filename = os.path.join(graphs_path, f'G_r{rho}.pkl')\n",
    "                            with open(graph_filename, 'wb') as f:\n",
    "                                pkl.dump(G, f)\n",
    "\n",
    "                            instance_data = [\n",
    "                                f, \n",
    "                                filepath, \n",
    "                                obstacle_count, \n",
    "                                rho, \n",
    "                                tolerances['continuity'], \n",
    "                                tolerances['angular'], \n",
    "                                G.graph.number_of_nodes(), \n",
    "                                G.graph.size(), \n",
    "                                G.eucLB_free, \n",
    "                                G.dubLB_free, \n",
    "                                G.eucLowerBound, \n",
    "                                G.eucLB_time, \n",
    "                                G.dubLowerBound, \n",
    "                                G.dubLB_time, \n",
    "                                G.dubUpperBound, \n",
    "                                G.dubUB_time\n",
    "                                ]\n",
    "                            \n",
    "                            csvwriter.writerow(instance_data)\n"
   ]
  },
  {
   "cell_type": "code",
   "execution_count": 21,
   "id": "96cf279b",
   "metadata": {},
   "outputs": [
    {
     "data": {
      "image/png": "[encoded data removed]",
      "text/plain": [
       "<Figure size 640x480 with 1 Axes>"
      ]
     },
     "metadata": {},
     "output_type": "display_data"
    }
   ],
   "source": [
    "import numpy as np\n",
    "points = np.array([[0, 0], [0, 1.1], [1, 0], [1, 1]])\n",
    "\n",
    "from scipy.spatial import Delaunay\n",
    "tri = Delaunay(points)\n",
    "\n",
    "import matplotlib.pyplot as plt\n",
    "plt.triplot(points[:,0], points[:,1], tri.simplices.copy())\n",
    "plt.plot(points[:,0], points[:,1], 'o')\n",
    "plt.show()"
   ]
  },
  {
   "cell_type": "code",
   "execution_count": 22,
   "id": "a9ee3f2c",
   "metadata": {},
   "outputs": [
    {
     "name": "stdout",
     "output_type": "stream",
     "text": [
      "Random Points:\n",
      "[[0.36047307 0.11842541]\n",
      " [0.70268291 0.03969039]\n",
      " [0.78981713 0.6928896 ]\n",
      " [0.77258727 0.33975921]\n",
      " [0.41715403 0.45895331]\n",
      " [0.31803432 0.84281654]\n",
      " [0.19384044 0.68492791]\n",
      " [0.92751304 0.41227935]\n",
      " [0.15372515 0.23896191]\n",
      " [0.07511069 0.98671101]]\n"
     ]
    }
   ],
   "source": [
    "import numpy as np\n",
    "\n",
    "# Generate 10 random points with x and y coordinates\n",
    "num_points = 10\n",
    "x_coordinates = np.random.rand(num_points)\n",
    "y_coordinates = np.random.rand(num_points)\n",
    "\n",
    "# Create an array of points\n",
    "points = np.column_stack((x_coordinates, y_coordinates))\n",
    "\n",
    "print(\"Random Points:\")\n",
    "print(points)\n"
   ]
  },
  {
   "cell_type": "code",
   "execution_count": 23,
   "id": "ccf2194e",
   "metadata": {},
   "outputs": [],
   "source": [
    "from scipy.spatial import Delaunay\n",
    "tri = Delaunay(points)"
   ]
  },
  {
   "cell_type": "code",
   "execution_count": 26,
   "id": "1c327dbb",
   "metadata": {},
   "outputs": [
    {
     "data": {
      "image/png": "[encoded data removed]",
      "text/plain": [
       "<Figure size 640x480 with 1 Axes>"
      ]
     },
     "metadata": {},
     "output_type": "display_data"
    }
   ],
   "source": [
    "import matplotlib.pyplot as plt\n",
    "plt.triplot(points[:,0], points[:,1], tri.simplices.copy())\n",
    "plt.plot(points[:,0], points[:,1], 'o')\n",
    "plt.plot(0.1,0.1, \"X\")\n",
    "plt.plot(0.9,0.9,\"o\")\n",
    "plt.show()"
   ]
  },
  {
   "cell_type": "code",
   "execution_count": 32,
   "id": "f25e4d6a",
   "metadata": {},
   "outputs": [
    {
     "data": {
      "text/plain": [
       "array([[0, 4, 8],\n",
       "       [8, 6, 9],\n",
       "       [4, 6, 8],\n",
       "       [3, 1, 7],\n",
       "       [2, 3, 7],\n",
       "       [3, 2, 4],\n",
       "       [3, 0, 1],\n",
       "       [0, 3, 4],\n",
       "       [2, 5, 4],\n",
       "       [5, 6, 4],\n",
       "       [5, 2, 9],\n",
       "       [6, 5, 9]], dtype=int32)"
      ]
     },
     "execution_count": 32,
     "metadata": {},
     "output_type": "execute_result"
    }
   ],
   "source": [
    "tri.simplices"
   ]
  },
  {
   "cell_type": "code",
   "execution_count": 35,
   "id": "fa7f6582",
   "metadata": {},
   "outputs": [
    {
     "name": "stdout",
     "output_type": "stream",
     "text": [
      "a1 [0.36047307 0.11842541]\n",
      "a2 [0.41715403 0.45895331]\n",
      "a3 [0.15372515 0.23896191]\n"
     ]
    }
   ],
   "source": [
    "a1 = points[tri.simplices[0][0]]\n",
    "print(\"a1\", a1)\n",
    "a2 = points[tri.simplices[0][1]]\n",
    "print(\"a2\", a2)\n",
    "a3 = points[tri.simplices[0][2]]\n",
    "print(\"a3\", a3)"
   ]
  },
  {
   "cell_type": "code",
   "execution_count": 3,
   "id": "f8d502aa",
   "metadata": {},
   "outputs": [],
   "source": [
    "from shapely.geometry import Polygon, LineString\n",
    "import numpy as np\n",
    "from scipy.spatial import Delaunay\n",
    "import matplotlib.pyplot as plt\n",
    "from collections import defaultdict"
   ]
  },
  {
   "cell_type": "code",
   "execution_count": 4,
   "id": "9fb7ba36",
   "metadata": {},
   "outputs": [
    {
     "name": "stdout",
     "output_type": "stream",
     "text": [
      "[[10.0, 2.0], [8.27713042139409, 4.0]]\n"
     ]
    },
    {
     "data": {
      "image/png": "[encoded data removed]",
      "text/plain": [
       "<Figure size 640x480 with 1 Axes>"
      ]
     },
     "metadata": {},
     "output_type": "display_data"
    }
   ],
   "source": [
    "def slope(line: LineString):\n",
    "    x1, y1 = line.coords[0]\n",
    "    x2, y2 = line.coords[1]\n",
    "\n",
    "    # Calculate the slope\n",
    "    slope = (y2 - y1) / (x2 - x1)\n",
    "    \n",
    "    slope = round(slope,3)\n",
    "    \n",
    "    return slope\n",
    "\n",
    "from shapely.geometry import Polygon, LineString\n",
    "import matplotlib.pyplot as plt\n",
    "\n",
    "# Create a polygon with 3 sides (equilateral triangle)\n",
    "triangle = Polygon([(0, 0), (3, 0), (1.5, 2.598)])\n",
    "\n",
    "# Create a polygon with 4 sides (square)\n",
    "square = Polygon([(8, 0), (12, 0), (12, 4), (8, 4)])\n",
    "\n",
    "# Create a polygon with 5 sides (regular pentagon)\n",
    "pentagon = Polygon([(0, 8), (5, 8), (7.071, 10.071), (5, 12.142), (0, 12.142)])\n",
    "\n",
    "\n",
    "obstacle_list = [triangle, square, pentagon]\n",
    "\n",
    "centroid1 = list(triangle.centroid.coords)\n",
    "centroid2 = list(square.centroid.coords)\n",
    "centroid3 = list(pentagon.centroid.coords)\n",
    "\n",
    "points = np.array([centroid1, centroid2, centroid3])\n",
    "points = points.reshape(-1,2)\n",
    "\n",
    "tri = Delaunay(points)\n",
    "simplices = tri.simplices\n",
    "\n",
    "lines = []\n",
    "\n",
    "for simplex in simplices:\n",
    "    vertices = points[simplex]\n",
    "    for i in range(3):\n",
    "        for j in range(i + 1, 3):\n",
    "            lines.append(LineString([tuple(vertices[i]), tuple(vertices[j])]))\n",
    "            \n",
    "            \n",
    "line_intersections = []\n",
    "\n",
    "for line in lines:\n",
    "    for obstacle in obstacle_list:\n",
    "        if obstacle.intersects(LineString(line)):\n",
    "            line_intersections.append(obstacle.intersection(LineString(line)))\n",
    "            \n",
    "            \n",
    "line_inside_poly = [[list(coord) for coord in line.coords] for line in line_intersections]\n",
    "\n",
    "print(line_inside_poly[0])\n",
    "\n",
    "\n",
    "diction_lines = {LineString(long_line_segs) : [] for long_line_segs in lines}\n",
    "#diction_lines\n",
    "\n",
    "\n",
    "for long_line_segs in lines:\n",
    "    for small_line_segs in line_inside_poly:\n",
    "        if slope(LineString(long_line_segs)) == slope(LineString(small_line_segs)):\n",
    "            for i in range(2):\n",
    "                #print(small_line_segs[i])\n",
    "                diction_lines[LineString(long_line_segs)].append(small_line_segs[i])\n",
    "                \n",
    "                \n",
    "for key, value in diction_lines.items():\n",
    "    for i in range(2):\n",
    "        if list(key.coords[i]) in value:\n",
    "            diction_lines[key].remove(list(key.coords[i]))\n",
    "\n",
    "\n",
    "gates = []\n",
    "\n",
    "for values in diction_lines.values():\n",
    "    gates.append(LineString(values))\n",
    "\n",
    "# Get the exterior coordinates of each polygon\n",
    "x1, y1 = triangle.exterior.xy\n",
    "x2, y2 = square.exterior.xy\n",
    "x3, y3 = pentagon.exterior.xy\n",
    "\n",
    "# Create a figure and axis\n",
    "fig, ax = plt.subplots()\n",
    "\n",
    "# Fill the polygons\n",
    "ax.fill(x1, y1, 'r', alpha=0.3, label='Triangle')\n",
    "ax.fill(x2, y2, 'g', alpha=0.3, label='Square')\n",
    "ax.fill(x3, y3, 'b', alpha=0.3, label='Pentagon')\n",
    "\n",
    "plt.plot(centroid1[0][0], centroid1[0][1], 'X')\n",
    "plt.plot(centroid2[0][0], centroid2[0][1], 'X')\n",
    "plt.plot(centroid3[0][0], centroid3[0][1], 'X')\n",
    "\n",
    "plt.triplot(points[:,0], points[:,1], tri.simplices.copy(), 'k--')\n",
    "plt.plot(points[:,0], points[:,1], 'o')\n",
    "\n",
    "for gate in gates:\n",
    "    x, y = gate.xy\n",
    "    plt.plot(x, y, 'c-', linewidth=2)\n",
    "\n",
    "# Set axis limits\n",
    "ax.set_xlim(-1, 13)\n",
    "ax.set_ylim(-1, 13)\n",
    "\n",
    "# Add labels and title\n",
    "plt.xlabel('X')\n",
    "plt.ylabel('Y')\n",
    "plt.title('Non-vertical gates representation')\n",
    "\n",
    "# Add legend\n",
    "#ax.legend()\n",
    "#plt.legend()\n",
    "# Show the plot\n",
    "plt.show()\n"
   ]
  },
  {
   "cell_type": "code",
   "execution_count": 5,
   "id": "37e0ff1f",
   "metadata": {},
   "outputs": [
    {
     "data": {
      "text/plain": [
       "[<LINESTRING (10 2, 3.047 10.071)>,\n",
       " <LINESTRING (10 2, 1.5 0.866)>,\n",
       " <LINESTRING (3.047 10.071, 1.5 0.866)>]"
      ]
     },
     "execution_count": 5,
     "metadata": {},
     "output_type": "execute_result"
    }
   ],
   "source": [
    "lines"
   ]
  },
  {
   "cell_type": "code",
   "execution_count": 50,
   "id": "69139de3",
   "metadata": {},
   "outputs": [
    {
     "ename": "IndentationError",
     "evalue": "expected an indented block (3483946928.py, line 93)",
     "output_type": "error",
     "traceback": [
      "\u001b[0;36m  Cell \u001b[0;32mIn[50], line 93\u001b[0;36m\u001b[0m\n\u001b[0;31m    for small_line_segs in line_inside_poly:\u001b[0m\n\u001b[0m    ^\u001b[0m\n\u001b[0;31mIndentationError\u001b[0m\u001b[0;31m:\u001b[0m expected an indented block\n"
     ]
    }
   ],
   "source": [
    "def slope(line: LineString):\n",
    "    x1, y1 = line.coords[0]\n",
    "    x2, y2 = line.coords[1]\n",
    "\n",
    "    # Calculate the slope\n",
    "    slope = (y2 - y1) / (x2 - x1)\n",
    "    \n",
    "    slope = round(slope,3)\n",
    "    \n",
    "    return slope\n",
    "\n",
    "\n",
    "from shapely.geometry import Polygon, LineString\n",
    "import matplotlib.pyplot as plt\n",
    "from collections import defaultdict\n",
    "\n",
    "\n",
    "# Create a polygon with 3 sides (equilateral triangle)\n",
    "triangle = Polygon([(0, 0), (3, 0), (1.5, 2.598)])\n",
    "\n",
    "# Create a polygon with 4 sides (square)\n",
    "square = Polygon([(8, 0), (12, 0), (12, 4), (8, 4)])\n",
    "\n",
    "# Create a polygon with 5 sides (regular pentagon)\n",
    "pentagon = Polygon([(0, 8), (5, 8), (7.071, 10.071), (5, 12.142), (0, 12.142)])\n",
    "\n",
    "triangle_new = Polygon([(8,8),(12, 12), (12, 8)])\n",
    "\n",
    "obstacle_list = [triangle, square, pentagon, triangle_new]\n",
    "\n",
    "centroid1 = list(triangle.centroid.coords)\n",
    "centroid2 = list(square.centroid.coords)\n",
    "centroid3 = list(pentagon.centroid.coords)\n",
    "centroid4 = list(triangle_new.centroid.coords)\n",
    "\n",
    "points = np.array([centroid1, centroid2, centroid3, centroid4])\n",
    "points = points.reshape(-1,2)\n",
    "\n",
    "tri = Delaunay(points)\n",
    "simplices = tri.simplices\n",
    "\n",
    "lines = []\n",
    "\n",
    "for simplex in simplices:\n",
    "    vertices = points[simplex]\n",
    "    for i in range(3):\n",
    "        for j in range(i + 1, 3):\n",
    "            lines.append(LineString([tuple(vertices[i]), tuple(vertices[j])]))\n",
    "\n",
    "\n",
    "line_dict = defaultdict(list)\n",
    "\n",
    "for line in lines:\n",
    "    slope = calculate_slope(line)\n",
    "    line_dict[slope].append(line)\n",
    "    \n",
    "\n",
    "filtered_lines = []\n",
    "for slope, line_list in line_dict.items():\n",
    "    filtered_lines.append(line_list[0])\n",
    "\n",
    "#print(filtered_lines)\n",
    "\n",
    "################################################################3\n",
    "\n",
    "\n",
    "line_intersections = []\n",
    "\n",
    "for line in filtered_lines:\n",
    "    for obstacle in obstacle_list:\n",
    "        if obstacle.intersects(line):\n",
    "            #print(f\"Obstacle {j+1} intersects line {i+1}\")\n",
    "            line_intersections.append(obstacle.intersection(line))\n",
    "#print(line_intersections)\n",
    "\n",
    "           \n",
    "            \n",
    "line_inside_poly = [[list(coord) for coord in line.coords] for line in line_intersections]\n",
    "\n",
    "print(line_inside_poly[0])\n",
    "\n",
    "\n",
    "\n",
    "for long_line_segs in lines:\n",
    "    for small_line_segs in line_inside_poly:\n",
    "        if slope(LineString(long_line_segs)) == slope(LineString(small_line_segs)):\n",
    "            for i in range(2):\n",
    "                #print(small_line_segs[i])\n",
    "                diction_lines[LineString(long_line_segs)].append(small_line_segs[i])\n",
    "   \n",
    "\n",
    "    for long_line_segs in filtered_lines:\n",
    "    for small_line_segs in line_inside_poly:\n",
    "        if calculate_slope(long_line_segs) == calculate_slope(small_line_segs):\n",
    "            for i in range(2):\n",
    "                print(small_line_segs[i])\n",
    "                diction_lines[LineString(long_line_segs)].append(small_line_segs[i])\n",
    "                \n",
    "                \n",
    "for key, value in diction_lines.items():\n",
    "    for i in range(2):\n",
    "        if list(key.coords[i]) in value:\n",
    "            diction_lines[key].remove(list(key.coords[i]))\n",
    "\n",
    "\n",
    "gates = []\n",
    "\n",
    "for values in diction_lines.values():\n",
    "    gates.append(LineString(values))\n",
    "\n",
    "# Get the exterior coordinates of each polygon\n",
    "x1, y1 = triangle.exterior.xy\n",
    "x2, y2 = square.exterior.xy\n",
    "x3, y3 = pentagon.exterior.xy\n",
    "x4, y4 = triangle_new.exterior.xy\n",
    "\n",
    "# Create a figure and axis\n",
    "fig, ax = plt.subplots()\n",
    "\n",
    "# Fill the polygons\n",
    "ax.fill(x1, y1, 'r', alpha=0.3, label='Triangle')\n",
    "ax.fill(x2, y2, 'g', alpha=0.3, label='Square')\n",
    "ax.fill(x3, y3, 'b', alpha=0.3, label='Pentagon')\n",
    "ax.fill(x4, y4, 'cyan', alpha=0.3, label='Triangle_New')\n",
    "\n",
    "plt.plot(centroid1[0][0], centroid1[0][1], 'X')\n",
    "plt.plot(centroid2[0][0], centroid2[0][1], 'X')\n",
    "plt.plot(centroid3[0][0], centroid3[0][1], 'X')\n",
    "\n",
    "plt.triplot(points[:,0], points[:,1], tri.simplices.copy(), 'k--')\n",
    "plt.plot(points[:,0], points[:,1], 'o')\n",
    "\n",
    "for gate in gates:\n",
    "    x, y = gate.xy\n",
    "    plt.plot(x, y, 'c-', linewidth=2)\n",
    "\n",
    "# Set axis limits\n",
    "ax.set_xlim(-1, 13)\n",
    "ax.set_ylim(-1, 13)\n",
    "\n",
    "# Add labels and title\n",
    "plt.xlabel('X')\n",
    "plt.ylabel('Y')\n",
    "plt.title('Non-vertical gates representation')\n",
    "\n",
    "# Add legend\n",
    "#ax.legend()\n",
    "#plt.legend()\n",
    "# Show the plot\n",
    "plt.show()\n"
   ]
  },
  {
   "cell_type": "code",
   "execution_count": 528,
   "id": "6ec1d3bd",
   "metadata": {},
   "outputs": [],
   "source": [
    "def calculate_slope(line):\n",
    "    p1, p2 = line.coords\n",
    "    if p2[0] - p1[0] != 0:\n",
    "        a =  (p2[1] - p1[1]) / (p2[0] - p1[0])\n",
    "        return round(a,3)\n",
    "    else:\n",
    "        return float('inf')"
   ]
  },
  {
   "cell_type": "code",
   "execution_count": 526,
   "id": "0b64b00e",
   "metadata": {},
   "outputs": [
    {
     "data": {
      "text/plain": [
       "(1.0, 2.0)"
      ]
     },
     "execution_count": 526,
     "metadata": {},
     "output_type": "execute_result"
    }
   ],
   "source": [
    "line = LineString([(1,2),(5,7)])\n",
    "p1, p2 = line.coords\n",
    "p1"
   ]
  },
  {
   "cell_type": "code",
   "execution_count": 449,
   "id": "47dc463b",
   "metadata": {},
   "outputs": [
    {
     "data": {
      "text/plain": [
       "array([[ 1.5       ,  0.866     ],\n",
       "       [10.        ,  2.        ],\n",
       "       [ 3.04735982, 10.071     ],\n",
       "       [10.66666667,  9.33333333]])"
      ]
     },
     "execution_count": 449,
     "metadata": {},
     "output_type": "execute_result"
    }
   ],
   "source": [
    "points"
   ]
  },
  {
   "cell_type": "code",
   "execution_count": 448,
   "id": "b05d77ef",
   "metadata": {},
   "outputs": [
    {
     "name": "stdout",
     "output_type": "stream",
     "text": [
      "[1 2 0]\n",
      "[2 1 3]\n"
     ]
    }
   ],
   "source": [
    "for simplex in simplices:\n",
    "    print(simplex)"
   ]
  },
  {
   "cell_type": "code",
   "execution_count": 489,
   "id": "4174dfbf",
   "metadata": {},
   "outputs": [],
   "source": [
    "\n",
    "\n",
    "lines = []\n",
    "\n",
    "for simplex in simplices:\n",
    "    vertices = points[simplex]\n",
    "    for i in range(3):\n",
    "        for j in range(i + 1, 3):\n",
    "            lines.append(LineString([tuple(vertices[i]), tuple(vertices[j])]))\n",
    "            "
   ]
  },
  {
   "cell_type": "code",
   "execution_count": 490,
   "id": "0101e4a2",
   "metadata": {},
   "outputs": [
    {
     "name": "stdout",
     "output_type": "stream",
     "text": [
      "[<LINESTRING (10 2, 3.047 10.071)>, <LINESTRING (10 2, 1.5 0.866)>, <LINESTRING (3.047 10.071, 1.5 0.866)>, <LINESTRING (3.047 10.071, 10.667 9.333)>, <LINESTRING (10 2, 10.667 9.333)>]\n"
     ]
    }
   ],
   "source": [
    "from collections import defaultdict\n",
    "line_dict = defaultdict(list)\n",
    "for line in lines:\n",
    "    slope = calculate_slope(line)\n",
    "    line_dict[slope].append(line)\n",
    "    \n",
    "filtered_lines = []\n",
    "for slope, line_list in line_dict.items():\n",
    "    filtered_lines.append(line_list[0])\n",
    "\n",
    "print(filtered_lines)"
   ]
  },
  {
   "cell_type": "code",
   "execution_count": 491,
   "id": "2f7b1b35",
   "metadata": {},
   "outputs": [
    {
     "data": {
      "text/plain": [
       "[<LINESTRING (10 2, 3.047 10.071)>,\n",
       " <LINESTRING (10 2, 1.5 0.866)>,\n",
       " <LINESTRING (3.047 10.071, 1.5 0.866)>,\n",
       " <LINESTRING (3.047 10.071, 10.667 9.333)>,\n",
       " <LINESTRING (10 2, 10.667 9.333)>]"
      ]
     },
     "execution_count": 491,
     "metadata": {},
     "output_type": "execute_result"
    }
   ],
   "source": [
    "filtered_lines"
   ]
  },
  {
   "cell_type": "code",
   "execution_count": 473,
   "id": "dd36500d",
   "metadata": {},
   "outputs": [
    {
     "data": {
      "text/plain": [
       "defaultdict(list, {})"
      ]
     },
     "execution_count": 473,
     "metadata": {},
     "output_type": "execute_result"
    }
   ],
   "source": []
  },
  {
   "cell_type": "code",
   "execution_count": 451,
   "id": "91eab791",
   "metadata": {},
   "outputs": [
    {
     "data": {
      "text/plain": [
       "True"
      ]
     },
     "execution_count": 451,
     "metadata": {},
     "output_type": "execute_result"
    }
   ],
   "source": [
    "obstacle_list[2].intersects(lines[0])"
   ]
  },
  {
   "cell_type": "code",
   "execution_count": 506,
   "id": "86d3b774",
   "metadata": {},
   "outputs": [
    {
     "name": "stdout",
     "output_type": "stream",
     "text": [
      "Obstacle 2 intersects line 1\n",
      "Obstacle 3 intersects line 1\n",
      "Obstacle 1 intersects line 2\n",
      "Obstacle 2 intersects line 2\n",
      "Obstacle 1 intersects line 3\n",
      "Obstacle 3 intersects line 3\n",
      "Obstacle 3 intersects line 4\n",
      "Obstacle 4 intersects line 4\n",
      "Obstacle 2 intersects line 5\n",
      "Obstacle 4 intersects line 5\n"
     ]
    },
    {
     "data": {
      "text/plain": [
       "[<LINESTRING (10 2, 8.277 4)>,\n",
       " <LINESTRING (4.831 8, 3.047 10.071)>,\n",
       " <LINESTRING (2.428 0.99, 1.5 0.866)>,\n",
       " <LINESTRING (10 2, 8 1.733)>,\n",
       " <LINESTRING (1.725 2.207, 1.5 0.866)>,\n",
       " <LINESTRING (3.047 10.071, 2.699 8)>,\n",
       " <LINESTRING (3.047 10.071, 6.716 9.716)>,\n",
       " <LINESTRING (9.451 9.451, 10.667 9.333)>,\n",
       " <LINESTRING (10 2, 10.182 4)>,\n",
       " <LINESTRING (10.545 8, 10.667 9.333)>]"
      ]
     },
     "execution_count": 506,
     "metadata": {},
     "output_type": "execute_result"
    }
   ],
   "source": [
    "line_intersections = []\n",
    "\n",
    "for i, line in enumerate(filtered_lines):\n",
    "    for j, obstacle in enumerate(obstacle_list):\n",
    "        if obstacle.intersects(line):\n",
    "            print(f\"Obstacle {j+1} intersects line {i+1}\")\n",
    "            line_intersections.append(obstacle.intersection(line))\n",
    "\n",
    "#line_intersections.append(obstacle.intersection(line))\n",
    "#else:\n",
    "#  print(f\"Obstacle {j+1} does not intersects line {i+1}\")\n",
    "\n",
    "line_intersections"
   ]
  },
  {
   "cell_type": "code",
   "execution_count": 514,
   "id": "7e2e6928",
   "metadata": {},
   "outputs": [
    {
     "data": {
      "text/plain": [
       "[[[10.0, 2.0], [8.27713042139409, 4.0]],\n",
       " [[4.831391264182274, 8.0], [3.0473598155358577, 10.070999999999998]],\n",
       " [[2.428481331987891, 0.9898703329969727],\n",
       "  [1.5000000000000002, 0.8659999999999999]],\n",
       " [[10.0, 2.0], [8.0, 1.7331764705882353]],\n",
       " [[1.7254960931341858, 2.20744076669159],\n",
       "  [1.5000000000000002, 0.8659999999999999]],\n",
       " [[3.0473598155358577, 10.070999999999998], [2.6992248695309953, 8.0]],\n",
       " [[3.0473598155358577, 10.070999999999998],\n",
       "  [6.715834911057373, 9.715834911057373]],\n",
       " [[9.451026126479192, 9.451026126479192],\n",
       "  [10.666666666666666, 9.333333333333334]],\n",
       " [[10.0, 2.0], [10.181818181818182, 4.0]],\n",
       " [[10.545454545454545, 8.0], [10.666666666666666, 9.333333333333334]]]"
      ]
     },
     "execution_count": 514,
     "metadata": {},
     "output_type": "execute_result"
    }
   ],
   "source": [
    "line_inside_poly = [[list(coord) for coord in line.coords] for line in line_intersections]\n",
    "line_inside_poly"
   ]
  },
  {
   "cell_type": "code",
   "execution_count": 511,
   "id": "7f3b804a",
   "metadata": {},
   "outputs": [
    {
     "data": {
      "text/plain": [
       "{<LINESTRING (10 2, 3.047 10.071)>: [],\n",
       " <LINESTRING (10 2, 1.5 0.866)>: [],\n",
       " <LINESTRING (3.047 10.071, 1.5 0.866)>: [],\n",
       " <LINESTRING (3.047 10.071, 10.667 9.333)>: [],\n",
       " <LINESTRING (10 2, 10.667 9.333)>: []}"
      ]
     },
     "execution_count": 511,
     "metadata": {},
     "output_type": "execute_result"
    }
   ],
   "source": [
    "#print(line_inside_poly)\n",
    "diction_lines = {LineString(long_line_segs) : [] for long_line_segs in filtered_lines}\n",
    "diction_lines"
   ]
  },
  {
   "cell_type": "code",
   "execution_count": 509,
   "id": "60e27ec1",
   "metadata": {},
   "outputs": [
    {
     "name": "stdout",
     "output_type": "stream",
     "text": [
      "-1.161\n",
      "0.133\n",
      "5.949\n",
      "-0.097\n",
      "11.0\n"
     ]
    }
   ],
   "source": [
    "for a in filtered_lines:\n",
    "    print(calculate_slope(a))"
   ]
  },
  {
   "cell_type": "code",
   "execution_count": 510,
   "id": "bd018fec",
   "metadata": {},
   "outputs": [
    {
     "name": "stdout",
     "output_type": "stream",
     "text": [
      "-1.161\n",
      "-1.161\n",
      "0.133\n",
      "0.133\n",
      "5.949\n",
      "5.949\n",
      "-0.097\n",
      "-0.097\n",
      "11.0\n",
      "11.0\n"
     ]
    }
   ],
   "source": [
    "for b in line_intersections:\n",
    "    print(calculate_slope(b))"
   ]
  },
  {
   "cell_type": "code",
   "execution_count": 513,
   "id": "eea271dd",
   "metadata": {},
   "outputs": [],
   "source": [
    "for long_line_segs in filtered_lines:\n",
    "    for small_line_segs in line_intersections:\n",
    "        if calculate_slope(long_line_segs) == calculate_slope(small_line_segs):\n",
    "            diction_lines[long_line_segs] = small_line_segs\n",
    "            #for i in range(2):\n",
    "                #print(small_line_segs[i])\n",
    "                #diction_lines[LineString(long_line_segs)].append(small_line_segs[i])"
   ]
  },
  {
   "cell_type": "code",
   "execution_count": 501,
   "id": "216fdcba",
   "metadata": {},
   "outputs": [
    {
     "data": {
      "text/plain": [
       "{<LINESTRING (10 2, 3.047 10.071)>: [[4.831391264182274, 8.0],\n",
       "  [3.0473598155358577, 10.070999999999998],\n",
       "  [4.831391264182274, 8.0],\n",
       "  [3.0473598155358577, 10.070999999999998]],\n",
       " <LINESTRING (10 2, 1.5 0.866)>: [],\n",
       " <LINESTRING (3.047 10.071, 1.5 0.866)>: [[3.0473598155358577,\n",
       "   10.070999999999998],\n",
       "  [2.6992248695309953, 8.0],\n",
       "  [3.0473598155358577, 10.070999999999998],\n",
       "  [2.6992248695309953, 8.0]],\n",
       " <LINESTRING (3.047 10.071, 10.667 9.333)>: [],\n",
       " <LINESTRING (10 2, 10.667 9.333)>: [[10.0, 2.0],\n",
       "  [10.181818181818182, 4.0],\n",
       "  [10.0, 2.0],\n",
       "  [10.181818181818182, 4.0]]}"
      ]
     },
     "execution_count": 501,
     "metadata": {},
     "output_type": "execute_result"
    }
   ],
   "source": [
    "diction_lines"
   ]
  },
  {
   "cell_type": "code",
   "execution_count": null,
   "id": "1491df5c",
   "metadata": {},
   "outputs": [],
   "source": []
  },
  {
   "cell_type": "code",
   "execution_count": null,
   "id": "fe9b61b8",
   "metadata": {},
   "outputs": [],
   "source": []
  },
  {
   "cell_type": "code",
   "execution_count": null,
   "id": "c789194e",
   "metadata": {},
   "outputs": [],
   "source": []
  },
  {
   "cell_type": "code",
   "execution_count": null,
   "id": "e49e01df",
   "metadata": {},
   "outputs": [],
   "source": []
  },
  {
   "cell_type": "code",
   "execution_count": 488,
   "id": "c71e27a1",
   "metadata": {},
   "outputs": [
    {
     "data": {
      "text/plain": [
       "[<LINESTRING (10 2, 8.277 4)>,\n",
       " <LINESTRING (4.831 8, 3.047 10.071)>,\n",
       " <LINESTRING (2.428 0.99, 1.5 0.866)>,\n",
       " <LINESTRING (10 2, 8 1.733)>,\n",
       " <LINESTRING (1.725 2.207, 1.5 0.866)>,\n",
       " <LINESTRING (3.047 10.071, 2.699 8)>,\n",
       " <LINESTRING (3.047 10.071, 6.716 9.716)>,\n",
       " <LINESTRING (9.451 9.451, 10.667 9.333)>,\n",
       " <LINESTRING (10 2, 10.182 4)>,\n",
       " <LINESTRING (10.545 8, 10.667 9.333)>]"
      ]
     },
     "execution_count": 488,
     "metadata": {},
     "output_type": "execute_result"
    }
   ],
   "source": [
    "line_intersections"
   ]
  },
  {
   "cell_type": "code",
   "execution_count": 429,
   "id": "d4972880",
   "metadata": {},
   "outputs": [],
   "source": [
    "lines = []\n",
    "\n",
    "for simplex in simplices:\n",
    "    vertices = points[simplex]\n",
    "    for i in range(3):\n",
    "        for j in range(i + 1, 3):\n",
    "            lines.append(LineString([tuple(vertices[i]), tuple(vertices[j])]))\n",
    "\n",
    "\n",
    "    "
   ]
  },
  {
   "cell_type": "code",
   "execution_count": 430,
   "id": "656f6d08",
   "metadata": {},
   "outputs": [
    {
     "data": {
      "text/plain": [
       "[<LINESTRING (10 2, 3.047 10.071)>,\n",
       " <LINESTRING (10 2, 1.5 0.866)>,\n",
       " <LINESTRING (3.047 10.071, 1.5 0.866)>,\n",
       " <LINESTRING (3.047 10.071, 10 2)>,\n",
       " <LINESTRING (3.047 10.071, 10.667 9.333)>,\n",
       " <LINESTRING (10 2, 10.667 9.333)>]"
      ]
     },
     "execution_count": 430,
     "metadata": {},
     "output_type": "execute_result"
    }
   ],
   "source": [
    "lines = [<LINESTRING (10 2, 3.047 10.071)>,\n",
    " <LINESTRING (10 2, 1.5 0.866)>,\n",
    " <LINESTRING (3.047 10.071, 1.5 0.866)>,\n",
    " <LINESTRING (3.047 10.071, 10 2)>,\n",
    " <LINESTRING (3.047 10.071, 10.667 9.333)>,\n",
    " <LINESTRING (10 2, 10.667 9.333)>]"
   ]
  },
  {
   "cell_type": "code",
   "execution_count": 432,
   "id": "0362aa70",
   "metadata": {},
   "outputs": [],
   "source": [
    "lines = []\n",
    "\n",
    "for simplex in simplices:\n",
    "    vertices = points[simplex]\n",
    "    for i in range(3):\n",
    "        for j in range(i + 1, 3):\n",
    "            lines.append(LineString([tuple(vertices[i]), tuple(vertices[j])]))\n",
    "\n"
   ]
  },
  {
   "cell_type": "code",
   "execution_count": 436,
   "id": "6ce87270",
   "metadata": {},
   "outputs": [
    {
     "data": {
      "text/plain": [
       "[0, 1, 2, 3, 4]"
      ]
     },
     "execution_count": 436,
     "metadata": {},
     "output_type": "execute_result"
    }
   ],
   "source": [
    "indices = []\n",
    "for i in range(len(lines)-1):\n",
    "    for j in range(1, len(lines)):\n",
    "        if slope(lines[i]) == slope(lines[j]):\n",
    "            indices.append(i)\n",
    "            \n",
    "indices"
   ]
  },
  {
   "cell_type": "code",
   "execution_count": 428,
   "id": "1be4245b",
   "metadata": {},
   "outputs": [
    {
     "name": "stdout",
     "output_type": "stream",
     "text": [
      "[1 2 0]\n",
      "[2 1 3]\n"
     ]
    }
   ],
   "source": [
    "for simplex in tri.simplices:\n",
    "    print(simplex)"
   ]
  },
  {
   "cell_type": "code",
   "execution_count": null,
   "id": "913aa902",
   "metadata": {},
   "outputs": [],
   "source": []
  },
  {
   "cell_type": "code",
   "execution_count": 415,
   "id": "8f2efe02",
   "metadata": {},
   "outputs": [
    {
     "data": {
      "text/plain": [
       "[<LINESTRING (8.277 4, 4.831 8)>,\n",
       " <LINESTRING (2.428 0.99, 8 1.733)>,\n",
       " <LINESTRING (1.725 2.207, 2.699 8)>]"
      ]
     },
     "execution_count": 415,
     "metadata": {},
     "output_type": "execute_result"
    }
   ],
   "source": [
    "gates"
   ]
  },
  {
   "cell_type": "code",
   "execution_count": 333,
   "id": "2c478cc6",
   "metadata": {},
   "outputs": [
    {
     "data": {
      "text/plain": [
       "[(1.5000000000000002, 0.8659999999999999)]"
      ]
     },
     "execution_count": 333,
     "metadata": {},
     "output_type": "execute_result"
    }
   ],
   "source": [
    "centroid1"
   ]
  },
  {
   "cell_type": "code",
   "execution_count": 303,
   "id": "25ff5067",
   "metadata": {},
   "outputs": [
    {
     "data": {
      "text/plain": [
       "[[(10.0, 2.0), (3.0473598155358577, 10.070999999999998)],\n",
       " [(10.0, 2.0), (1.5000000000000002, 0.8659999999999999)],\n",
       " [(3.0473598155358577, 10.070999999999998),\n",
       "  (1.5000000000000002, 0.8659999999999999)]]"
      ]
     },
     "execution_count": 303,
     "metadata": {},
     "output_type": "execute_result"
    }
   ],
   "source": [
    "lines"
   ]
  },
  {
   "cell_type": "code",
   "execution_count": 300,
   "id": "591e4be3",
   "metadata": {},
   "outputs": [],
   "source": [
    "lines = []\n",
    "\n",
    "for simplex in simplices:\n",
    "    vertices = points[simplex]\n",
    "    for i in range(3):\n",
    "        for j in range(i + 1, 3):\n",
    "            lines.append(LineString([tuple(vertices[i]), tuple(vertices[j])]))"
   ]
  },
  {
   "cell_type": "code",
   "execution_count": 413,
   "id": "3a677c0f",
   "metadata": {},
   "outputs": [
    {
     "data": {
      "text/plain": [
       "[(10.0, 2.0), (3.0473598155358577, 10.070999999999998)]"
      ]
     },
     "execution_count": 413,
     "metadata": {},
     "output_type": "execute_result"
    }
   ],
   "source": [
    "lines[0]"
   ]
  },
  {
   "cell_type": "code",
   "execution_count": 305,
   "id": "28ddb204",
   "metadata": {},
   "outputs": [
    {
     "name": "stdout",
     "output_type": "stream",
     "text": [
      "[(10.0, 2.0), (3.0473598155358577, 10.070999999999998)]\n"
     ]
    }
   ],
   "source": [
    "print(lines[0])"
   ]
  },
  {
   "cell_type": "code",
   "execution_count": 306,
   "id": "46cd7afc",
   "metadata": {},
   "outputs": [
    {
     "data": {
      "text/plain": [
       "[<POLYGON ((0 0, 3 0, 1.5 2.598, 0 0))>,\n",
       " <POLYGON ((8 0, 12 0, 12 4, 8 4, 8 0))>,\n",
       " <POLYGON ((0 8, 5 8, 7.071 10.071, 5 12.142, 0 12.142, 0 8))>]"
      ]
     },
     "execution_count": 306,
     "metadata": {},
     "output_type": "execute_result"
    }
   ],
   "source": [
    "obstacle_list"
   ]
  },
  {
   "cell_type": "code",
   "execution_count": 268,
   "id": "140f0473",
   "metadata": {},
   "outputs": [],
   "source": [
    "line_intersections = []\n",
    "\n",
    "for line in lines:\n",
    "    for obstacle in obstacle_list:\n",
    "        if obstacle.intersects(LineString(line)):\n",
    "            line_intersections.append(obstacle.intersection(LineString(line)))"
   ]
  },
  {
   "cell_type": "code",
   "execution_count": 366,
   "id": "18810a44",
   "metadata": {},
   "outputs": [
    {
     "name": "stdout",
     "output_type": "stream",
     "text": [
      "[[[10.0, 2.0], [8.27713042139409, 4.0]], [[4.831391264182274, 8.0], [3.0473598155358577, 10.070999999999998]], [[2.428481331987891, 0.9898703329969727], [1.5000000000000002, 0.8659999999999999]], [[10.0, 2.0], [8.0, 1.7331764705882353]], [[1.7254960931341858, 2.20744076669159], [1.5000000000000002, 0.8659999999999999]], [[3.0473598155358577, 10.070999999999998], [2.6992248695309953, 8.0]]]\n"
     ]
    }
   ],
   "source": [
    "line_inside_poly = [[list(coord) for coord in line.coords] for line in line_intersections]\n",
    "\n",
    "print(line_inside_poly)"
   ]
  },
  {
   "cell_type": "code",
   "execution_count": 367,
   "id": "3f3038d3",
   "metadata": {},
   "outputs": [
    {
     "data": {
      "text/plain": [
       "[[[10.0, 2.0], [8.27713042139409, 4.0]],\n",
       " [[4.831391264182274, 8.0], [3.0473598155358577, 10.070999999999998]],\n",
       " [[2.428481331987891, 0.9898703329969727],\n",
       "  [1.5000000000000002, 0.8659999999999999]],\n",
       " [[10.0, 2.0], [8.0, 1.7331764705882353]],\n",
       " [[1.7254960931341858, 2.20744076669159],\n",
       "  [1.5000000000000002, 0.8659999999999999]],\n",
       " [[3.0473598155358577, 10.070999999999998], [2.6992248695309953, 8.0]]]"
      ]
     },
     "execution_count": 367,
     "metadata": {},
     "output_type": "execute_result"
    }
   ],
   "source": [
    "line_inside_poly"
   ]
  },
  {
   "cell_type": "code",
   "execution_count": 395,
   "id": "50337fe0",
   "metadata": {},
   "outputs": [
    {
     "data": {
      "text/plain": [
       "{<LINESTRING (10 2, 3.047 10.071)>: [],\n",
       " <LINESTRING (10 2, 1.5 0.866)>: [],\n",
       " <LINESTRING (3.047 10.071, 1.5 0.866)>: []}"
      ]
     },
     "execution_count": 395,
     "metadata": {},
     "output_type": "execute_result"
    }
   ],
   "source": [
    "diction_lines = {LineString(long_line_segs) : [] for long_line_segs in lines}\n",
    "diction_lines\n",
    "        "
   ]
  },
  {
   "cell_type": "code",
   "execution_count": 396,
   "id": "0190787a",
   "metadata": {},
   "outputs": [
    {
     "name": "stdout",
     "output_type": "stream",
     "text": [
      "[10.0, 2.0]\n",
      "[8.27713042139409, 4.0]\n",
      "[4.831391264182274, 8.0]\n",
      "[3.0473598155358577, 10.070999999999998]\n",
      "[2.428481331987891, 0.9898703329969727]\n",
      "[1.5000000000000002, 0.8659999999999999]\n",
      "[10.0, 2.0]\n",
      "[8.0, 1.7331764705882353]\n",
      "[1.7254960931341858, 2.20744076669159]\n",
      "[1.5000000000000002, 0.8659999999999999]\n",
      "[3.0473598155358577, 10.070999999999998]\n",
      "[2.6992248695309953, 8.0]\n"
     ]
    }
   ],
   "source": [
    "for long_line_segs in lines:\n",
    "    for small_line_segs in line_inside_poly:\n",
    "        if slope(LineString(long_line_segs)) == slope(LineString(small_line_segs)):\n",
    "            for i in range(2):\n",
    "                print(small_line_segs[i])\n",
    "                diction_lines[LineString(long_line_segs)].append(small_line_segs[i])"
   ]
  },
  {
   "cell_type": "code",
   "execution_count": 407,
   "id": "4645199b",
   "metadata": {},
   "outputs": [],
   "source": [
    "for key, value in diction_lines.items():\n",
    "    for i in range(2):\n",
    "        if list(key.coords[i]) in value:\n",
    "            diction_lines[key].remove(list(key.coords[i]))"
   ]
  },
  {
   "cell_type": "code",
   "execution_count": 408,
   "id": "beb5d090",
   "metadata": {},
   "outputs": [
    {
     "data": {
      "text/plain": [
       "{<LINESTRING (10 2, 3.047 10.071)>: [[8.27713042139409, 4.0],\n",
       "  [4.831391264182274, 8.0]],\n",
       " <LINESTRING (10 2, 1.5 0.866)>: [[2.428481331987891, 0.9898703329969727],\n",
       "  [8.0, 1.7331764705882353]],\n",
       " <LINESTRING (3.047 10.071, 1.5 0.866)>: [[1.7254960931341858,\n",
       "   2.20744076669159],\n",
       "  [2.6992248695309953, 8.0]]}"
      ]
     },
     "execution_count": 408,
     "metadata": {},
     "output_type": "execute_result"
    }
   ],
   "source": [
    "diction_lines"
   ]
  },
  {
   "cell_type": "code",
   "execution_count": 409,
   "id": "f500d162",
   "metadata": {},
   "outputs": [],
   "source": [
    "gates = []\n",
    "\n",
    "for values in diction_lines.values():\n",
    "    gates.append(LineString(values))"
   ]
  },
  {
   "cell_type": "code",
   "execution_count": 410,
   "id": "6b7ba80d",
   "metadata": {},
   "outputs": [
    {
     "data": {
      "text/plain": [
       "[<LINESTRING (8.277 4, 4.831 8)>,\n",
       " <LINESTRING (2.428 0.99, 8 1.733)>,\n",
       " <LINESTRING (1.725 2.207, 2.699 8)>]"
      ]
     },
     "execution_count": 410,
     "metadata": {},
     "output_type": "execute_result"
    }
   ],
   "source": [
    "gates"
   ]
  },
  {
   "cell_type": "code",
   "execution_count": 412,
   "id": "6c94895a",
   "metadata": {},
   "outputs": [
    {
     "data": {
      "text/plain": [
       "[<matplotlib.lines.Line2D at 0x7fb21c120700>]"
      ]
     },
     "execution_count": 412,
     "metadata": {},
     "output_type": "execute_result"
    },
    {
     "data": {
      "image/png": "[encoded data removed]",
      "text/plain": [
       "<Figure size 640x480 with 1 Axes>"
      ]
     },
     "metadata": {},
     "output_type": "display_data"
    },
    {
     "data": {
      "image/png": "[encoded data removed]",
      "text/plain": [
       "<Figure size 640x480 with 1 Axes>"
      ]
     },
     "metadata": {},
     "output_type": "display_data"
    }
   ],
   "source": [
    "fig, ax = plt.subplots()\n",
    "\n",
    "# Get the exterior coordinates of each polygon\n",
    "x1, y1 = triangle.exterior.xy\n",
    "x2, y2 = square.exterior.xy\n",
    "x3, y3 = pentagon.exterior.xy\n",
    "\n",
    "# Create a figure and axis\n",
    "fig, ax = plt.subplots()\n",
    "\n",
    "# Fill the polygons\n",
    "ax.fill(x1, y1, 'r', alpha=0.3, label='Triangle')\n",
    "ax.fill(x2, y2, 'g', alpha=0.3, label='Square')\n",
    "ax.fill(x3, y3, 'b', alpha=0.3, label='Pentagon')\n",
    "\n",
    "plt.plot(centroid1[0][0], centroid1[0][1], 'X')\n",
    "plt.plot(centroid2[0][0], centroid2[0][1], 'X')\n",
    "plt.plot(centroid3[0][0], centroid3[0][1], 'X')"
   ]
  },
  {
   "cell_type": "code",
   "execution_count": null,
   "id": "c31a20d1",
   "metadata": {},
   "outputs": [],
   "source": []
  },
  {
   "cell_type": "code",
   "execution_count": 398,
   "id": "6c656a31",
   "metadata": {
    "scrolled": true
   },
   "outputs": [
    {
     "data": {
      "text/plain": [
       "[10.0, 2.0]"
      ]
     },
     "execution_count": 398,
     "metadata": {},
     "output_type": "execute_result"
    }
   ],
   "source": [
    "list(LineString(lines[0]).coords[0])"
   ]
  },
  {
   "cell_type": "code",
   "execution_count": 406,
   "id": "e6251433",
   "metadata": {},
   "outputs": [
    {
     "data": {
      "text/plain": [
       "[1, 3]"
      ]
     },
     "execution_count": 406,
     "metadata": {},
     "output_type": "execute_result"
    }
   ],
   "source": [
    "a =[1,2,3]\n",
    "a.remove(2)\n",
    "a"
   ]
  },
  {
   "cell_type": "code",
   "execution_count": 400,
   "id": "49c46e0e",
   "metadata": {},
   "outputs": [
    {
     "data": {
      "text/plain": [
       "[10.0, 2.0]"
      ]
     },
     "execution_count": 400,
     "metadata": {},
     "output_type": "execute_result"
    }
   ],
   "source": [
    "diction_lines[LineString(lines[0])][0]"
   ]
  },
  {
   "cell_type": "code",
   "execution_count": 379,
   "id": "5f020c25",
   "metadata": {},
   "outputs": [],
   "source": [
    "new_diction = {LineString(long_line_segs) : [] for long_line_segs in lines}\n",
    "\n",
    "for key, values in diction_lines.items():\n",
    "    for i in range(2):\n",
    "        for j in range(2):\n",
    "            new_diction[key].append(value[i][j])"
   ]
  },
  {
   "cell_type": "code",
   "execution_count": 380,
   "id": "14e59525",
   "metadata": {},
   "outputs": [
    {
     "data": {
      "text/plain": [
       "{<LINESTRING (10 2, 3.047 10.071)>: [[1.7254960931341858, 2.20744076669159],\n",
       "  [1.5000000000000002, 0.8659999999999999],\n",
       "  [3.0473598155358577, 10.070999999999998],\n",
       "  [2.6992248695309953, 8.0]],\n",
       " <LINESTRING (10 2, 1.5 0.866)>: [[1.7254960931341858, 2.20744076669159],\n",
       "  [1.5000000000000002, 0.8659999999999999],\n",
       "  [3.0473598155358577, 10.070999999999998],\n",
       "  [2.6992248695309953, 8.0]],\n",
       " <LINESTRING (3.047 10.071, 1.5 0.866)>: [[1.7254960931341858,\n",
       "   2.20744076669159],\n",
       "  [1.5000000000000002, 0.8659999999999999],\n",
       "  [3.0473598155358577, 10.070999999999998],\n",
       "  [2.6992248695309953, 8.0]]}"
      ]
     },
     "execution_count": 380,
     "metadata": {},
     "output_type": "execute_result"
    }
   ],
   "source": [
    "new_diction"
   ]
  },
  {
   "cell_type": "code",
   "execution_count": 336,
   "id": "9e8272ea",
   "metadata": {},
   "outputs": [
    {
     "data": {
      "text/plain": [
       "[(1.5000000000000002, 0.8659999999999999)]"
      ]
     },
     "execution_count": 336,
     "metadata": {},
     "output_type": "execute_result"
    }
   ],
   "source": [
    "centroid1"
   ]
  },
  {
   "cell_type": "code",
   "execution_count": 371,
   "id": "43d778fa",
   "metadata": {},
   "outputs": [
    {
     "data": {
      "text/plain": [
       "[[[10.0, 2.0], [8.27713042139409, 4.0]],\n",
       " [[4.831391264182274, 8.0], [3.0473598155358577, 10.070999999999998]]]"
      ]
     },
     "execution_count": 371,
     "metadata": {},
     "output_type": "execute_result"
    }
   ],
   "source": [
    "diction_lines[LineString(lines[0])] = [[[10.0, 2.0], [8.27713042139409, 4.0]],\n",
    " [[4.831391264182274, 8.0], [3.0473598155358577, 10.070999999999998]]]"
   ]
  },
  {
   "cell_type": "code",
   "execution_count": 313,
   "id": "b70cbd44",
   "metadata": {
    "scrolled": true
   },
   "outputs": [
    {
     "name": "stdout",
     "output_type": "stream",
     "text": [
      "[(10.0, 2.0), (3.0473598155358577, 10.070999999999998)]\n",
      "[(10.0, 2.0), (1.5000000000000002, 0.8659999999999999)]\n",
      "[(3.0473598155358577, 10.070999999999998), (1.5000000000000002, 0.8659999999999999)]\n"
     ]
    }
   ],
   "source": [
    "for _ in lines:\n",
    "    print(_)"
   ]
  },
  {
   "cell_type": "code",
   "execution_count": 372,
   "id": "f97b06e7",
   "metadata": {},
   "outputs": [
    {
     "name": "stdout",
     "output_type": "stream",
     "text": [
      "(10.0, 2.0)\n",
      "[10.0, 2.0]\n",
      "[8.27713042139409, 4.0]\n",
      "[4.831391264182274, 8.0]\n",
      "[3.0473598155358577, 10.070999999999998]\n",
      "(3.0473598155358577, 10.070999999999998)\n",
      "[10.0, 2.0]\n",
      "[8.27713042139409, 4.0]\n",
      "[4.831391264182274, 8.0]\n",
      "[3.0473598155358577, 10.070999999999998]\n",
      "#########\n",
      "(10.0, 2.0)\n",
      "[2.428481331987891, 0.9898703329969727]\n",
      "[1.5000000000000002, 0.8659999999999999]\n",
      "[10.0, 2.0]\n",
      "[8.0, 1.7331764705882353]\n",
      "(1.5000000000000002, 0.8659999999999999)\n",
      "[2.428481331987891, 0.9898703329969727]\n",
      "[1.5000000000000002, 0.8659999999999999]\n",
      "[10.0, 2.0]\n",
      "[8.0, 1.7331764705882353]\n",
      "#########\n",
      "(3.0473598155358577, 10.070999999999998)\n",
      "[1.7254960931341858, 2.20744076669159]\n",
      "[1.5000000000000002, 0.8659999999999999]\n",
      "[3.0473598155358577, 10.070999999999998]\n",
      "[2.6992248695309953, 8.0]\n",
      "(1.5000000000000002, 0.8659999999999999)\n",
      "[1.7254960931341858, 2.20744076669159]\n",
      "[1.5000000000000002, 0.8659999999999999]\n",
      "[3.0473598155358577, 10.070999999999998]\n",
      "[2.6992248695309953, 8.0]\n",
      "#########\n"
     ]
    }
   ],
   "source": [
    "for key, value in diction_lines.items():\n",
    "    for i in range(0,2):\n",
    "        print(tuple(key.coords[i]))\n",
    "        for j in range(0,2):\n",
    "            #print(value[j])\n",
    "            for k in range(0,2):\n",
    "                print(value[j][k])\n",
    "    \n",
    "    #print(list(key.coords[0]))\n",
    "    #print(list(key.coords[1]))\n",
    "    #print(list(value[0][0]))\n",
    "      \n",
    "    print(\"#########\")"
   ]
  },
  {
   "cell_type": "code",
   "execution_count": 349,
   "id": "960b3c33",
   "metadata": {},
   "outputs": [
    {
     "data": {
      "text/plain": [
       "([(1.5000000000000002, 0.8659999999999999)], [(10.0, 2.0)])"
      ]
     },
     "execution_count": 349,
     "metadata": {},
     "output_type": "execute_result"
    }
   ],
   "source": [
    "centroid1, centroid2"
   ]
  },
  {
   "cell_type": "code",
   "execution_count": 290,
   "id": "8b5f0256",
   "metadata": {},
   "outputs": [
    {
     "data": {
      "text/plain": [
       "[[(8.27713042139409, 4.0), (3.0473598155358577, 10.070999999999998)],\n",
       " [(4.831391264182274, 8.0), (10.0, 2.0)],\n",
       " [(2.428481331987891, 0.9898703329969727), (10.0, 2.0)],\n",
       " [(8.0, 1.7331764705882353), (1.5000000000000002, 0.8659999999999999)],\n",
       " [(1.7254960931341858, 2.20744076669159),\n",
       "  (3.0473598155358577, 10.070999999999998)],\n",
       " [(2.6992248695309953, 8.0), (1.5000000000000002, 0.8659999999999999)]]"
      ]
     },
     "execution_count": 290,
     "metadata": {},
     "output_type": "execute_result"
    }
   ],
   "source": [
    "hello = []\n",
    "\n",
    "for long_linesegs in lines:\n",
    "    for small_linesegs in line_inside_poly:\n",
    "        if slope(LineString(long_linesegs)) == slope(LineString(small_linesegs)):\n",
    "            x = discard_common_vertex(small_linesegs, long_linesegs)\n",
    "            hello.append(x)\n",
    "\n",
    "hello"
   ]
  },
  {
   "cell_type": "code",
   "execution_count": 289,
   "id": "19f0beca",
   "metadata": {},
   "outputs": [
    {
     "name": "stdout",
     "output_type": "stream",
     "text": [
      "-1.161\n",
      "-1.161\n",
      "0.133\n",
      "0.133\n",
      "5.949\n",
      "5.949\n"
     ]
    }
   ],
   "source": [
    "for _ in hello:\n",
    "    print(slope(LineString(_)))"
   ]
  },
  {
   "cell_type": "code",
   "execution_count": 185,
   "id": "a7d47896",
   "metadata": {},
   "outputs": [
    {
     "data": {
      "image/svg+xml": [
       "<svg xmlns=\"http://www.w3.org/2000/svg\" xmlns:xlink=\"http://www.w3.org/1999/xlink\" width=\"100.0\" height=\"100.0\" viewBox=\"8.19713042139409 1.92 1.8828695786059093 2.16\" preserveAspectRatio=\"xMinYMin meet\"><g transform=\"matrix(1,0,0,-1,0,6.0)\"><polyline fill=\"none\" stroke=\"#66cc99\" stroke-width=\"0.0432\" points=\"10.0,2.0 8.27713042139409,4.0\" opacity=\"0.8\" /></g></svg>"
      ],
      "text/plain": [
       "<LINESTRING (10 2, 8.277 4)>"
      ]
     },
     "execution_count": 185,
     "metadata": {},
     "output_type": "execute_result"
    }
   ],
   "source": [
    "line_intersections[1]"
   ]
  },
  {
   "cell_type": "code",
   "execution_count": 172,
   "id": "6b1b0c53",
   "metadata": {},
   "outputs": [
    {
     "name": "stdout",
     "output_type": "stream",
     "text": [
      "LINESTRING (10 2, 8.27713042139409 4)\n"
     ]
    }
   ],
   "source": [
    "print(line_intersections[1])"
   ]
  },
  {
   "cell_type": "code",
   "execution_count": 173,
   "id": "16c3c094",
   "metadata": {},
   "outputs": [
    {
     "name": "stdout",
     "output_type": "stream",
     "text": [
      "LINESTRING (10 2, 3.0473598155358577 10.070999999999998)\n"
     ]
    }
   ],
   "source": [
    "print(lines[0].difference(line_intersections[1]))"
   ]
  },
  {
   "cell_type": "code",
   "execution_count": 186,
   "id": "bb27ebb4",
   "metadata": {},
   "outputs": [],
   "source": [
    "x1, y1 = lines[0].xy"
   ]
  },
  {
   "cell_type": "code",
   "execution_count": 187,
   "id": "38eeb5af",
   "metadata": {},
   "outputs": [
    {
     "data": {
      "text/plain": [
       "array('d', [10.0, 3.0473598155358577])"
      ]
     },
     "execution_count": 187,
     "metadata": {},
     "output_type": "execute_result"
    }
   ],
   "source": [
    "x1"
   ]
  },
  {
   "cell_type": "code",
   "execution_count": 188,
   "id": "22fee049",
   "metadata": {},
   "outputs": [
    {
     "data": {
      "text/plain": [
       "array('d', [2.0, 10.070999999999998])"
      ]
     },
     "execution_count": 188,
     "metadata": {},
     "output_type": "execute_result"
    }
   ],
   "source": [
    "y1"
   ]
  },
  {
   "cell_type": "code",
   "execution_count": 189,
   "id": "93a0f550",
   "metadata": {},
   "outputs": [],
   "source": [
    "x2, y2 = line_intersections[1].xy"
   ]
  },
  {
   "cell_type": "code",
   "execution_count": 190,
   "id": "190f79fe",
   "metadata": {},
   "outputs": [
    {
     "data": {
      "text/plain": [
       "array('d', [10.0, 8.27713042139409])"
      ]
     },
     "execution_count": 190,
     "metadata": {},
     "output_type": "execute_result"
    }
   ],
   "source": [
    "x2"
   ]
  },
  {
   "cell_type": "code",
   "execution_count": 191,
   "id": "3777b7a8",
   "metadata": {},
   "outputs": [
    {
     "data": {
      "text/plain": [
       "array('d', [2.0, 4.0])"
      ]
     },
     "execution_count": 191,
     "metadata": {},
     "output_type": "execute_result"
    }
   ],
   "source": [
    "y2"
   ]
  },
  {
   "cell_type": "code",
   "execution_count": 192,
   "id": "82e3c874",
   "metadata": {},
   "outputs": [
    {
     "data": {
      "text/plain": [
       "[<matplotlib.lines.Line2D at 0x7fb21da36460>]"
      ]
     },
     "execution_count": 192,
     "metadata": {},
     "output_type": "execute_result"
    },
    {
     "data": {
      "image/png": "[encoded data removed]",
      "text/plain": [
       "<Figure size 640x480 with 1 Axes>"
      ]
     },
     "metadata": {},
     "output_type": "display_data"
    }
   ],
   "source": [
    "fig, ax = plt.subplots()\n",
    "\n",
    "plt.plot(x1,y1, 'red')\n",
    "plt.plot(x2,y2, 'blue')"
   ]
  },
  {
   "cell_type": "code",
   "execution_count": 235,
   "id": "81d8810b",
   "metadata": {},
   "outputs": [
    {
     "name": "stdout",
     "output_type": "stream",
     "text": [
      "-1.161\n"
     ]
    }
   ],
   "source": [
    "line1 = lines[0]\n",
    "\n",
    "slope1 = slope(line1)\n",
    "print(slope1)"
   ]
  },
  {
   "cell_type": "code",
   "execution_count": 236,
   "id": "d3bee329",
   "metadata": {},
   "outputs": [
    {
     "name": "stdout",
     "output_type": "stream",
     "text": [
      "-1.161\n"
     ]
    }
   ],
   "source": [
    "line2 = line_intersections[1]\n",
    "\n",
    "slope2 = slope(line2)\n",
    "print(slope2)"
   ]
  },
  {
   "cell_type": "code",
   "execution_count": 242,
   "id": "6d1a652a",
   "metadata": {},
   "outputs": [
    {
     "name": "stdout",
     "output_type": "stream",
     "text": [
      "LINESTRING (10 2, 3.0473598155358577 10.070999999999998)\n",
      "LINESTRING (10 2, 8.27713042139409 4)\n"
     ]
    }
   ],
   "source": [
    "print(line1)\n",
    "print(line2)"
   ]
  },
  {
   "cell_type": "code",
   "execution_count": null,
   "id": "a0132e2a",
   "metadata": {},
   "outputs": [],
   "source": [
    "if slope(line1) == slope(line2):\n",
    "    new_line = Line"
   ]
  },
  {
   "cell_type": "code",
   "execution_count": 246,
   "id": "a3af6cfb",
   "metadata": {},
   "outputs": [
    {
     "data": {
      "text/plain": [
       "tuple"
      ]
     },
     "execution_count": 246,
     "metadata": {},
     "output_type": "execute_result"
    }
   ],
   "source": []
  },
  {
   "cell_type": "code",
   "execution_count": 199,
   "id": "9af0f83f",
   "metadata": {},
   "outputs": [
    {
     "data": {
      "text/plain": [
       "True"
      ]
     },
     "execution_count": 199,
     "metadata": {},
     "output_type": "execute_result"
    }
   ],
   "source": [
    "line1.intersects(line2)"
   ]
  },
  {
   "cell_type": "code",
   "execution_count": 202,
   "id": "74c7e1f5",
   "metadata": {},
   "outputs": [
    {
     "name": "stdout",
     "output_type": "stream",
     "text": [
      "LINESTRING (10 2, 8.27713042139409 4)\n"
     ]
    }
   ],
   "source": [
    "print(line2.difference(line1))"
   ]
  },
  {
   "cell_type": "code",
   "execution_count": 259,
   "id": "3195a311",
   "metadata": {},
   "outputs": [],
   "source": [
    "new_line = []\n",
    "\n",
    "for line in lines:\n",
    "    for line_seg in line_intersections:\n",
    "        new_line.append(slope(line) == slope(line_seg))\n",
    "            "
   ]
  },
  {
   "cell_type": "code",
   "execution_count": 260,
   "id": "54fe6e52",
   "metadata": {},
   "outputs": [
    {
     "data": {
      "text/plain": [
       "[True,\n",
       " True,\n",
       " False,\n",
       " False,\n",
       " False,\n",
       " False,\n",
       " False,\n",
       " False,\n",
       " True,\n",
       " True,\n",
       " False,\n",
       " False,\n",
       " False,\n",
       " False,\n",
       " False,\n",
       " False,\n",
       " True,\n",
       " True]"
      ]
     },
     "execution_count": 260,
     "metadata": {},
     "output_type": "execute_result"
    }
   ],
   "source": [
    "new_line"
   ]
  },
  {
   "cell_type": "code",
   "execution_count": 155,
   "id": "0a9e2a3b",
   "metadata": {
    "scrolled": true
   },
   "outputs": [
    {
     "data": {
      "text/plain": [
       "False"
      ]
     },
     "execution_count": 155,
     "metadata": {},
     "output_type": "execute_result"
    }
   ],
   "source": [
    "lines[0].(line_intersections[1])"
   ]
  },
  {
   "cell_type": "code",
   "execution_count": 156,
   "id": "01454684",
   "metadata": {},
   "outputs": [
    {
     "data": {
      "text/plain": [
       "False"
      ]
     },
     "execution_count": 156,
     "metadata": {},
     "output_type": "execute_result"
    }
   ],
   "source": [
    "line_intersections[1].covered_by(lines[0])"
   ]
  },
  {
   "cell_type": "code",
   "execution_count": 218,
   "id": "0c6e3059",
   "metadata": {
    "scrolled": false
   },
   "outputs": [
    {
     "data": {
      "image/svg+xml": [
       "<svg xmlns=\"http://www.w3.org/2000/svg\" xmlns:xlink=\"http://www.w3.org/1999/xlink\" width=\"100.0\" height=\"100.0\" viewBox=\"2.724164 1.6771639999999999 7.5986720000000005 8.716572000000001\" preserveAspectRatio=\"xMinYMin meet\"><g transform=\"matrix(1,0,0,-1,0,12.0709)\"><polyline fill=\"none\" stroke=\"#66cc99\" stroke-width=\"0.17433144000000003\" points=\"10.0,2.0 3.047,10.0709\" opacity=\"0.8\" /></g></svg>"
      ],
      "text/plain": [
       "<LINESTRING (10 2, 3.047 10.071)>"
      ]
     },
     "execution_count": 218,
     "metadata": {},
     "output_type": "execute_result"
    },
    {
     "data": {
      "image/png": "[encoded data removed]",
      "text/plain": [
       "<Figure size 640x480 with 1 Axes>"
      ]
     },
     "metadata": {},
     "output_type": "display_data"
    }
   ],
   "source": [
    "from shapely.geometry import LineString\n",
    "\n",
    "# Create two LineString objects\n",
    "line1 = LineString([(10, 2), (3.047, 10.0709)])\n",
    "line2 = LineString([(10, 2), (8.277, 4)])\n",
    "\n",
    "x1,y1 = line1.xy\n",
    "x2,y2 = line2.xy\n",
    "\n",
    "fix, ax = plt.subplots()\n",
    "\n",
    "plt.plot(x1,y1, 'red')\n",
    "plt.plot(x2,y2, 'green')\n",
    "\n",
    "line1.difference(line2)\n",
    "# Find the difference of the two LineString objects\n",
    "#difference = line1.difference(line2)\n",
    "\n",
    "# Print the resulting geometry (could be empty if there's no difference)\n",
    "#print(difference)\n"
   ]
  },
  {
   "cell_type": "code",
   "execution_count": 219,
   "id": "a733d053",
   "metadata": {},
   "outputs": [
    {
     "data": {
      "text/plain": [
       "array('d', [10.0, 3.047])"
      ]
     },
     "execution_count": 219,
     "metadata": {},
     "output_type": "execute_result"
    }
   ],
   "source": [
    "x1"
   ]
  },
  {
   "cell_type": "code",
   "execution_count": 220,
   "id": "4243a7d1",
   "metadata": {},
   "outputs": [
    {
     "data": {
      "text/plain": [
       "array('d', [2.0, 10.0709])"
      ]
     },
     "execution_count": 220,
     "metadata": {},
     "output_type": "execute_result"
    }
   ],
   "source": [
    "y1"
   ]
  },
  {
   "cell_type": "code",
   "execution_count": 221,
   "id": "ba34ca1e",
   "metadata": {
    "scrolled": true
   },
   "outputs": [
    {
     "data": {
      "text/plain": [
       "array('d', [10.0, 8.277])"
      ]
     },
     "execution_count": 221,
     "metadata": {},
     "output_type": "execute_result"
    }
   ],
   "source": [
    "x2"
   ]
  },
  {
   "cell_type": "code",
   "execution_count": 222,
   "id": "555040df",
   "metadata": {},
   "outputs": [
    {
     "data": {
      "text/plain": [
       "array('d', [2.0, 4.0])"
      ]
     },
     "execution_count": 222,
     "metadata": {},
     "output_type": "execute_result"
    }
   ],
   "source": [
    "y2"
   ]
  },
  {
   "cell_type": "code",
   "execution_count": 223,
   "id": "98fa60b3",
   "metadata": {},
   "outputs": [],
   "source": [
    "dif = line1.difference(line2)"
   ]
  },
  {
   "cell_type": "code",
   "execution_count": 224,
   "id": "15592653",
   "metadata": {},
   "outputs": [
    {
     "name": "stdout",
     "output_type": "stream",
     "text": [
      "LINESTRING (10 2, 3.047 10.0709)\n"
     ]
    }
   ],
   "source": [
    "print(dif)"
   ]
  },
  {
   "cell_type": "code",
   "execution_count": 225,
   "id": "20088dae",
   "metadata": {},
   "outputs": [],
   "source": [
    "x, y = dif.xy"
   ]
  },
  {
   "cell_type": "code",
   "execution_count": 226,
   "id": "f1a58fee",
   "metadata": {},
   "outputs": [
    {
     "data": {
      "text/plain": [
       "array('d', [10.0, 3.047])"
      ]
     },
     "execution_count": 226,
     "metadata": {},
     "output_type": "execute_result"
    }
   ],
   "source": [
    "x"
   ]
  },
  {
   "cell_type": "code",
   "execution_count": 217,
   "id": "8b352386",
   "metadata": {},
   "outputs": [
    {
     "data": {
      "text/plain": [
       "array('d', [0.0, 1.0])"
      ]
     },
     "execution_count": 217,
     "metadata": {},
     "output_type": "execute_result"
    }
   ],
   "source": [
    "y"
   ]
  },
  {
   "cell_type": "code",
   "execution_count": 227,
   "id": "3817836b",
   "metadata": {},
   "outputs": [
    {
     "name": "stdout",
     "output_type": "stream",
     "text": [
      "Slope of the line: 1.0\n"
     ]
    }
   ],
   "source": [
    "from shapely.geometry import LineString\n",
    "\n",
    "# Create a LineString object\n",
    "line = LineString([(1, 2), (4, 5)])\n",
    "\n",
    "# Extract coordinates from LineString endpoints\n",
    "x1, y1 = line.coords[0]\n",
    "x2, y2 = line.coords[1]\n",
    "\n",
    "# Calculate the slope\n",
    "slope = (y2 - y1) / (x2 - x1)\n",
    "\n",
    "print(\"Slope of the line:\", slope)\n"
   ]
  },
  {
   "cell_type": "code",
   "execution_count": 516,
   "id": "5c48dbab",
   "metadata": {},
   "outputs": [],
   "source": [
    "def slope(line: LineString):\n",
    "    x1, y1 = line.coords[0]\n",
    "    x2, y2 = line.coords[1]\n",
    "\n",
    "    # Calculate the slope\n",
    "    slope = (y2 - y1) / (x2 - x1)\n",
    "    \n",
    "    slope = round(slope,3)\n",
    "    \n",
    "    return slope"
   ]
  },
  {
   "cell_type": "code",
   "execution_count": 261,
   "id": "b02cc9d7",
   "metadata": {},
   "outputs": [
    {
     "data": {
      "text/plain": [
       "-1.161"
      ]
     },
     "execution_count": 261,
     "metadata": {},
     "output_type": "execute_result"
    }
   ],
   "source": [
    "slope(line1)"
   ]
  },
  {
   "cell_type": "code",
   "execution_count": 283,
   "id": "bfd1f084",
   "metadata": {},
   "outputs": [
    {
     "data": {
      "text/plain": [
       "[(10.0, 2.0), (3.0473598155358577, 10.070999999999998)]"
      ]
     },
     "execution_count": 283,
     "metadata": {},
     "output_type": "execute_result"
    }
   ],
   "source": [
    "long_linesegs = lines[0]\n",
    "long_linesegs = [(10.0, 2.0), (3.0473598155358577, 10.070999999999998)]"
   ]
  },
  {
   "cell_type": "code",
   "execution_count": 284,
   "id": "2498cbed",
   "metadata": {},
   "outputs": [
    {
     "data": {
      "text/plain": [
       "[(10.0, 2.0), (8.27713042139409, 4.0)]"
      ]
     },
     "execution_count": 284,
     "metadata": {},
     "output_type": "execute_result"
    }
   ],
   "source": [
    "small_linesegs = line_inside_poly[0]\n",
    "small_linesegs = [(10.0, 2.0), (8.27713042139409, 4.0)]"
   ]
  },
  {
   "cell_type": "code",
   "execution_count": 285,
   "id": "9290ac05",
   "metadata": {},
   "outputs": [],
   "source": [
    "long_linesegs = [(10.0, 2.0), (3.0473598155358577, 10.070999999999998)]\n",
    "small_linesegs = [(10.0, 2.0), (8.27713042139409, 4.0)]"
   ]
  },
  {
   "cell_type": "code",
   "execution_count": 286,
   "id": "b55fbcad",
   "metadata": {},
   "outputs": [
    {
     "name": "stdout",
     "output_type": "stream",
     "text": [
      "[(3.0473598155358577, 10.070999999999998), (8.27713042139409, 4.0)]\n"
     ]
    }
   ],
   "source": [
    "def discard_common_vertex(line1, line2):\n",
    "    common_vertex = None\n",
    "    for vertex in line1:\n",
    "        if vertex in line2:\n",
    "            common_vertex = vertex\n",
    "            break\n",
    "    \n",
    "    if common_vertex is None:\n",
    "        return None\n",
    "    \n",
    "    new_line = [vertex for vertex in line1 if vertex != common_vertex] + [vertex for vertex in line2 if vertex != common_vertex]\n",
    "    return new_line\n",
    "\n",
    "# Test with your example data\n",
    "long_linesegs = [(10.0, 2.0), (3.0473598155358577, 10.070999999999998)]\n",
    "small_linesegs = [(10.0, 2.0), (8.27713042139409, 4.0)]\n",
    "\n",
    "new_line = discard_common_vertex(long_linesegs, small_linesegs)\n",
    "print(new_line)\n"
   ]
  },
  {
   "cell_type": "code",
   "execution_count": 291,
   "id": "a42956f5",
   "metadata": {},
   "outputs": [
    {
     "name": "stdout",
     "output_type": "stream",
     "text": [
      "[[(0.0, 0.0), (-5.229770605858233, 6.070999999999998)], [(5.168608735817726, -6.0), (0.0, 0.0)], [(7.571518668012109, 1.0101296670030273), (0.0, 0.0)], [(0.0, 0.0), (-6.5, -0.8671764705882354)], [(1.3218637224016718, 7.863559233308408), (0.0, 0.0)], [(0.0, 0.0), (-1.199224869530995, -7.134)]]\n"
     ]
    }
   ],
   "source": [
    "from shapely.geometry import LineString\n",
    "\n",
    "def subtract_lines(original_lines, small_line_segments):\n",
    "    subtracted_lines = []\n",
    "\n",
    "    for segment in small_line_segments:\n",
    "        segment_line = LineString(segment)\n",
    "        segment_slope = slope(segment_line)\n",
    "\n",
    "        for line in original_lines:\n",
    "            line_string = LineString(line)\n",
    "            line_slope = slope(line_string)\n",
    "\n",
    "            if line_slope == segment_slope:\n",
    "                # Subtract the coordinates of the segment from the line\n",
    "                subtracted_coords = [(x1 - x2, y1 - y2) for ((x1, y1), (x2, y2)) in zip(line, segment)]\n",
    "                subtracted_lines.append(subtracted_coords)\n",
    "                break  # Move to the next segment\n",
    "\n",
    "    return subtracted_lines\n",
    "\n",
    "# Your original lines and small line segments\n",
    "lines = [[(10.0, 2.0), (3.0473598155358577, 10.070999999999998)],\n",
    "         [(10.0, 2.0), (1.5000000000000002, 0.8659999999999999)],\n",
    "         [(3.0473598155358577, 10.070999999999998), (1.5000000000000002, 0.8659999999999999)]]\n",
    "\n",
    "small_line_segments = [[(10.0, 2.0), (8.27713042139409, 4.0)],\n",
    "                      [(4.831391264182274, 8.0), (3.0473598155358577, 10.070999999999998)],\n",
    "                      [(2.428481331987891, 0.9898703329969727), (1.5000000000000002, 0.8659999999999999)],\n",
    "                      [(10.0, 2.0), (8.0, 1.7331764705882353)],\n",
    "                      [(1.7254960931341858, 2.20744076669159), (1.5000000000000002, 0.8659999999999999)],\n",
    "                      [(3.0473598155358577, 10.070999999999998), (2.6992248695309953, 8.0)]]\n",
    "\n",
    "result = subtract_lines(lines, small_line_segments)\n",
    "print(result)\n"
   ]
  },
  {
   "cell_type": "code",
   "execution_count": null,
   "id": "6e99cb30",
   "metadata": {},
   "outputs": [],
   "source": []
  },
  {
   "cell_type": "code",
   "execution_count": null,
   "id": "6164c14d",
   "metadata": {},
   "outputs": [],
   "source": []
  },
  {
   "cell_type": "code",
   "execution_count": null,
   "id": "76e8cc43",
   "metadata": {},
   "outputs": [],
   "source": []
  },
  {
   "cell_type": "code",
   "execution_count": 296,
   "id": "bd920907",
   "metadata": {},
   "outputs": [
    {
     "data": {
      "image/png": "[encoded data removed]",
      "text/plain": [
       "<Figure size 800x600 with 1 Axes>"
      ]
     },
     "metadata": {},
     "output_type": "display_data"
    }
   ],
   "source": [
    "import numpy as np\n",
    "import matplotlib as mpl\n",
    "import matplotlib.pyplot as plt\n",
    "\n",
    "class MyTransform(mpl.transforms.Transform):\n",
    "  input_dims = 2\n",
    "  output_dims = 2\n",
    "  def __init__(self, base_point, base_transform, offset, *kargs, **kwargs):\n",
    "    self.base_point = base_point\n",
    "    self.base_transform = base_transform\n",
    "    self.offset = offset\n",
    "    super(mpl.transforms.Transform, self).__init__(*kargs, **kwargs)\n",
    "  def transform_non_affine(self, values):\n",
    "    new_base_point = self.base_transform.transform(self.base_point)\n",
    "    t = mpl.transforms.Affine2D().translate(-new_base_point[0], -new_base_point[1])\n",
    "    values = t.transform(values)\n",
    "    x = values[:, 0:1]\n",
    "    y = values[:, 1:2]\n",
    "    r = np.sqrt(x**2+y**2)\n",
    "    new_r = r-self.offset\n",
    "    new_r[new_r<0] = 0.0\n",
    "    new_x = new_r/r*x\n",
    "    new_y = new_r/r*y\n",
    "    return t.inverted().transform(np.concatenate((new_x, new_y), axis=1))\n",
    "\n",
    "def my_plot(X,Y):\n",
    "  ax = plt.gca()\n",
    "  line, = ax.plot(X, Y, marker='o', linestyle='')\n",
    "  color = line.get_color()\n",
    "\n",
    "  size = X.size\n",
    "  for i in range(1,size):\n",
    "    mid_x = (X[i]+X[i-1])/2\n",
    "    mid_y = (Y[i]+Y[i-1])/2\n",
    "\n",
    "    # this transform takes data coords and returns display coords\n",
    "    t = ax.transData\n",
    "\n",
    "    # this transform takes display coords and \n",
    "    # returns them shifted by `offset' towards `base_point'\n",
    "    my_t = MyTransform(base_point=(mid_x, mid_y), base_transform=t, offset=10)\n",
    "\n",
    "    # resulting combination of transforms\n",
    "    t_end = t + my_t\n",
    "\n",
    "    line, = ax.plot(\n",
    "      [X[i-1], X[i]],\n",
    "      [Y[i-1], Y[i]],\n",
    "      linestyle='-', color=color)\n",
    "    line.set_transform(t_end)\n",
    "\n",
    "fig = plt.figure(figsize=(8,6))\n",
    "axes = plt.subplot(111)\n",
    "\n",
    "X = np.linspace(0,2*np.pi, 8)\n",
    "Y = np.sin(X)\n",
    "my_plot(X,Y)\n",
    "plt.show()"
   ]
  },
  {
   "cell_type": "code",
   "execution_count": 295,
   "id": "c66ebec6",
   "metadata": {},
   "outputs": [
    {
     "name": "stdout",
     "output_type": "stream",
     "text": [
      "Defaulting to user installation because normal site-packages is not writeable\n",
      "\u001b[31mERROR: Could not find a version that satisfies the requirement zoneinfo (from versions: none)\u001b[0m\u001b[31m\n",
      "\u001b[0m\u001b[31mERROR: No matching distribution found for zoneinfo\u001b[0m\u001b[31m\n",
      "\u001b[0mNote: you may need to restart the kernel to use updated packages.\n"
     ]
    }
   ],
   "source": [
    "pip install zoneinfo"
   ]
  },
  {
   "cell_type": "code",
   "execution_count": 9,
   "id": "134c29ca",
   "metadata": {},
   "outputs": [
    {
     "data": {
      "image/png": "[encoded data removed]",
      "text/plain": [
       "<Figure size 640x480 with 1 Axes>"
      ]
     },
     "metadata": {},
     "output_type": "display_data"
    }
   ],
   "source": [
    "import matplotlib.pyplot as plt\n",
    "import matplotlib.patches as patches\n",
    "\n",
    "fig, ax = plt.subplots()\n",
    "\n",
    "# Create a rectangle\n",
    "rectangle = patches.Rectangle((0.1, 0.1), 0.5, 0.3, linewidth=2, edgecolor='r', facecolor='none')\n",
    "ax.add_patch(rectangle)\n",
    "\n",
    "# Create a circle\n",
    "circle = patches.Circle((0.7, 0.5), 0.2, linewidth=2, edgecolor='b', facecolor='none')\n",
    "ax.add_patch(circle)\n",
    "\n",
    "ax.set_xlim(0, 1)\n",
    "ax.set_ylim(0, 1)\n",
    "plt.show()\n"
   ]
  },
  {
   "cell_type": "code",
   "execution_count": 11,
   "id": "7832b9b8",
   "metadata": {},
   "outputs": [
    {
     "data": {
      "text/plain": [
       "array([[0.1, 0.1],\n",
       "       [0.6, 0.1],\n",
       "       [0.6, 0.4],\n",
       "       [0.1, 0.4]])"
      ]
     },
     "execution_count": 11,
     "metadata": {},
     "output_type": "execute_result"
    }
   ],
   "source": [
    "rectangle.get_corners()"
   ]
  },
  {
   "cell_type": "code",
   "execution_count": 24,
   "id": "3993cc39",
   "metadata": {},
   "outputs": [
    {
     "ename": "KeyboardInterrupt",
     "evalue": "",
     "output_type": "error",
     "traceback": [
      "\u001b[0;31m---------------------------------------------------------------------------\u001b[0m",
      "\u001b[0;31mKeyboardInterrupt\u001b[0m                         Traceback (most recent call last)",
      "Cell \u001b[0;32mIn[24], line 38\u001b[0m\n\u001b[1;32m     35\u001b[0m polygon \u001b[38;5;241m=\u001b[39m Polygon(np\u001b[38;5;241m.\u001b[39mcolumn_stack((x, y)))\n\u001b[1;32m     37\u001b[0m \u001b[38;5;66;03m# Check for convexity, aspect ratio, and intersections with existing polygons\u001b[39;00m\n\u001b[0;32m---> 38\u001b[0m \u001b[38;5;28;01mif\u001b[39;00m \u001b[43mis_convex\u001b[49m\u001b[43m(\u001b[49m\u001b[43mpolygon\u001b[49m\u001b[43m)\u001b[49m \u001b[38;5;129;01mand\u001b[39;00m \u001b[38;5;241m0.4\u001b[39m \u001b[38;5;241m<\u001b[39m\u001b[38;5;241m=\u001b[39m aspect_ratio(polygon) \u001b[38;5;241m<\u001b[39m\u001b[38;5;241m=\u001b[39m \u001b[38;5;241m1.0\u001b[39m:\n\u001b[1;32m     39\u001b[0m     intersect \u001b[38;5;241m=\u001b[39m \u001b[38;5;28;01mFalse\u001b[39;00m\n\u001b[1;32m     40\u001b[0m     \u001b[38;5;28;01mfor\u001b[39;00m p \u001b[38;5;129;01min\u001b[39;00m polygons:\n",
      "Cell \u001b[0;32mIn[24], line 7\u001b[0m, in \u001b[0;36mis_convex\u001b[0;34m(polygon)\u001b[0m\n\u001b[1;32m      6\u001b[0m \u001b[38;5;28;01mdef\u001b[39;00m \u001b[38;5;21mis_convex\u001b[39m(polygon):\n\u001b[0;32m----> 7\u001b[0m     \u001b[38;5;28;01mreturn\u001b[39;00m \u001b[43mpolygon\u001b[49m\u001b[38;5;241;43m.\u001b[39;49m\u001b[43mconvex_hull\u001b[49m \u001b[38;5;241m==\u001b[39m polygon\n",
      "File \u001b[0;32m~/.local/lib/python3.8/site-packages/shapely/geometry/base.py:378\u001b[0m, in \u001b[0;36mBaseGeometry.convex_hull\u001b[0;34m(self)\u001b[0m\n\u001b[1;32m    370\u001b[0m \u001b[38;5;129m@property\u001b[39m\n\u001b[1;32m    371\u001b[0m \u001b[38;5;28;01mdef\u001b[39;00m \u001b[38;5;21mconvex_hull\u001b[39m(\u001b[38;5;28mself\u001b[39m):\n\u001b[1;32m    372\u001b[0m \u001b[38;5;250m    \u001b[39m\u001b[38;5;124;03m\"\"\"Imagine an elastic band stretched around the geometry: that's a\u001b[39;00m\n\u001b[1;32m    373\u001b[0m \u001b[38;5;124;03m    convex hull, more or less\u001b[39;00m\n\u001b[1;32m    374\u001b[0m \n\u001b[1;32m    375\u001b[0m \u001b[38;5;124;03m    The convex hull of a three member multipoint, for example, is a\u001b[39;00m\n\u001b[1;32m    376\u001b[0m \u001b[38;5;124;03m    triangular polygon.\u001b[39;00m\n\u001b[1;32m    377\u001b[0m \u001b[38;5;124;03m    \"\"\"\u001b[39;00m\n\u001b[0;32m--> 378\u001b[0m     \u001b[38;5;28;01mreturn\u001b[39;00m \u001b[43mshapely\u001b[49m\u001b[38;5;241;43m.\u001b[39;49m\u001b[43mconvex_hull\u001b[49m\u001b[43m(\u001b[49m\u001b[38;5;28;43mself\u001b[39;49m\u001b[43m)\u001b[49m\n",
      "File \u001b[0;32m~/.local/lib/python3.8/site-packages/shapely/decorators.py:64\u001b[0m, in \u001b[0;36mmultithreading_enabled.<locals>.wrapped\u001b[0;34m(*args, **kwargs)\u001b[0m\n\u001b[1;32m     62\u001b[0m \u001b[38;5;129m@wraps\u001b[39m(func)\n\u001b[1;32m     63\u001b[0m \u001b[38;5;28;01mdef\u001b[39;00m \u001b[38;5;21mwrapped\u001b[39m(\u001b[38;5;241m*\u001b[39margs, \u001b[38;5;241m*\u001b[39m\u001b[38;5;241m*\u001b[39mkwargs):\n\u001b[0;32m---> 64\u001b[0m     array_args \u001b[38;5;241m=\u001b[39m [\n\u001b[1;32m     65\u001b[0m         arg \u001b[38;5;28;01mfor\u001b[39;00m arg \u001b[38;5;129;01min\u001b[39;00m args \u001b[38;5;28;01mif\u001b[39;00m \u001b[38;5;28misinstance\u001b[39m(arg, np\u001b[38;5;241m.\u001b[39mndarray) \u001b[38;5;129;01mand\u001b[39;00m arg\u001b[38;5;241m.\u001b[39mdtype \u001b[38;5;241m==\u001b[39m \u001b[38;5;28mobject\u001b[39m\n\u001b[1;32m     66\u001b[0m     ] \u001b[38;5;241m+\u001b[39m [\n\u001b[1;32m     67\u001b[0m         arg\n\u001b[1;32m     68\u001b[0m         \u001b[38;5;28;01mfor\u001b[39;00m name, arg \u001b[38;5;129;01min\u001b[39;00m kwargs\u001b[38;5;241m.\u001b[39mitems()\n\u001b[1;32m     69\u001b[0m         \u001b[38;5;28;01mif\u001b[39;00m name \u001b[38;5;129;01mnot\u001b[39;00m \u001b[38;5;129;01min\u001b[39;00m {\u001b[38;5;124m\"\u001b[39m\u001b[38;5;124mwhere\u001b[39m\u001b[38;5;124m\"\u001b[39m, \u001b[38;5;124m\"\u001b[39m\u001b[38;5;124mout\u001b[39m\u001b[38;5;124m\"\u001b[39m}\n\u001b[1;32m     70\u001b[0m         \u001b[38;5;129;01mand\u001b[39;00m \u001b[38;5;28misinstance\u001b[39m(arg, np\u001b[38;5;241m.\u001b[39mndarray)\n\u001b[1;32m     71\u001b[0m         \u001b[38;5;129;01mand\u001b[39;00m arg\u001b[38;5;241m.\u001b[39mdtype \u001b[38;5;241m==\u001b[39m \u001b[38;5;28mobject\u001b[39m\n\u001b[1;32m     72\u001b[0m     ]\n\u001b[1;32m     73\u001b[0m     old_flags \u001b[38;5;241m=\u001b[39m [arr\u001b[38;5;241m.\u001b[39mflags\u001b[38;5;241m.\u001b[39mwriteable \u001b[38;5;28;01mfor\u001b[39;00m arr \u001b[38;5;129;01min\u001b[39;00m array_args]\n\u001b[1;32m     74\u001b[0m     \u001b[38;5;28;01mtry\u001b[39;00m:\n",
      "File \u001b[0;32m~/.local/lib/python3.8/site-packages/shapely/decorators.py:64\u001b[0m, in \u001b[0;36m<listcomp>\u001b[0;34m(.0)\u001b[0m\n\u001b[1;32m     62\u001b[0m \u001b[38;5;129m@wraps\u001b[39m(func)\n\u001b[1;32m     63\u001b[0m \u001b[38;5;28;01mdef\u001b[39;00m \u001b[38;5;21mwrapped\u001b[39m(\u001b[38;5;241m*\u001b[39margs, \u001b[38;5;241m*\u001b[39m\u001b[38;5;241m*\u001b[39mkwargs):\n\u001b[0;32m---> 64\u001b[0m     array_args \u001b[38;5;241m=\u001b[39m [\n\u001b[1;32m     65\u001b[0m         arg \u001b[38;5;28;01mfor\u001b[39;00m arg \u001b[38;5;129;01min\u001b[39;00m args \u001b[38;5;28;01mif\u001b[39;00m \u001b[38;5;28misinstance\u001b[39m(arg, np\u001b[38;5;241m.\u001b[39mndarray) \u001b[38;5;129;01mand\u001b[39;00m arg\u001b[38;5;241m.\u001b[39mdtype \u001b[38;5;241m==\u001b[39m \u001b[38;5;28mobject\u001b[39m\n\u001b[1;32m     66\u001b[0m     ] \u001b[38;5;241m+\u001b[39m [\n\u001b[1;32m     67\u001b[0m         arg\n\u001b[1;32m     68\u001b[0m         \u001b[38;5;28;01mfor\u001b[39;00m name, arg \u001b[38;5;129;01min\u001b[39;00m kwargs\u001b[38;5;241m.\u001b[39mitems()\n\u001b[1;32m     69\u001b[0m         \u001b[38;5;28;01mif\u001b[39;00m name \u001b[38;5;129;01mnot\u001b[39;00m \u001b[38;5;129;01min\u001b[39;00m {\u001b[38;5;124m\"\u001b[39m\u001b[38;5;124mwhere\u001b[39m\u001b[38;5;124m\"\u001b[39m, \u001b[38;5;124m\"\u001b[39m\u001b[38;5;124mout\u001b[39m\u001b[38;5;124m\"\u001b[39m}\n\u001b[1;32m     70\u001b[0m         \u001b[38;5;129;01mand\u001b[39;00m \u001b[38;5;28misinstance\u001b[39m(arg, np\u001b[38;5;241m.\u001b[39mndarray)\n\u001b[1;32m     71\u001b[0m         \u001b[38;5;129;01mand\u001b[39;00m arg\u001b[38;5;241m.\u001b[39mdtype \u001b[38;5;241m==\u001b[39m \u001b[38;5;28mobject\u001b[39m\n\u001b[1;32m     72\u001b[0m     ]\n\u001b[1;32m     73\u001b[0m     old_flags \u001b[38;5;241m=\u001b[39m [arr\u001b[38;5;241m.\u001b[39mflags\u001b[38;5;241m.\u001b[39mwriteable \u001b[38;5;28;01mfor\u001b[39;00m arr \u001b[38;5;129;01min\u001b[39;00m array_args]\n\u001b[1;32m     74\u001b[0m     \u001b[38;5;28;01mtry\u001b[39;00m:\n",
      "\u001b[0;31mKeyboardInterrupt\u001b[0m: "
     ]
    },
    {
     "data": {
      "image/png": "[encoded data removed]",
      "text/plain": [
       "<Figure size 640x480 with 1 Axes>"
      ]
     },
     "metadata": {},
     "output_type": "display_data"
    }
   ],
   "source": [
    "import matplotlib.pyplot as plt\n",
    "import matplotlib.patches as patches\n",
    "import numpy as np\n",
    "from shapely.geometry import Polygon\n",
    "\n",
    "def is_convex(polygon):\n",
    "    return polygon.convex_hull == polygon\n",
    "\n",
    "def aspect_ratio(polygon):\n",
    "    min_x, min_y, max_x, max_y = polygon.bounds\n",
    "    width = max_x - min_x\n",
    "    height = max_y - min_y\n",
    "    return max(width / height, height / width)\n",
    "\n",
    "# Set the number of shapes\n",
    "num_shapes = 10\n",
    "\n",
    "# Create a figure and axis\n",
    "fig, ax = plt.subplots()\n",
    "ax.set_xlim(0, 10)\n",
    "ax.set_ylim(0, 10)\n",
    "\n",
    "# Create random polygons\n",
    "polygons = []\n",
    "while len(polygons) < num_shapes:\n",
    "    num_sides = np.random.randint(3, 7)  # Random number of sides between 3 and 6\n",
    "    x = np.random.uniform(0, 10, num_sides)\n",
    "    y = np.random.uniform(0, 10, num_sides)\n",
    "\n",
    "    # Close the polygon by repeating the first point\n",
    "    x = np.append(x, x[0])\n",
    "    y = np.append(y, y[0])\n",
    "\n",
    "    # Create the polygon using Shapely\n",
    "    polygon = Polygon(np.column_stack((x, y)))\n",
    "\n",
    "    # Check for convexity, aspect ratio, and intersections with existing polygons\n",
    "    if is_convex(polygon) and 0.4 <= aspect_ratio(polygon) <= 1.0:\n",
    "        intersect = False\n",
    "        for p in polygons:\n",
    "            if polygon.intersects(p):\n",
    "                intersect = True\n",
    "                break\n",
    "        \n",
    "        if not intersect:\n",
    "            polygons.append(polygon)\n",
    "            # Add the polygon patch to the axis\n",
    "            polygon_patch = patches.Polygon(np.column_stack((x, y)), closed=True, edgecolor='black', linewidth=1)\n",
    "            ax.add_patch(polygon_patch)\n",
    "\n",
    "# Set axis labels and title\n",
    "ax.set_xlabel('X')\n",
    "ax.set_ylabel('Y')\n",
    "ax.set_title('Random Non-Intersecting Convex Shapes with Moderate Aspect Ratio')\n",
    "\n",
    "# Show the plot\n",
    "plt.show()\n"
   ]
  },
  {
   "cell_type": "code",
   "execution_count": 49,
   "id": "0429c5b8",
   "metadata": {},
   "outputs": [
    {
     "data": {
      "image/png": "[encoded data removed]",
      "text/plain": [
       "<Figure size 640x480 with 1 Axes>"
      ]
     },
     "metadata": {},
     "output_type": "display_data"
    }
   ],
   "source": [
    "import math\n",
    "import random\n",
    "import matplotlib.pyplot as plt\n",
    "import matplotlib.patches as patches\n",
    "\n",
    "def generate_non_uniform_polygon(centroid, radii, angles):\n",
    "    vertices = []\n",
    "    for radius, angle in zip(radii, angles):\n",
    "        x = centroid[0] + radius * math.cos(angle)\n",
    "        y = centroid[1] + radius * math.sin(angle)\n",
    "        vertices.append((x, y))\n",
    "    return vertices\n",
    "\n",
    "def is_convex_polygon(vertices):\n",
    "    num_vertices = len(vertices)\n",
    "    if num_vertices < 3:\n",
    "        return False\n",
    "    \n",
    "    for i in range(num_vertices):\n",
    "        p1 = vertices[i]\n",
    "        p2 = vertices[(i + 1) % num_vertices]\n",
    "        p3 = vertices[(i + 2) % num_vertices]\n",
    "        \n",
    "        cross_product = (p2[0] - p1[0]) * (p3[1] - p2[1]) - (p2[1] - p1[1]) * (p3[0] - p2[0])\n",
    "        if cross_product <= 0:\n",
    "            return False\n",
    "    \n",
    "    return True\n",
    "\n",
    "# Generate random centroid\n",
    "centroid = (random.uniform(0, 10), random.uniform(0, 10))\n",
    "\n",
    "# Number of vertices for the polygon\n",
    "num_vertices = random.randint(3, 3)\n",
    "\n",
    "# Generate random radii and angles\n",
    "radii = [random.uniform(1, 5) for _ in range(num_vertices)]\n",
    "angles = [random.uniform(0, 2*math.pi) for _ in range(num_vertices)]\n",
    "\n",
    "# Generate non-uniform polygon vertices\n",
    "polygon_vertices = generate_non_uniform_polygon(centroid, radii, angles)\n",
    "\n",
    "# Check if the polygon is convex\n",
    "is_convex = is_convex_polygon(polygon_vertices)\n",
    "\n",
    "# Create the plot\n",
    "fig, ax = plt.subplots()\n",
    "\n",
    "# Plot the centroid\n",
    "ax.plot(centroid[0], centroid[1], 'ro', label='Centroid')\n",
    "\n",
    "# Plot the vertices\n",
    "for vertex in polygon_vertices:\n",
    "    ax.plot(vertex[0], vertex[1], 'bo')\n",
    "\n",
    "# Plot the polygon\n",
    "polygon_patch = patches.Polygon(polygon_vertices, closed=True, fill=False)\n",
    "ax.add_patch(polygon_patch)\n",
    "\n",
    "# Set plot limits\n",
    "ax.set_xlim(-10, 20)\n",
    "ax.set_ylim(-10, 20)\n",
    "\n",
    "# Add labels and legend\n",
    "ax.set_title('Randomly Generated Non-Uniform Polygon')\n",
    "ax.set_xlabel('X-axis')\n",
    "ax.set_ylabel('Y-axis')\n",
    "ax.legend()\n",
    "\n",
    "# Display the convexity information\n",
    "convexity_label = 'Convex' if is_convex else 'Non-Convex'\n",
    "ax.text(7, 9, f'Convexity: {convexity_label}', fontsize=12, color='black')\n",
    "\n",
    "# Display the plot\n",
    "plt.show()\n"
   ]
  },
  {
   "cell_type": "code",
   "execution_count": 33,
   "id": "5a5207df",
   "metadata": {},
   "outputs": [
    {
     "data": {
      "text/plain": [
       "(6.22450485178836, 5.2862341705013485)"
      ]
     },
     "execution_count": 33,
     "metadata": {},
     "output_type": "execute_result"
    }
   ],
   "source": [
    "centroid"
   ]
  },
  {
   "cell_type": "code",
   "execution_count": 35,
   "id": "125be491",
   "metadata": {},
   "outputs": [],
   "source": [
    "polygon_vertices = Polygon(polygon_vertices)"
   ]
  },
  {
   "cell_type": "code",
   "execution_count": 36,
   "id": "1d0a5732",
   "metadata": {},
   "outputs": [
    {
     "data": {
      "text/plain": [
       "(array('d', [5.594560778588819]), array('d', [5.603102760347168]))"
      ]
     },
     "execution_count": 36,
     "metadata": {},
     "output_type": "execute_result"
    }
   ],
   "source": [
    "polygon_vertices.centroid.coords.xy"
   ]
  },
  {
   "cell_type": "code",
   "execution_count": 51,
   "id": "8b50166f",
   "metadata": {},
   "outputs": [
    {
     "name": "stdout",
     "output_type": "stream",
     "text": [
      "Enter the number of sides of the polygon: 5\n",
      "Angle increments for a 5 sided polygon:\n",
      "Angle 1: 1.2566\n",
      "Angle 2: 1.2566\n",
      "Angle 3: 1.2566\n",
      "Angle 4: 1.2566\n",
      "Angle 5: 1.2566\n"
     ]
    }
   ],
   "source": [
    "import math\n",
    "\n",
    "def calculate_angle_increments(num_sides):\n",
    "    if num_sides < 3:\n",
    "        return []\n",
    "\n",
    "    total_angle = 2 * math.pi\n",
    "    angle_increment = total_angle / num_sides\n",
    "\n",
    "    angle_increments = [angle_increment] * num_sides\n",
    "\n",
    "    return angle_increments\n",
    "\n",
    "def main():\n",
    "    num_sides = int(input(\"Enter the number of sides of the polygon: \"))\n",
    "\n",
    "    angle_increments = calculate_angle_increments(num_sides)\n",
    "\n",
    "    if not angle_increments:\n",
    "        print(\"A polygon must have at least 3 sides.\")\n",
    "    else:\n",
    "        print(\"Angle increments for a\", num_sides, \"sided polygon:\")\n",
    "        for i, angle in enumerate(angle_increments):\n",
    "            print(f\"Angle {i + 1}: {angle:.4f}\")\n",
    "\n",
    "if __name__ == \"__main__\":\n",
    "    main()\n"
   ]
  },
  {
   "cell_type": "code",
   "execution_count": 52,
   "id": "0598a3ca",
   "metadata": {},
   "outputs": [
    {
     "name": "stdout",
     "output_type": "stream",
     "text": [
      "Enter the number of sides of the polygon: 5\n",
      "Enter angle increment for side 1 (in radians): 1.24\n",
      "Enter angle increment for side 2 (in radians): 1.27\n",
      "Enter angle increment for side 3 (in radians): 1.29\n",
      "Enter angle increment for side 4 (in radians): 1.28\n",
      "Angle increments for a 5 sided polygon:\n",
      "Angle 1: 1.2400\n",
      "Angle 2: 1.2700\n",
      "Angle 3: 1.2900\n",
      "Angle 4: 1.2800\n",
      "Angle 5: 1.2032\n"
     ]
    }
   ],
   "source": [
    "import math\n",
    "\n",
    "def calculate_angle_increments(num_sides):\n",
    "    if num_sides < 3:\n",
    "        return []\n",
    "\n",
    "    total_angle = 2 * math.pi\n",
    "    angle_increments = []\n",
    "\n",
    "    for _ in range(num_sides - 1):\n",
    "        angle = float(input(f\"Enter angle increment for side {_ + 1} (in radians): \"))\n",
    "        angle_increments.append(angle)\n",
    "\n",
    "    last_angle = total_angle - sum(angle_increments)\n",
    "    angle_increments.append(last_angle)\n",
    "\n",
    "    return angle_increments\n",
    "\n",
    "def main():\n",
    "    num_sides = int(input(\"Enter the number of sides of the polygon: \"))\n",
    "\n",
    "    angle_increments = calculate_angle_increments(num_sides)\n",
    "\n",
    "    if not angle_increments:\n",
    "        print(\"A polygon must have at least 3 sides.\")\n",
    "    else:\n",
    "        print(\"Angle increments for a\", num_sides, \"sided polygon:\")\n",
    "        for i, angle in enumerate(angle_increments):\n",
    "            print(f\"Angle {i + 1}: {angle:.4f}\")\n",
    "\n",
    "if __name__ == \"__main__\":\n",
    "    main()\n"
   ]
  },
  {
   "cell_type": "code",
   "execution_count": 62,
   "id": "0787d4c9",
   "metadata": {},
   "outputs": [
    {
     "name": "stdout",
     "output_type": "stream",
     "text": [
      "[1.152995732577622, 0.39730511790274453, 0.37603135114754094, 1.0866023903944222, 3.270250715157257]\n"
     ]
    }
   ],
   "source": [
    "import random\n",
    "\n",
    "# Generate five random numbers\n",
    "random_numbers = [random.uniform(0, 1) for _ in range(5)]\n",
    "\n",
    "# Normalize the numbers to make their sum 1\n",
    "sum_random_numbers = sum(random_numbers)\n",
    "normalized_numbers = [num / sum_random_numbers for num in random_numbers]\n",
    "\n",
    "angle_increments = [2*np.pi * x for x in normalized_numbers]\n",
    "print(angle_increments)\n"
   ]
  },
  {
   "cell_type": "code",
   "execution_count": 63,
   "id": "13fe16fd",
   "metadata": {},
   "outputs": [
    {
     "data": {
      "text/plain": [
       "6.283185307179586"
      ]
     },
     "execution_count": 63,
     "metadata": {},
     "output_type": "execute_result"
    }
   ],
   "source": [
    "sum(angle_increments)"
   ]
  },
  {
   "cell_type": "code",
   "execution_count": 197,
   "id": "8eefaed0",
   "metadata": {},
   "outputs": [],
   "source": [
    "def ang_list(num_of_sides: int) -> list:\n",
    "    \n",
    "    random_numbers = [random.uniform(0, 1) for _ in range(num_of_sides)]\n",
    "    \n",
    "    sum_random_numbers = sum(random_numbers)\n",
    "    normalized_numbers = [num / sum_random_numbers for num in random_numbers]\n",
    "    \n",
    "    #print(normalized_numbers)\n",
    "    angle_increments = [2*np.pi * x for x in normalized_numbers]\n",
    "    \n",
    "    total_sum = 0\n",
    "    angle_list = [total_sum := total_sum + num for num in angle_increments]\n",
    "    \n",
    "    angle_list.pop()\n",
    "    \n",
    "    return angle_list"
   ]
  },
  {
   "cell_type": "code",
   "execution_count": 198,
   "id": "46c3e106",
   "metadata": {},
   "outputs": [
    {
     "data": {
      "text/plain": [
       "[0.09280778610466572, 3.946454531759274]"
      ]
     },
     "execution_count": 198,
     "metadata": {},
     "output_type": "execute_result"
    }
   ],
   "source": [
    "ang_list(3)"
   ]
  },
  {
   "cell_type": "code",
   "execution_count": 199,
   "id": "55dd0d81",
   "metadata": {},
   "outputs": [
    {
     "data": {
      "text/plain": [
       "array([ 8.69796694, 11.06763946])"
      ]
     },
     "execution_count": 199,
     "metadata": {},
     "output_type": "execute_result"
    }
   ],
   "source": [
    "center = np.array([np.random.rand()*xmax, np.random.rand()*ymax])\n",
    "center"
   ]
  },
  {
   "cell_type": "code",
   "execution_count": 177,
   "id": "2a741f7c",
   "metadata": {},
   "outputs": [],
   "source": [
    "import random\n",
    "import numpy as np\n",
    "\n",
    "def get_angles(num_of_sides: int) -> list:\n",
    "    \n",
    "    random_numbers = [random.uniform(0, 1) for _ in range(num_of_sides)]\n",
    "    \n",
    "    normalized_numbers = [num / sum(random_numbers) for num in random_numbers]\n",
    "    \n",
    "    angles = np.cumsum([2*np.pi * x for x in normalized_numbers])\n",
    "    \n",
    "    angles_list = list(angles)\n",
    "    \n",
    "    return angles_list\n"
   ]
  },
  {
   "cell_type": "code",
   "execution_count": 191,
   "id": "940b733d",
   "metadata": {},
   "outputs": [
    {
     "data": {
      "text/plain": [
       "[2.2698822801315766, 2.2999153680111246, 4.122040397208132, 6.283185307179586]"
      ]
     },
     "execution_count": 191,
     "metadata": {},
     "output_type": "execute_result"
    }
   ],
   "source": [
    "angles_list = get_angles(4)\n",
    "angles_list"
   ]
  },
  {
   "cell_type": "code",
   "execution_count": 192,
   "id": "ab93ee1f",
   "metadata": {},
   "outputs": [
    {
     "data": {
      "text/plain": [
       "0.7762691864466182"
      ]
     },
     "execution_count": 192,
     "metadata": {},
     "output_type": "execute_result"
    }
   ],
   "source": [
    "radius = random.uniform(0.05, 0.06)*xmax\n",
    "radius"
   ]
  },
  {
   "cell_type": "code",
   "execution_count": 193,
   "id": "cee52334",
   "metadata": {},
   "outputs": [],
   "source": [
    "def get_vertices(center: np.array, radius: float, angles_list: list):\n",
    "    vertices = np.array([center + np.array([radius*np.cos(angle), radius*np.sin(angle)]) for angle in angles_list])\n",
    "    return vertices"
   ]
  },
  {
   "cell_type": "code",
   "execution_count": 194,
   "id": "6970caad",
   "metadata": {},
   "outputs": [],
   "source": [
    "vertices = get_vertices(center, radius, angles_list)"
   ]
  },
  {
   "cell_type": "code",
   "execution_count": 195,
   "id": "dea6d47a",
   "metadata": {},
   "outputs": [],
   "source": [
    "polygon = Polygon(vertices)"
   ]
  },
  {
   "cell_type": "code",
   "execution_count": 196,
   "id": "dc7f5f94",
   "metadata": {},
   "outputs": [
    {
     "data": {
      "text/plain": [
       "(-1.0, 14.0)"
      ]
     },
     "execution_count": 196,
     "metadata": {},
     "output_type": "execute_result"
    },
    {
     "data": {
      "image/png": "[encoded data removed]",
      "text/plain": [
       "<Figure size 640x480 with 1 Axes>"
      ]
     },
     "metadata": {},
     "output_type": "display_data"
    }
   ],
   "source": [
    "x, y = polygon.exterior.xy\n",
    "plt.fill(x, y, c=\"blue\")\n",
    "plt.xlim(-1, xmax)\n",
    "plt.ylim(-1, ymax)"
   ]
  },
  {
   "cell_type": "code",
   "execution_count": 211,
   "id": "f6de13cd",
   "metadata": {},
   "outputs": [
    {
     "data": {
      "text/plain": [
       "(-1.0, 10.0)"
      ]
     },
     "execution_count": 211,
     "metadata": {},
     "output_type": "execute_result"
    },
    {
     "data": {
      "image/png": "[encoded data removed]",
      "text/plain": [
       "<Figure size 640x480 with 1 Axes>"
      ]
     },
     "metadata": {},
     "output_type": "display_data"
    }
   ],
   "source": [
    "map_bounds = [10, 10]\n",
    "num_obstacles = 10\n",
    "shape = 8\n",
    "\n",
    "xmin, xmax = 0, map_bounds[0]\n",
    "ymin, ymax = 0, map_bounds[1]\n",
    "\n",
    "\n",
    "radius = random.uniform(0.05, 0.06)*xmax\n",
    "\n",
    "center = np.array([np.random.rand()*xmax, np.random.rand()*ymax])\n",
    "\n",
    "pshape = np.random.randint(3, high=shape)\n",
    "\n",
    "angles_list = get_angles(pshape)\n",
    "\n",
    "vertices = get_vertices(center, radius, angles_list)\n",
    "\n",
    "polygon = Polygon(vertices)\n",
    "\n",
    "x, y = polygon.exterior.xy\n",
    "plt.fill(x, y, c=\"blue\")\n",
    "plt.xlim(-1, xmax)\n",
    "plt.ylim(-1, ymax)\n",
    "\n",
    "\n"
   ]
  },
  {
   "cell_type": "code",
   "execution_count": 252,
   "id": "36e49bae",
   "metadata": {},
   "outputs": [],
   "source": [
    "def generate_polygon_obstacles(map_bounds: tuple, num_obstacles: int, shape: int):\n",
    "    \n",
    "    xmin, xmax = 0, map_bounds[0]\n",
    "    ymin, ymax = 0, map_bounds[1]\n",
    "    \n",
    "    min_distance = 1.0\n",
    "    \n",
    "    ObstacleList = []\n",
    "    \n",
    "    count = 0\n",
    "    while count < num_obstacles:\n",
    "        \n",
    "        radius = random.uniform(0.07, 0.08)*xmax\n",
    "\n",
    "        center = np.array([np.random.rand()*xmax, np.random.rand()*ymax])\n",
    "\n",
    "        pshape = np.random.randint(5, high=shape)\n",
    "        \n",
    "        angles_list = get_angles(pshape)\n",
    "\n",
    "        vertices = get_vertices(center, radius, angles_list)\n",
    "\n",
    "        polygon = Polygon(vertices)\n",
    "        \n",
    "        intersects = False\n",
    "        \n",
    "        for existing_obstacle in ObstacleList:\n",
    "            if polygon.intersects(existing_obstacle) or polygon.distance(existing_obstacle) < min_distance:\n",
    "                intersects = True\n",
    "                break\n",
    "                \n",
    "        if not intersects:\n",
    "            \n",
    "        \n",
    "            ObstacleList.append(polygon)\n",
    "            count += 1\n",
    "    \n",
    "#     fig, ax = plt.subplots()\n",
    "\n",
    "\n",
    "\n",
    "#     for obstacle in ObstacleList:\n",
    "#         x,y = obstacle.exterior.xy\n",
    "#         ax.fill(x, y, color = 'pink')\n",
    "    \n",
    "#     ax.set_xlim(-2, xmax+5)\n",
    "#     ax.set_ylim(-2, ymax+5)\n",
    "\n",
    "#     # Add labels and title\n",
    "#     plt.xlabel('X')\n",
    "#     plt.ylabel('Y')\n",
    "    return ObstacleList\n",
    "        \n",
    "        \n",
    "    \n",
    "    "
   ]
  },
  {
   "cell_type": "code",
   "execution_count": 253,
   "id": "b9d1a698",
   "metadata": {},
   "outputs": [],
   "source": [
    "lst = generate_polygon_obstacles(map_bounds, num_obstacles = 15, shape = 9)"
   ]
  },
  {
   "cell_type": "code",
   "execution_count": 254,
   "id": "0e307de3",
   "metadata": {},
   "outputs": [
    {
     "data": {
      "text/plain": [
       "[<POLYGON ((5.638 4.653, 4.955 5.212, 4.689 5.17, 4.345 4.909, 4.662 3.821, 5...>,\n",
       " <POLYGON ((7.804 7.374, 7.234 7.56, 7.055 7.522, 6.663 7.215, 6.823 6.211, 7...>,\n",
       " <POLYGON ((5.78 9.474, 5.658 9.479, 5.099 9.176, 4.991 8.556, 5.449 8.07, 6....>,\n",
       " <POLYGON ((9.816 1.749, 9.329 1.921, 8.591 1.341, 8.587 0.987, 9.212 0.401, ...>,\n",
       " <POLYGON ((1.038 4.05, 0.557 4.055, 0.015 3.167, 0.167 2.822, 1.52 3.012, 1....>,\n",
       " <POLYGON ((4.121 7.099, 3.408 7.411, 2.843 6.993, 3.401 5.948, 3.472 5.941, ...>,\n",
       " <POLYGON ((10.452 7.58, 9.428 7.574, 9.248 6.951, 9.371 6.668, 9.681 6.428, ...>,\n",
       " <POLYGON ((7.723 3.215, 6.999 3.031, 6.817 2.679, 6.983 2.075, 7.4 1.848, 7....>,\n",
       " <POLYGON ((2.302 8.577, 2.107 8.797, 1.07 7.88, 1.108 7.82, 2.276 7.834, 2.3...>,\n",
       " <POLYGON ((0.848 1.059, 0.66 1.235, -0.567 0.549, -0.267 -0.041, 1.011 0.578...>,\n",
       " <POLYGON ((9.068 10.301, 8.895 10.336, 8.884 10.336, 8.274 10.047, 8.229 9.9...>,\n",
       " <POLYGON ((10.117 4.488, 9.573 4.569, 9.553 4.564, 9.001 3.681, 9.241 3.265,...>,\n",
       " <POLYGON ((1.034 6.738, 0.44 6.213, 0.423 5.905, 0.741 5.415, 1.865 6.021, 1...>,\n",
       " <POLYGON ((5.508 1.671, 4.785 1.107, 4.75 0.899, 4.903 0.401, 5.292 0.115, 5...>,\n",
       " <POLYGON ((3.21 1.371, 2.283 1.245, 2.35 0.159, 3.102 0.042, 3.569 0.733, 3....>]"
      ]
     },
     "execution_count": 254,
     "metadata": {},
     "output_type": "execute_result"
    }
   ],
   "source": [
    "lst"
   ]
  },
  {
   "cell_type": "code",
   "execution_count": null,
   "id": "1dd4dd0b",
   "metadata": {},
   "outputs": [],
   "source": []
  }
 ],
 "metadata": {
  "kernelspec": {
   "display_name": "Python 3.8 (myenv)",
   "language": "python",
   "name": "myenv"
  },
  "language_info": {
   "codemirror_mode": {
    "name": "ipython",
    "version": 3
   },
   "file_extension": ".py",
   "mimetype": "text/x-python",
   "name": "python",
   "nbconvert_exporter": "python",
   "pygments_lexer": "ipython3",
   "version": "3.8.17"
  }
 },
 "nbformat": 4,
 "nbformat_minor": 5
}
