{
 "cells": [
  {
   "cell_type": "code",
   "execution_count": 4,
   "id": "6a37ad10",
   "metadata": {},
   "outputs": [
    {
     "name": "stdout",
     "output_type": "stream",
     "text": [
      "minLength=0.0\n",
      "minPathType= S\n",
      "minConfStart=  [40.08900524 31.69633508]   4.908613797534075\n",
      "minConfGoal=  [40.08900524 31.69633508]   4.908613797534075\n",
      "Segment lengths=  (0, 0)\n",
      "comp_time=0.016557966999243945\n"
     ]
    },
    {
     "data": {
      "image/png": "[encoded data removed]",
      "text/plain": [
       "<Figure size 640x480 with 1 Axes>"
      ]
     },
     "metadata": {},
     "output_type": "display_data"
    }
   ],
   "source": [
    "from timeit import default_timer as timer\n",
    "from types import SimpleNamespace\n",
    "import utils\n",
    "import dubutils as du\n",
    "import DubinsL2L as dl2l\n",
    "\n",
    "import matplotlib.pyplot as plt\n",
    "import numpy as np    \n",
    "\n",
    "rho = 3\n",
    "\n",
    "# line1=dl2l.LineSegment(point1=(94, -54), point2=(18, -29))\n",
    "# line2=dl2l.LineSegment(point1=(18, -33), point2=(67, -41))\n",
    "# int1=(-5.348494555001529, -4.5630963916040805)\n",
    "# int2=(-3.1499985717053094, -2.364600408307861)\n",
    "\n",
    "pts = np.random.randint(0,80,8)\n",
    "t_1_l = np.random.rand()*np.pi*2\n",
    "t_2_l = np.random.rand()*np.pi*2\n",
    "# line1 = dl2l.LineSegment((pts[0], pts[1]), (pts[2], pts[3])) \n",
    "# line2 = dl2l.LineSegment((pts[4], pts[5]), (pts[6], pts[7]))\n",
    "lineSeg1 = [(pts[0], pts[1]), (pts[2], pts[3])]\n",
    "lineSeg2 = [(pts[4], pts[5]), (pts[6], pts[7])]\n",
    "\n",
    "int1 = (t_1_l, t_1_l+np.pi/4)\n",
    "int2 = (t_2_l, t_2_l+np.pi/4)\n",
    "\n",
    "plotFlag  = True\n",
    "## computing shortest line to line dubins path using analytical results\n",
    "tic = timer()\n",
    "L2LDub = dl2l.Line2LineDubins(lineSeg1, int1, lineSeg2, int2, rho) \n",
    "minLength, minPath = L2LDub.MinDub_L2L()   #This returns the length of the minimum path, minimum path, and all the candidate paths\n",
    "comp_time = timer()-tic\n",
    "print(f\"{minLength=}\")\n",
    "print(\"minPathType=\", minPath.pathType)\n",
    "print(\"minConfStart= \", minPath.iniPos, \" \", minPath.iniHead)\n",
    "print(\"minConfGoal= \", minPath.finalPos, \" \", minPath.finalHead)\n",
    "print(\"Segment lengths= \", minPath.segLengths)\n",
    "print(f\"{comp_time=}\")\n",
    "\n",
    "if plotFlag:\n",
    "    plt.figure()\n",
    "    linesegfmt = SimpleNamespace(color='m', linewidth=1.5, linestyle='-', marker='x',endPoints=True)        \n",
    "    pathfmt = SimpleNamespace(color='b', linewidth=2, linestyle='-', marker='x', endPoints=False)    \n",
    "    arrfmt = SimpleNamespace(color='g', linewidth=1, linestyle='--', marker='x', arrLen=10)       \n",
    "    utils.PlotLineSeg(lineSeg1[0], lineSeg1[1], linesegfmt)\n",
    "    utils.PlotLineSeg(lineSeg2[0], lineSeg2[1], linesegfmt)\n",
    "    if minLength:   \n",
    "        arrfmt = SimpleNamespace(color='g', linewidth=1, linestyle='--', marker='x', arrLen=10)                   \n",
    "        utils.PlotInterval(minPath.iniPos, int1, arrfmt)\n",
    "        utils.PlotInterval(minPath.finalPos, int2, arrfmt)\n",
    "        du.PlotDubPathSegments((minPath.iniPos[0], minPath.iniPos[1], minPath.iniHead), minPath.pathType, minPath.segLengths, rho, pathfmt)     \n",
    "        arrfmt = SimpleNamespace(color='c', linewidth=1, linestyle='--', marker='x', arrLen=10)           \n",
    "        utils.PlotArrow(minPath.finalPos, minPath.finalHead, 10, arrfmt) \n",
    "        utils.PlotArrow(minPath.iniPos, minPath.iniHead, 10, arrfmt)            \n",
    " \n",
    "    plt.axis('equal')\n",
    "    plt.show()"
   ]
  },
  {
   "cell_type": "code",
   "execution_count": 5,
   "id": "6d2115fe",
   "metadata": {},
   "outputs": [],
   "source": [
    "rho = 4"
   ]
  },
  {
   "cell_type": "code",
   "execution_count": 6,
   "id": "da635a5e",
   "metadata": {},
   "outputs": [],
   "source": [
    "pts = np.random.randint(0,80,8)"
   ]
  },
  {
   "cell_type": "code",
   "execution_count": 7,
   "id": "391abe4c",
   "metadata": {},
   "outputs": [
    {
     "data": {
      "text/plain": [
       "array([61, 29, 59, 15,  0, 37, 59, 39])"
      ]
     },
     "execution_count": 7,
     "metadata": {},
     "output_type": "execute_result"
    }
   ],
   "source": [
    "pts"
   ]
  },
  {
   "cell_type": "code",
   "execution_count": 8,
   "id": "d80f1250",
   "metadata": {},
   "outputs": [
    {
     "data": {
      "text/plain": [
       "2.0820955330134865"
      ]
     },
     "execution_count": 8,
     "metadata": {},
     "output_type": "execute_result"
    }
   ],
   "source": [
    "t_1_l = np.random.rand()*np.pi*2\n",
    "t_1_l"
   ]
  },
  {
   "cell_type": "code",
   "execution_count": 9,
   "id": "e4d92709",
   "metadata": {},
   "outputs": [
    {
     "data": {
      "text/plain": [
       "0.7350909266141189"
      ]
     },
     "execution_count": 9,
     "metadata": {},
     "output_type": "execute_result"
    }
   ],
   "source": [
    "t_2_l = np.random.rand()*np.pi*2\n",
    "t_2_l"
   ]
  },
  {
   "cell_type": "code",
   "execution_count": 10,
   "id": "b66be7f8",
   "metadata": {},
   "outputs": [
    {
     "data": {
      "text/plain": [
       "[(1, 5), (4, 3)]"
      ]
     },
     "execution_count": 10,
     "metadata": {},
     "output_type": "execute_result"
    }
   ],
   "source": [
    "lineSeg1 = [(1, 5), (4, 3)]\n",
    "lineSeg1"
   ]
  },
  {
   "cell_type": "code",
   "execution_count": 11,
   "id": "1c22b891",
   "metadata": {},
   "outputs": [
    {
     "data": {
      "text/plain": [
       "[(5, 6), (7, 8)]"
      ]
     },
     "execution_count": 11,
     "metadata": {},
     "output_type": "execute_result"
    }
   ],
   "source": [
    "lineSeg2 = [(5,6), (7, 8)]\n",
    "lineSeg2"
   ]
  },
  {
   "cell_type": "code",
   "execution_count": 12,
   "id": "635cce27",
   "metadata": {},
   "outputs": [],
   "source": [
    "int1 = (t_1_l, t_1_l+np.pi/4)\n",
    "int2 = (t_2_l, t_2_l+np.pi/4)"
   ]
  },
  {
   "cell_type": "code",
   "execution_count": 13,
   "id": "411f2ff5",
   "metadata": {},
   "outputs": [
    {
     "name": "stdout",
     "output_type": "stream",
     "text": [
      "int1 = (2.0820955330134865, 2.8674936964109348)\n",
      "int2 = (0.7350909266141189, 1.520489090011567)\n"
     ]
    }
   ],
   "source": [
    "print(f\"{int1 = }\")\n",
    "print(f\"{int2 = }\")"
   ]
  },
  {
   "cell_type": "code",
   "execution_count": 14,
   "id": "574c6608",
   "metadata": {},
   "outputs": [],
   "source": [
    "plotFlag  = True\n",
    "## computing shortest line to line dubins path using analytical results\n",
    "tic = timer()\n",
    "L2LDub = dl2l.Line2LineDubins(lineSeg1, int1, lineSeg2, int2, rho) \n",
    "minLength, minPath = L2LDub.MinDub_L2L() \n",
    "comp_time = timer()-tic"
   ]
  },
  {
   "cell_type": "code",
   "execution_count": 15,
   "id": "97a7d31a",
   "metadata": {},
   "outputs": [
    {
     "data": {
      "text/plain": [
       "24.909746588643774"
      ]
     },
     "execution_count": 15,
     "metadata": {},
     "output_type": "execute_result"
    }
   ],
   "source": [
    "minLength"
   ]
  },
  {
   "cell_type": "code",
   "execution_count": 16,
   "id": "57d9975c",
   "metadata": {},
   "outputs": [
    {
     "data": {
      "text/plain": [
       "CandidatePath(pathType='LS', iniPos=(1, 5), iniHead=2.8674936964109348, finalPos=(5, 6), finalHead=7.650910252916236, segLengths=[19.133666226021205, 5.776080362622569])"
      ]
     },
     "execution_count": 16,
     "metadata": {},
     "output_type": "execute_result"
    }
   ],
   "source": [
    "minPath"
   ]
  },
  {
   "cell_type": "code",
   "execution_count": 17,
   "id": "7b7c2b1a",
   "metadata": {},
   "outputs": [
    {
     "name": "stdout",
     "output_type": "stream",
     "text": [
      "minLength=24.909746588643774\n",
      "minPathType= LS\n",
      "minConfStart=  (1, 5)   2.8674936964109348\n",
      "minConfGoal=  (5, 6)   7.650910252916236\n",
      "Segment lengths=  [19.133666226021205, 5.776080362622569]\n",
      "comp_time=0.07556418500098516\n"
     ]
    }
   ],
   "source": [
    "print(f\"{minLength=}\")\n",
    "print(\"minPathType=\", minPath.pathType)\n",
    "print(\"minConfStart= \", minPath.iniPos, \" \", minPath.iniHead)\n",
    "print(\"minConfGoal= \", minPath.finalPos, \" \", minPath.finalHead)\n",
    "print(\"Segment lengths= \", minPath.segLengths)\n",
    "print(f\"{comp_time=}\")"
   ]
  },
  {
   "cell_type": "code",
   "execution_count": 18,
   "id": "48cc2def",
   "metadata": {},
   "outputs": [
    {
     "data": {
      "image/png": "[encoded data removed]",
      "text/plain": [
       "<Figure size 640x480 with 1 Axes>"
      ]
     },
     "metadata": {},
     "output_type": "display_data"
    }
   ],
   "source": [
    "if plotFlag:\n",
    "    plt.figure()\n",
    "    linesegfmt = SimpleNamespace(color='m', linewidth=1.5, linestyle='-', marker='x',endPoints=True)        \n",
    "    pathfmt = SimpleNamespace(color='b', linewidth=2, linestyle='-', marker='x', endPoints=False)    \n",
    "    arrfmt = SimpleNamespace(color='g', linewidth=1, linestyle='--', marker='x', arrLen=10)       \n",
    "    utils.PlotLineSeg(lineSeg1[0], lineSeg1[1], linesegfmt)\n",
    "    utils.PlotLineSeg(lineSeg2[0], lineSeg2[1], linesegfmt)\n",
    "    if minLength:   \n",
    "        arrfmt = SimpleNamespace(color='g', linewidth=1, linestyle='--', marker='x', arrLen=10)                   \n",
    "        utils.PlotInterval(minPath.iniPos, int1, arrfmt)\n",
    "        utils.PlotInterval(minPath.finalPos, int2, arrfmt)\n",
    "        du.PlotDubPathSegments((minPath.iniPos[0], minPath.iniPos[1], minPath.iniHead), minPath.pathType, minPath.segLengths, rho, pathfmt)     \n",
    "        arrfmt = SimpleNamespace(color='c', linewidth=1, linestyle='--', marker='x', arrLen=10)           \n",
    "        utils.PlotArrow(minPath.finalPos, minPath.finalHead, 10, arrfmt) \n",
    "        utils.PlotArrow(minPath.iniPos, minPath.iniHead, 10, arrfmt)            \n",
    " \n",
    "    plt.axis('equal')\n",
    "    plt.show()"
   ]
  },
  {
   "cell_type": "code",
   "execution_count": 19,
   "id": "1864e10a",
   "metadata": {},
   "outputs": [
    {
     "data": {
      "text/plain": [
       "1.37"
      ]
     },
     "execution_count": 19,
     "metadata": {},
     "output_type": "execute_result"
    }
   ],
   "source": [
    "7.65-6.28"
   ]
  },
  {
   "cell_type": "code",
   "execution_count": null,
   "id": "adbd020a",
   "metadata": {},
   "outputs": [],
   "source": [
    " "
   ]
  }
 ],
 "metadata": {
  "kernelspec": {
   "display_name": "Python 3.8 (myenv)",
   "language": "python",
   "name": "myenv"
  },
  "language_info": {
   "codemirror_mode": {
    "name": "ipython",
    "version": 3
   },
   "file_extension": ".py",
   "mimetype": "text/x-python",
   "name": "python",
   "nbconvert_exporter": "python",
   "pygments_lexer": "ipython3",
   "version": "3.8.18"
  }
 },
 "nbformat": 4,
 "nbformat_minor": 5
}
