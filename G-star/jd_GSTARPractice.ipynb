{
 "cells": [
  {
   "cell_type": "code",
   "execution_count": 79,
   "id": "a7bffd66",
   "metadata": {},
   "outputs": [],
   "source": [
    "import sys\n",
    "sys.path.append('DubinsLineSegToLineSeg/')\n",
    "from DubinsLineSegToLineSeg import DubinsL2L\n",
    "\n",
    "import networkx as nx\n",
    "from shapely.geometry import Point, LineString, mapping\n",
    "\n",
    "import numpy as np\n",
    "\n",
    "import yaml"
   ]
  },
  {
   "cell_type": "code",
   "execution_count": null,
   "id": "f5cffca7",
   "metadata": {},
   "outputs": [],
   "source": []
  },
  {
   "cell_type": "code",
   "execution_count": null,
   "id": "7e3f4d18",
   "metadata": {},
   "outputs": [],
   "source": []
  },
  {
   "cell_type": "code",
   "execution_count": null,
   "id": "30e74aac",
   "metadata": {},
   "outputs": [],
   "source": []
  },
  {
   "cell_type": "code",
   "execution_count": 27,
   "id": "83ebb9ee",
   "metadata": {},
   "outputs": [],
   "source": [
    "import networkx as nx\n",
    "from shapely.geometry import LineString, Point\n",
    "\n",
    "class Graph_Gstar:\n",
    "    \"\"\"\n",
    "    A class representing a graph for path planning using the G* algorithm.\n",
    "\n",
    "    Args:\n",
    "        StartPoint (tuple): Coordinates of the starting point.\n",
    "        EndPoint (tuple): Coordinates of the end point.\n",
    "        rho (float): Rho parameter for path smoothing.\n",
    "        Sectors (int): Number of sectors for angle discretization.\n",
    "        tolerances (dict): Dictionary containing tolerances for various parameters.\n",
    "\n",
    "    Attributes:\n",
    "        GateCounter (int): Counter for gate IDs.\n",
    "        graph (nx.Graph): NetworkX graph representing the path graph.\n",
    "        Sectors (int): Number of sectors for angle discretization.\n",
    "        Start (Point): Shapely Point object representing the starting point.\n",
    "        End (Point): Shapely Point object representing the end point.\n",
    "        rho (float): Rho parameter for path smoothing.\n",
    "        tolerances (dict): Dictionary containing tolerances for various parameters.\n",
    "        gateGeomList (list): List of gate geometries for collision checking.\n",
    "        LineStart (list): Coordinates defining the start gate line.\n",
    "        LineEnd (list): Coordinates defining the end gate line.\n",
    "        dubUB_nodeCounter (int): Counter for Dubins Upper Bound nodes.\n",
    "        dubUB_headingList (list): List of heading angles for Dubins Upper Bound.\n",
    "\n",
    "    Methods:\n",
    "        None (Constructor only, no methods defined in this snippet)\n",
    "    \"\"\"\n",
    "\n",
    "    def __init__(self, StartPoint: tuple, EndPoint: tuple, rho: float, Sectors: int, tolerances: dict):\n",
    "        \"\"\"\n",
    "        Initializes the Graph_Gstar class instance.\n",
    "\n",
    "        Args:\n",
    "            StartPoint (tuple): Coordinates of the starting point.\n",
    "            EndPoint (tuple): Coordinates of the end point.\n",
    "            rho (float): Rho parameter for path smoothing.\n",
    "            Sectors (int): Number of sectors for angle discretization.\n",
    "            tolerances (dict): Dictionary containing tolerances for various parameters.\n",
    "        \"\"\"\n",
    "        self.GateCounter = 0\n",
    "        self.graph = nx.Graph()\n",
    "        self.Sectors = Sectors\n",
    "\n",
    "        # Initialize starting and ending points\n",
    "        self.Start = Point(StartPoint[0], StartPoint[1])\n",
    "        self.End = Point(EndPoint[0], EndPoint[1])\n",
    "        self.rho = rho\n",
    "        self.tolerances = tolerances\n",
    "\n",
    "        # Initialize gate geometries\n",
    "        self.gateGeomList = []\n",
    "\n",
    "        # Define gate lines for starting and ending points\n",
    "        self.LineStart = [(StartPoint[0], StartPoint[1]-0.01), (StartPoint[0], StartPoint[1]+0.01)]\n",
    "        self.gateGeomList.append(LineString(self.LineStart))\n",
    "\n",
    "        self.LineEnd = [(EndPoint[0], EndPoint[1]-0.01), (EndPoint[0], EndPoint[1]+0.01)]\n",
    "        self.gateGeomList.append(LineString(self.LineEnd))\n",
    "\n",
    "        # Add starting and ending nodes to the graph\n",
    "        self.graph.add_node(self.GateCounter, id='s', geom=LineString(self.LineStart), point=self.Start, sector=None, x_dist=0)\n",
    "        StartId = self.GateCounter\n",
    "        self.GateCounter += 1\n",
    "\n",
    "        self.graph.add_node(self.GateCounter, id='e', geom=LineString(self.LineEnd), point=self.End, sector=None, x_dist=self.End.distance(self.Start))\n",
    "        EndId = self.GateCounter\n",
    "        self.GateCounter += 1\n",
    "\n",
    "        # Create a direct edge between starting and ending nodes\n",
    "        eucPath = LineString([self.Start, self.End])\n",
    "        self.graph.add_edge(StartId, EndId, weight=eucPath.length, geom=eucPath)\n",
    "\n",
    "        # Initialize various bounds and attributes\n",
    "        self.eucLB_free, self.dubLB_free = None, None\n",
    "        self.eucLowerPath, self.dubLowerPath = None, None\n",
    "        self.eucLowerBound, self.dubLowerBound, self.dubUpperBound = None, None, None\n",
    "        self.eucLB_time, self.dubLB_time, self.dubUB_time = None, None, None\n",
    "\n",
    "        self.eucGraph = None\n",
    "        self.dubUB_graph = None\n"
   ]
  },
  {
   "cell_type": "code",
   "execution_count": 68,
   "id": "67052992",
   "metadata": {},
   "outputs": [],
   "source": [
    "\n",
    "rho = 1\n",
    "initial_Sectors = 3\n",
    "start_conf = (0, 4.5, 0)\n",
    "end_conf = (16, 4.5, 0)\n",
    "\n",
    "tolerances = {'continuity': 0.1,\n",
    " 'angular': 15,\n",
    " 'polygon_intersection': 0.7,\n",
    " 'circle_intersection_ratio': 0.5}\n",
    "\n",
    "G = Graph_Gstar(StartPoint=start_conf, EndPoint=end_conf,rho = rho, Sectors=initial_Sectors, tolerances=tolerances)"
   ]
  },
  {
   "cell_type": "code",
   "execution_count": null,
   "id": "722274d6",
   "metadata": {},
   "outputs": [],
   "source": []
  },
  {
   "cell_type": "code",
   "execution_count": null,
   "id": "671471fa",
   "metadata": {},
   "outputs": [],
   "source": []
  },
  {
   "cell_type": "code",
   "execution_count": 197,
   "id": "23ac962b",
   "metadata": {},
   "outputs": [],
   "source": [
    "import numpy as np\n",
    "import matplotlib.pyplot as plt\n",
    "from shapely.geometry import Point, Polygon\n",
    "import random\n",
    "\n",
    "class Map:\n",
    "\n",
    "    \"\"\"\n",
    "    Class implementing simple 2D polygonal obstacles.\n",
    "\n",
    "    Attributes\n",
    "    ----------\n",
    "    StartConf, EndConf : 3-tuple\n",
    "        List of (x, y, rho) coordinates in the frame of the environment representing the start and end congfiguration of the Dubins vehicle.\n",
    "    StartPoint, self.EndPoint\n",
    "\n",
    "    self.ObstacleList\n",
    "\n",
    "    bounding_box : 4-tuple\n",
    "        Coordinates of the lower left and upper right corners of the bounding box containing the obstacle.\n",
    "\n",
    "    Methods\n",
    "    -------\n",
    "    generate_polygon_obstacles\n",
    "\n",
    "    plot\n",
    "        Displays the polygon on screen.\n",
    "\n",
    "    \"\"\"\n",
    "\n",
    "    def __init__(self, StartConf, EndConf, map_dimensions, nb_obstacles, shape=5):\n",
    "        self.StartConf, self.EndConf = StartConf, EndConf\n",
    "        self.StartPoint, self.EndPoint = Point(\n",
    "            (StartConf[0], StartConf[1])), Point((EndConf[0], EndConf[1]))\n",
    "\n",
    "        if shape == 0:\n",
    "            self.ObstacleList = self.generate_circular_obstacles(\n",
    "                map_dimensions, nb_obstacles)\n",
    "        elif shape > 2:\n",
    "            self.ObstacleList = self.generate_polygon_obstacles(\n",
    "                map_dimensions, nb_obstacles, shape)\n",
    "        else:\n",
    "            print(\"Oops!  Not a valid shape.  Try again...\")\n",
    "\n",
    "        self.map_minx, self.map_miny, self.map_maxx, self.map_maxy = self.MapBounds()\n",
    "        # self.map_minx, self.map_miny, self.map_maxx, self.map_maxy = 0, 0, map_dimensions[0], map_dimensions[1]\n",
    "\n",
    "    def MapBounds(self):\n",
    "        x_min, y_min, x_max, y_max = self.StartPoint.x, np.inf, self.EndPoint.x, 0\n",
    "        for obstacle in self.ObstacleList:\n",
    "            _, miny, _, maxy = obstacle.bounds\n",
    "            if miny < y_min:\n",
    "                y_min = miny\n",
    "            if maxy > y_max:\n",
    "                y_max = maxy\n",
    "        # bounding_box = box(x_min, y_min, x_max, y_max)\n",
    "        return x_min, y_min, x_max, y_max\n",
    "\n",
    "    def generate_polygon_obstacles(self, map_dimensions, nb_obstacles, shape):\n",
    "\n",
    "        # size = 0.05*map_dimensions[1]\n",
    "        size = random.uniform(0.08, 0.09)*map_dimensions[0]\n",
    "        ObstacleList = []\n",
    "\n",
    "        # for _ in range(nb_obstacles):\n",
    "        count = 0\n",
    "        while (count < nb_obstacles):\n",
    "            # center = np.array([np.random.rand()*map_dimensions[0], np.random.rand()*map_dimensions[1]])\n",
    "\n",
    "            if count == 0:\n",
    "                # obstacle at mid map\n",
    "                center = np.array([map_dimensions[0]/2, map_dimensions[1]/2])\n",
    "            else:\n",
    "                # offset by turning radius?\n",
    "                center = np.array(\n",
    "                    [np.random.rand()*(map_dimensions[0]), np.random.rand()*(map_dimensions[1])])\n",
    "\n",
    "            # Simple convex polygons, generated with a radius and randomly selected angles.\n",
    "            if count < nb_obstacles-3:\n",
    "\n",
    "                pshape = np.random.randint(3, high=shape)\n",
    "                angles = sorted((np.random.rand()*2*np.pi for _ in range(pshape)))\n",
    "                points = np.array(\n",
    "                    [center + np.array([size*np.cos(angle), size*np.sin(angle)]) for angle in angles])\n",
    "                polygon = Polygon(points)\n",
    "            else:\n",
    "                polygon = Point(center).buffer(random.uniform(0.03, 0.07)*map_dimensions[0])\n",
    "\n",
    "            if not self.StartPoint.intersects(polygon) and not self.EndPoint.intersects(polygon) and polygon.boundary.distance(self.EndPoint) > 1 and polygon.boundary.distance(self.StartPoint) > 1:\n",
    "                ObstacleList.append(polygon)\n",
    "                count += 1\n",
    "\n",
    "        return ObstacleList\n",
    "\n",
    "\n",
    "    def plot(self):\n",
    "        \"\"\"\n",
    "        Draws the polygon on screen.\n",
    "        \"\"\"\n",
    "\n",
    "        plt.axis('equal')\n",
    "        plt.plot(self.StartPoint.x, self.StartPoint.y, 'x', c='black')\n",
    "        plt.plot(self.EndPoint.x, self.EndPoint.y, 'x', c='black')\n",
    "        for obstacle in self.ObstacleList:\n",
    "            x, y = obstacle.exterior.xy\n",
    "            plt.fill(x, y, c=\"blue\")\n",
    "        plt.show()"
   ]
  },
  {
   "cell_type": "code",
   "execution_count": 200,
   "id": "19d19efc",
   "metadata": {},
   "outputs": [
    {
     "data": {
      "image/png": "[encoded data removed]",
      "text/plain": [
       "<Figure size 640x480 with 1 Axes>"
      ]
     },
     "metadata": {},
     "output_type": "display_data"
    }
   ],
   "source": [
    "M = Map((0, 4.5, 0), (16, 4.5, np.pi), (16, 16), 15, 5)\n",
    "M.plot()"
   ]
  },
  {
   "cell_type": "code",
   "execution_count": null,
   "id": "e419fdba",
   "metadata": {},
   "outputs": [],
   "source": []
  },
  {
   "cell_type": "code",
   "execution_count": null,
   "id": "4ca3ac0e",
   "metadata": {},
   "outputs": [],
   "source": []
  },
  {
   "cell_type": "code",
   "execution_count": 201,
   "id": "23f9a5b5",
   "metadata": {},
   "outputs": [],
   "source": [
    "def node_id_list(Id, G):\n",
    "    id_list = []\n",
    "    for n in list(G.graph.nodes):\n",
    "        if G.graph.nodes[n]['id'] == Id:\n",
    "            id_list.append(n)\n",
    "    return id_list\n",
    "\n",
    "\n"
   ]
  },
  {
   "cell_type": "code",
   "execution_count": 202,
   "id": "0045ed72",
   "metadata": {},
   "outputs": [
    {
     "data": {
      "text/plain": [
       "[2]"
      ]
     },
     "execution_count": 202,
     "metadata": {},
     "output_type": "execute_result"
    }
   ],
   "source": [
    "id_list = node_id_list('s', G)\n",
    "id_list"
   ]
  },
  {
   "cell_type": "code",
   "execution_count": 203,
   "id": "e7462e2e",
   "metadata": {},
   "outputs": [
    {
     "data": {
      "text/plain": [
       "[3]"
      ]
     },
     "execution_count": 203,
     "metadata": {},
     "output_type": "execute_result"
    }
   ],
   "source": [
    "id_list = node_id_list('e', G)\n",
    "id_list"
   ]
  },
  {
   "cell_type": "code",
   "execution_count": null,
   "id": "4229d428",
   "metadata": {},
   "outputs": [],
   "source": []
  },
  {
   "cell_type": "code",
   "execution_count": null,
   "id": "784989d9",
   "metadata": {},
   "outputs": [],
   "source": []
  },
  {
   "cell_type": "code",
   "execution_count": 204,
   "id": "f949004e",
   "metadata": {},
   "outputs": [],
   "source": [
    "def get_shortest_path(start_id, end_id, G):\n",
    "    ShortestPath, ShortestLength = [], np.inf\n",
    "    start_id_list, end_id_list = node_id_list(start_id, G), node_id_list(end_id, G)\n",
    "    for start in start_id_list:\n",
    "        for end in end_id_list:\n",
    "            path = nx.shortest_path(G.graph, source=start, target=end, weight='weight', method='dijkstra')\n",
    "            length = nx.shortest_path_length(G.graph, source=start, target=end, weight='weight', method='dijkstra')\n",
    "            if length < ShortestLength:\n",
    "                ShortestPath, ShortestLength = path, length\n",
    "    return ShortestPath, ShortestLength"
   ]
  },
  {
   "cell_type": "code",
   "execution_count": 205,
   "id": "b8890cd0",
   "metadata": {},
   "outputs": [
    {
     "ename": "NetworkXNoPath",
     "evalue": "No path between 2 and 3.",
     "output_type": "error",
     "traceback": [
      "\u001b[0;31m---------------------------------------------------------------------------\u001b[0m",
      "\u001b[0;31mNetworkXNoPath\u001b[0m                            Traceback (most recent call last)",
      "Cell \u001b[0;32mIn[205], line 1\u001b[0m\n\u001b[0;32m----> 1\u001b[0m ShortestPath, ShortestLength \u001b[38;5;241m=\u001b[39m \u001b[43mget_shortest_path\u001b[49m\u001b[43m(\u001b[49m\u001b[38;5;124;43m'\u001b[39;49m\u001b[38;5;124;43ms\u001b[39;49m\u001b[38;5;124;43m'\u001b[39;49m\u001b[43m,\u001b[49m\u001b[43m \u001b[49m\u001b[38;5;124;43m'\u001b[39;49m\u001b[38;5;124;43me\u001b[39;49m\u001b[38;5;124;43m'\u001b[39;49m\u001b[43m,\u001b[49m\u001b[43m \u001b[49m\u001b[43mG\u001b[49m\u001b[43m)\u001b[49m\n",
      "Cell \u001b[0;32mIn[204], line 6\u001b[0m, in \u001b[0;36mget_shortest_path\u001b[0;34m(start_id, end_id, G)\u001b[0m\n\u001b[1;32m      4\u001b[0m \u001b[38;5;28;01mfor\u001b[39;00m start \u001b[38;5;129;01min\u001b[39;00m start_id_list:\n\u001b[1;32m      5\u001b[0m     \u001b[38;5;28;01mfor\u001b[39;00m end \u001b[38;5;129;01min\u001b[39;00m end_id_list:\n\u001b[0;32m----> 6\u001b[0m         path \u001b[38;5;241m=\u001b[39m \u001b[43mnx\u001b[49m\u001b[38;5;241;43m.\u001b[39;49m\u001b[43mshortest_path\u001b[49m\u001b[43m(\u001b[49m\u001b[43mG\u001b[49m\u001b[38;5;241;43m.\u001b[39;49m\u001b[43mgraph\u001b[49m\u001b[43m,\u001b[49m\u001b[43m \u001b[49m\u001b[43msource\u001b[49m\u001b[38;5;241;43m=\u001b[39;49m\u001b[43mstart\u001b[49m\u001b[43m,\u001b[49m\u001b[43m \u001b[49m\u001b[43mtarget\u001b[49m\u001b[38;5;241;43m=\u001b[39;49m\u001b[43mend\u001b[49m\u001b[43m,\u001b[49m\u001b[43m \u001b[49m\u001b[43mweight\u001b[49m\u001b[38;5;241;43m=\u001b[39;49m\u001b[38;5;124;43m'\u001b[39;49m\u001b[38;5;124;43mweight\u001b[39;49m\u001b[38;5;124;43m'\u001b[39;49m\u001b[43m,\u001b[49m\u001b[43m \u001b[49m\u001b[43mmethod\u001b[49m\u001b[38;5;241;43m=\u001b[39;49m\u001b[38;5;124;43m'\u001b[39;49m\u001b[38;5;124;43mdijkstra\u001b[39;49m\u001b[38;5;124;43m'\u001b[39;49m\u001b[43m)\u001b[49m\n\u001b[1;32m      7\u001b[0m         length \u001b[38;5;241m=\u001b[39m nx\u001b[38;5;241m.\u001b[39mshortest_path_length(G\u001b[38;5;241m.\u001b[39mgraph, source\u001b[38;5;241m=\u001b[39mstart, target\u001b[38;5;241m=\u001b[39mend, weight\u001b[38;5;241m=\u001b[39m\u001b[38;5;124m'\u001b[39m\u001b[38;5;124mweight\u001b[39m\u001b[38;5;124m'\u001b[39m, method\u001b[38;5;241m=\u001b[39m\u001b[38;5;124m'\u001b[39m\u001b[38;5;124mdijkstra\u001b[39m\u001b[38;5;124m'\u001b[39m)\n\u001b[1;32m      8\u001b[0m         \u001b[38;5;28;01mif\u001b[39;00m length \u001b[38;5;241m<\u001b[39m ShortestLength:\n",
      "File \u001b[0;32m~/.local/lib/python3.8/site-packages/networkx/classes/backends.py:148\u001b[0m, in \u001b[0;36m_dispatch.<locals>.wrapper\u001b[0;34m(*args, **kwds)\u001b[0m\n\u001b[1;32m    144\u001b[0m         \u001b[38;5;28;01melse\u001b[39;00m:\n\u001b[1;32m    145\u001b[0m             \u001b[38;5;28;01mraise\u001b[39;00m NetworkXNotImplemented(\n\u001b[1;32m    146\u001b[0m                 \u001b[38;5;124mf\u001b[39m\u001b[38;5;124m\"\u001b[39m\u001b[38;5;124m'\u001b[39m\u001b[38;5;132;01m{\u001b[39;00mname\u001b[38;5;132;01m}\u001b[39;00m\u001b[38;5;124m'\u001b[39m\u001b[38;5;124m not implemented by \u001b[39m\u001b[38;5;132;01m{\u001b[39;00mplugin_name\u001b[38;5;132;01m}\u001b[39;00m\u001b[38;5;124m\"\u001b[39m\n\u001b[1;32m    147\u001b[0m             )\n\u001b[0;32m--> 148\u001b[0m \u001b[38;5;28;01mreturn\u001b[39;00m \u001b[43mfunc\u001b[49m\u001b[43m(\u001b[49m\u001b[38;5;241;43m*\u001b[39;49m\u001b[43margs\u001b[49m\u001b[43m,\u001b[49m\u001b[43m \u001b[49m\u001b[38;5;241;43m*\u001b[39;49m\u001b[38;5;241;43m*\u001b[39;49m\u001b[43mkwds\u001b[49m\u001b[43m)\u001b[49m\n",
      "File \u001b[0;32m~/.local/lib/python3.8/site-packages/networkx/algorithms/shortest_paths/generic.py:173\u001b[0m, in \u001b[0;36mshortest_path\u001b[0;34m(G, source, target, weight, method)\u001b[0m\n\u001b[1;32m    171\u001b[0m     paths \u001b[38;5;241m=\u001b[39m nx\u001b[38;5;241m.\u001b[39mbidirectional_shortest_path(G, source, target)\n\u001b[1;32m    172\u001b[0m \u001b[38;5;28;01melif\u001b[39;00m method \u001b[38;5;241m==\u001b[39m \u001b[38;5;124m\"\u001b[39m\u001b[38;5;124mdijkstra\u001b[39m\u001b[38;5;124m\"\u001b[39m:\n\u001b[0;32m--> 173\u001b[0m     _, paths \u001b[38;5;241m=\u001b[39m \u001b[43mnx\u001b[49m\u001b[38;5;241;43m.\u001b[39;49m\u001b[43mbidirectional_dijkstra\u001b[49m\u001b[43m(\u001b[49m\u001b[43mG\u001b[49m\u001b[43m,\u001b[49m\u001b[43m \u001b[49m\u001b[43msource\u001b[49m\u001b[43m,\u001b[49m\u001b[43m \u001b[49m\u001b[43mtarget\u001b[49m\u001b[43m,\u001b[49m\u001b[43m \u001b[49m\u001b[43mweight\u001b[49m\u001b[43m)\u001b[49m\n\u001b[1;32m    174\u001b[0m \u001b[38;5;28;01melse\u001b[39;00m:  \u001b[38;5;66;03m# method == 'bellman-ford':\u001b[39;00m\n\u001b[1;32m    175\u001b[0m     paths \u001b[38;5;241m=\u001b[39m nx\u001b[38;5;241m.\u001b[39mbellman_ford_path(G, source, target, weight)\n",
      "File \u001b[0;32m~/.local/lib/python3.8/site-packages/networkx/algorithms/shortest_paths/weighted.py:2398\u001b[0m, in \u001b[0;36mbidirectional_dijkstra\u001b[0;34m(G, source, target, weight)\u001b[0m\n\u001b[1;32m   2396\u001b[0m                     revpath\u001b[38;5;241m.\u001b[39mreverse()\n\u001b[1;32m   2397\u001b[0m                     finalpath \u001b[38;5;241m=\u001b[39m paths[\u001b[38;5;241m0\u001b[39m][w] \u001b[38;5;241m+\u001b[39m revpath[\u001b[38;5;241m1\u001b[39m:]\n\u001b[0;32m-> 2398\u001b[0m \u001b[38;5;28;01mraise\u001b[39;00m nx\u001b[38;5;241m.\u001b[39mNetworkXNoPath(\u001b[38;5;124mf\u001b[39m\u001b[38;5;124m\"\u001b[39m\u001b[38;5;124mNo path between \u001b[39m\u001b[38;5;132;01m{\u001b[39;00msource\u001b[38;5;132;01m}\u001b[39;00m\u001b[38;5;124m and \u001b[39m\u001b[38;5;132;01m{\u001b[39;00mtarget\u001b[38;5;132;01m}\u001b[39;00m\u001b[38;5;124m.\u001b[39m\u001b[38;5;124m\"\u001b[39m)\n",
      "\u001b[0;31mNetworkXNoPath\u001b[0m: No path between 2 and 3."
     ]
    }
   ],
   "source": [
    "ShortestPath, ShortestLength = get_shortest_path('s', 'e', G)"
   ]
  },
  {
   "cell_type": "code",
   "execution_count": null,
   "id": "21f1d6da",
   "metadata": {},
   "outputs": [],
   "source": [
    "ShortestPath"
   ]
  },
  {
   "cell_type": "code",
   "execution_count": 206,
   "id": "0941a6f1",
   "metadata": {},
   "outputs": [
    {
     "data": {
      "text/plain": [
       "16.0"
      ]
     },
     "execution_count": 206,
     "metadata": {},
     "output_type": "execute_result"
    }
   ],
   "source": [
    "ShortestLength"
   ]
  },
  {
   "cell_type": "code",
   "execution_count": null,
   "id": "b457422d",
   "metadata": {},
   "outputs": [],
   "source": []
  },
  {
   "cell_type": "code",
   "execution_count": 207,
   "id": "f0b417f4",
   "metadata": {},
   "outputs": [],
   "source": [
    "def is_feasible_connection(Edge, obstacle, Tolerances):\n",
    "    feasible = True\n",
    "    ''' if the path is a single line segment '''\n",
    "    if mapping(Edge['geom'])['type'] == 'LineString':\n",
    "        if Edge['geom'].within(obstacle) or Edge['geom'].overlaps(obstacle):\n",
    "            return False\n",
    "        if Edge['geom'].crosses(obstacle):\n",
    "            if mapping(obstacle)['type'] == 'Polygon':\n",
    "                s = Edge['geom'].intersection(obstacle).length\n",
    "                if s > Tolerances['polygon_intersection']:\n",
    "                    return False\n",
    "            else:\n",
    "                s = Edge['geom'].intersection(obstacle).length\n",
    "                d = math.sqrt(4*obstacle.area/math.pi)\n",
    "                if (s/d) > Tolerances['circle_intersection_ratio']:\n",
    "                    return False\n",
    "    elif mapping(Edge['geom'])['type'] == 'MultiLineString':\n",
    "        for segment in list(Edge['geom']):\n",
    "            if segment.within(obstacle) or segment.overlaps(obstacle):\n",
    "                return False\n",
    "            if segment.crosses(obstacle):\n",
    "                if mapping(obstacle)['type'] == 'Polygon':\n",
    "                    s = segment.intersection(obstacle).length\n",
    "                    if s > Tolerances['polygon_intersection']:\n",
    "                        return False\n",
    "                else:\n",
    "                    s = segment.intersection(obstacle).length\n",
    "                    d = math.sqrt(4*obstacle.area/math.pi)\n",
    "                    if (s/d) > (s/d) > Tolerances['circle_intersection_ratio']:\n",
    "                        return False\n",
    "    return feasible"
   ]
  },
  {
   "cell_type": "code",
   "execution_count": null,
   "id": "23f8f867",
   "metadata": {},
   "outputs": [],
   "source": []
  },
  {
   "cell_type": "code",
   "execution_count": null,
   "id": "a818c060",
   "metadata": {},
   "outputs": [],
   "source": []
  },
  {
   "cell_type": "code",
   "execution_count": 148,
   "id": "3739559c",
   "metadata": {},
   "outputs": [],
   "source": [
    "def is_feasible_path(Path: list, G: Graph_Gstar, obstacleList: list):\n",
    "    feasible = True\n",
    "    for i in range(len(Path)-1):\n",
    "        u = Path[i]\n",
    "        v = Path[i+1]\n",
    "        Edge = G.graph.get_edge_data(u, v)\n",
    "\n",
    "        for obstacle in obstacleList:\n",
    "            feasible = is_feasible_connection(Edge, obstacle, G.tolerances)\n",
    "            if not feasible:\n",
    "                return False\n",
    "\n",
    "    return feasible"
   ]
  },
  {
   "cell_type": "code",
   "execution_count": 26,
   "id": "88a72921",
   "metadata": {},
   "outputs": [],
   "source": []
  },
  {
   "cell_type": "code",
   "execution_count": 48,
   "id": "3d529acb",
   "metadata": {},
   "outputs": [],
   "source": []
  },
  {
   "cell_type": "code",
   "execution_count": 128,
   "id": "724b5239",
   "metadata": {},
   "outputs": [],
   "source": [
    "def is_path_exists(StartId, EndId, G):\n",
    "    start_id_list, end_id_list = node_id_list(StartId, G), node_id_list(EndId, G)\n",
    "    for s in start_id_list:\n",
    "        for e in end_id_list:\n",
    "            if not nx.has_path(G.graph, source=s, target=e):\n",
    "                return False\n",
    "    return True"
   ]
  },
  {
   "cell_type": "code",
   "execution_count": null,
   "id": "11d0c5f1",
   "metadata": {},
   "outputs": [],
   "source": []
  },
  {
   "cell_type": "code",
   "execution_count": null,
   "id": "5907bd61",
   "metadata": {},
   "outputs": [],
   "source": []
  },
  {
   "cell_type": "code",
   "execution_count": 130,
   "id": "7c41ab83",
   "metadata": {},
   "outputs": [],
   "source": [
    "def is_route_continuous(Path, G):\n",
    "    for i in range(1, len(Path)-1):\n",
    "        _, b = G.graph.get_edge_data(Path[i-1], Path[i])['geom'].boundary\n",
    "        c, _ = G.graph.get_edge_data(Path[i], Path[i+1])['geom'].boundary\n",
    "        if b.distance(c) > G.tolerances['continuity']:\n",
    "            # print('points: ', b, c)\n",
    "            # print('distance', b.distance(c))\n",
    "            return False\n",
    "    return True"
   ]
  },
  {
   "cell_type": "code",
   "execution_count": null,
   "id": "a5c49cf1",
   "metadata": {},
   "outputs": [],
   "source": []
  },
  {
   "cell_type": "code",
   "execution_count": null,
   "id": "f07f10fc",
   "metadata": {},
   "outputs": [],
   "source": []
  },
  {
   "cell_type": "code",
   "execution_count": 134,
   "id": "a491964e",
   "metadata": {},
   "outputs": [],
   "source": [
    "def PlotGstar(shortest_path, G, Map, label, save_path='./images', action='save'):\n",
    "    \"\"\"Plots the shortest path on a map, including obstacles and edges.\n",
    "\n",
    "    Args:\n",
    "        shortest_path (list): A list of node IDs representing the shortest path.\n",
    "        G (GstarGraph): The graph to plot.\n",
    "        Map (Map): The map containing obstacles and start/end points.\n",
    "        label (str): The title of the plot.\n",
    "        save_path (str, optional): The path to save the image to. Defaults to './images'.\n",
    "        action (str, optional): Either 'save' to save the image or 'display' to show it. Defaults to 'save'.\n",
    "    \"\"\"\n",
    "    plt.ioff()\n",
    "    fig = plt.figure()\n",
    "\n",
    "    # Plot obstacles\n",
    "    for obstacle in Map.ObstacleList:\n",
    "        x, y = obstacle.exterior.xy\n",
    "        plt.fill(x, y, c=\"blue\")\n",
    "\n",
    "    # Plot start/end points\n",
    "    plt.plot(Map.StartPoint.x, Map.StartPoint.y, 'x', c='black')\n",
    "    plt.plot(Map.EndPoint.x, Map.EndPoint.y, 'x', c='black')\n",
    "\n",
    "    # Plot edges\n",
    "    for n in list(G.graph.nodes):\n",
    "        node = G.graph.nodes[n]\n",
    "        if mapping(node['geom'])['type'] == 'LineString':\n",
    "            x, y = node['geom'].xy\n",
    "            plt.plot(x, y, c=\"green\")\n",
    "        elif mapping(node['geom'])['type'] == 'MultiLineString':\n",
    "            for line in list(node['geom']):\n",
    "                x, y = line.xy\n",
    "                plt.plot(x, y, c=\"green\")\n",
    "\n",
    "    # Plot shortest path\n",
    "    for i in range(len(shortest_path)-1):\n",
    "        u = shortest_path[i]\n",
    "        v = shortest_path[i+1]\n",
    "        edge = G.graph.get_edge_data(u, v)\n",
    "        if mapping(edge['geom'])['type'] == 'LineString':\n",
    "            x, y = edge['geom'].xy\n",
    "            plt.plot(x, y, c=\"black\", linewidth=3)\n",
    "        elif mapping(edge['geom'])['type'] == 'MultiLineString':\n",
    "            for line in list(edge['geom']):\n",
    "                x, y = line.xy\n",
    "                plt.plot(x, y, c=\"black\", linewidth=3)\n",
    "\n",
    "    # Set equal axis scaling and title\n",
    "    plt.axis('equal')\n",
    "    plt.title(label)\n",
    "\n",
    "    # Either display or save the plot\n",
    "    if action == 'display':\n",
    "        plt.show(block=True)\n",
    "    elif action == 'save':\n",
    "        plt.savefig(save_path, format='svg')\n",
    "    plt.close('all')\n"
   ]
  },
  {
   "cell_type": "code",
   "execution_count": null,
   "id": "94a75025",
   "metadata": {},
   "outputs": [],
   "source": []
  },
  {
   "cell_type": "code",
   "execution_count": 194,
   "id": "6fde648d",
   "metadata": {},
   "outputs": [
    {
     "data": {
      "text/plain": [
       "<__main__.Graph_Gstar at 0x7f47485bb6a0>"
      ]
     },
     "execution_count": 194,
     "metadata": {},
     "output_type": "execute_result"
    }
   ],
   "source": [
    "EuclideanToDubinsGraph(G, heading_restricted, startAngle = outAngle, goalAngle = inAngle)"
   ]
  },
  {
   "cell_type": "code",
   "execution_count": 196,
   "id": "68c58b14",
   "metadata": {},
   "outputs": [
    {
     "data": {
      "text/plain": [
       "{'id': 's',\n",
       " 'point': <POINT (0 4.5)>,\n",
       " 'geom': <LINESTRING (0 4.49, 0 4.51)>,\n",
       " 'sector': (1.5707963267948966, 1.5807963267948966),\n",
       " 'x_dist': 0}"
      ]
     },
     "execution_count": 196,
     "metadata": {},
     "output_type": "execute_result"
    }
   ],
   "source": [
    "G.graph.nodes[2]"
   ]
  },
  {
   "cell_type": "code",
   "execution_count": 161,
   "id": "174dec96",
   "metadata": {},
   "outputs": [],
   "source": [
    "def EuclideanToDubinsGraph(G, heading_restricted, startAngle, goalAngle):\n",
    "    sector_list = [(2*np.pi*i/G.Sectors, 2*np.pi*(i+1)/G.Sectors)\n",
    "                   for i in range(G.Sectors)]\n",
    "    for n in list(G.graph.nodes):\n",
    "        if G.graph.nodes[n]['id'] == 's':\n",
    "            if heading_restricted:\n",
    "                G.graph.add_node(G.GateCounter, id='s', point=G.graph.nodes[n]['point'], geom=G.graph.nodes[n]['geom'], sector=(\n",
    "                    startAngle, startAngle+0.01), x_dist=G.graph.nodes[n]['x_dist'])\n",
    "                G.GateCounter += 1\n",
    "            else:\n",
    "                for sector in sector_list:\n",
    "                    G.graph.add_node(\n",
    "                        G.GateCounter, id='s', point=G.graph.nodes[n]['point'], geom=G.graph.nodes[n]['geom'], sector=sector, x_dist=G.graph.nodes[n]['x_dist'])\n",
    "                    G.GateCounter += 1\n",
    "        elif G.graph.nodes[n]['id'] == 'e':\n",
    "            if heading_restricted:\n",
    "                G.graph.add_node(G.GateCounter, id='e', point=G.graph.nodes[n]['point'], geom=G.graph.nodes[n]['geom'], sector=(\n",
    "                    goalAngle, goalAngle+0.01), x_dist=G.graph.nodes[n]['x_dist'])\n",
    "                G.GateCounter += 1\n",
    "            else:\n",
    "                for sector in sector_list:\n",
    "                    G.graph.add_node(\n",
    "                        G.GateCounter, id='e', point=G.graph.nodes[n]['point'], geom=G.graph.nodes[n]['geom'], sector=sector, x_dist=G.graph.nodes[n]['x_dist'])\n",
    "                    G.GateCounter += 1\n",
    "        else:\n",
    "            for sector in sector_list:\n",
    "                G.graph.add_node(G.GateCounter, id=G.GateCounter,\n",
    "                                 geom=G.graph.nodes[n]['geom'], sector=sector, x_dist=G.graph.nodes[n]['x_dist'])\n",
    "                G.GateCounter += 1\n",
    "        G.graph.remove_node(n)\n",
    "    G.graph = G.graph.to_directed()\n",
    "    return G"
   ]
  },
  {
   "cell_type": "code",
   "execution_count": 183,
   "id": "ab4b6438",
   "metadata": {},
   "outputs": [],
   "source": [
    "sector_list = [(2*np.pi*i/3, 2*np.pi*(i+1)/3) for i in range(3)]"
   ]
  },
  {
   "cell_type": "code",
   "execution_count": 184,
   "id": "1cad240f",
   "metadata": {},
   "outputs": [
    {
     "data": {
      "text/plain": [
       "[(0.0, 2.0943951023931953),\n",
       " (2.0943951023931953, 4.1887902047863905),\n",
       " (4.1887902047863905, 6.283185307179586)]"
      ]
     },
     "execution_count": 184,
     "metadata": {},
     "output_type": "execute_result"
    }
   ],
   "source": [
    "sector_list"
   ]
  },
  {
   "cell_type": "code",
   "execution_count": 191,
   "id": "29dc0524",
   "metadata": {},
   "outputs": [
    {
     "data": {
      "text/plain": [
       "[0, 1]"
      ]
     },
     "execution_count": 191,
     "metadata": {},
     "output_type": "execute_result"
    }
   ],
   "source": [
    "list(G.graph.nodes)"
   ]
  },
  {
   "cell_type": "code",
   "execution_count": 192,
   "id": "70fee930",
   "metadata": {},
   "outputs": [
    {
     "data": {
      "text/plain": [
       "{'id': 's',\n",
       " 'geom': <LINESTRING (0 4.49, 0 4.51)>,\n",
       " 'point': <POINT (0 4.5)>,\n",
       " 'sector': None,\n",
       " 'x_dist': 0}"
      ]
     },
     "execution_count": 192,
     "metadata": {},
     "output_type": "execute_result"
    }
   ],
   "source": [
    "G.graph.nodes[0]"
   ]
  },
  {
   "cell_type": "code",
   "execution_count": 163,
   "id": "6df303c1",
   "metadata": {},
   "outputs": [],
   "source": [
    "def ConnectGates_Dubins(G):\n",
    "    \"\"\"\n",
    "    Function to connect Dubins edges between gates.\n",
    "\n",
    "    Attributes\n",
    "    ----------\n",
    "    Graph : nx.graph()\n",
    "        A graph containing Gates as nodes.\n",
    "\n",
    "    Output\n",
    "    -------\n",
    "    Graph : nx.graph()\n",
    "        A graph containing Gates connected using Dubins paths.\n",
    "\n",
    "    \"\"\"\n",
    "    G.graph.clear_edges()\n",
    "    smallest_gate_x_dist, largest_gate_x_dist = np.inf, 0\n",
    "    for n in list(G.graph.nodes):\n",
    "        if G.graph.nodes[n]['x_dist'] < smallest_gate_x_dist:\n",
    "            smallest_gate_x_dist = G.graph.nodes[n]['x_dist']\n",
    "        if G.graph.nodes[n]['x_dist'] > largest_gate_x_dist:\n",
    "            largest_gate_x_dist = G.graph.nodes[n]['x_dist']\n",
    "\n",
    "    ''' 4/1. Start path'''\n",
    "    nearest_gates, nearest_gate_dist = [], np.inf\n",
    "    for n in list(G.graph.nodes):\n",
    "        if G.graph.nodes[n]['x_dist'] == smallest_gate_x_dist:\n",
    "            nearest_gate_dist = G.graph.nodes[n]['x_dist']\n",
    "            nearest_gates.append(n)\n",
    "\n",
    "    prev_x_dist = nearest_gate_dist\n",
    "    prev_gates = nearest_gates\n",
    "\n",
    "    ''' 4/2. Gate connections '''\n",
    "    while prev_x_dist < largest_gate_x_dist:\n",
    "        nearest_gates, nearest_gate_dist = [], np.inf\n",
    "        for n in list(G.graph.nodes):\n",
    "            if G.graph.nodes[n]['x_dist'] < nearest_gate_dist and G.graph.nodes[n]['x_dist'] > prev_x_dist:\n",
    "                nearest_gate_dist = G.graph.nodes[n]['x_dist']\n",
    "                nearest_gates = [n]\n",
    "            elif G.graph.nodes[n]['x_dist'] == nearest_gate_dist:\n",
    "                nearest_gates.append(n)\n",
    "\n",
    "        for a in prev_gates:\n",
    "            for b in nearest_gates:\n",
    "                line1 = list(zip(*G.graph.nodes[a]['geom'].coords.xy))\n",
    "                line2 = list(zip(*G.graph.nodes[b]['geom'].coords.xy))\n",
    "                sector1 = G.graph.nodes[a]['sector']\n",
    "                sector2 = G.graph.nodes[b]['sector']\n",
    "                # try:\n",
    "                # minLength, minConfStart_1, minConfGoal_1, minPathType, minPathSegLengths = DubinsLineToLine_V2.DubinsLineToLineV2(line1, sector1, line2, sector2, G.rho)\n",
    "                L2LDub_1 = DubinsL2L.Line2LineDubins(\n",
    "                    line1, sector1, line2, sector2, G.rho)\n",
    "                minLength_1, minPath_1 = L2LDub_1.MinDub_L2L()\n",
    "                minConfStart_1, minConfGoal_1 = list(\n",
    "                    minPath_1.iniPos)+[minPath_1.iniHead], list(minPath_1.finalPos)+[minPath_1.finalHead]\n",
    "                path_1 = du.shortest_path(minConfStart_1, minConfGoal_1, G.rho)\n",
    "                configurations_1, _ = path_1.sample_many(step_size)\n",
    "                temp_path_1 = list(\n",
    "                    map(lambda c: (c[0], c[1]), configurations_1))\n",
    "                temp_path_1.append((minConfGoal_1[0], minConfGoal_1[1]))\n",
    "                temp_path_1 = LineString(temp_path_1)\n",
    "                # G.graph.add_edge(a, b, weight=temp_path_1.length, geom=temp_path_1, pathConf=[minConfStart_1, minConfGoal_1], parent_gates=[a, b])\n",
    "                G.graph.add_edge(a, b, weight=minLength_1, geom=temp_path_1, pathConf=[\n",
    "                                 minConfStart_1, minConfGoal_1], parent_gates=[a, b])\n",
    "\n",
    "                # NewLine\n",
    "                # minLength, minConfStart_2, minConfGoal_2, minPathType, minPathSegLengths = DubinsLineToLine_V2.DubinsLineToLineV2(line2, sector2, line1, sector1, G.rho)\n",
    "                L2LDub_2 = DubinsL2L.Line2LineDubins(\n",
    "                    line2, sector2, line1, sector1, G.rho)\n",
    "                minLength_2, minPath_2 = L2LDub_2.MinDub_L2L()\n",
    "                minConfStart_2, minConfGoal_2 = list(\n",
    "                    minPath_2.iniPos)+[minPath_2.iniHead], list(minPath_2.finalPos)+[minPath_2.finalHead]\n",
    "                path_2 = du.shortest_path(minConfStart_2, minConfGoal_2, G.rho)\n",
    "                configurations_2, _ = path_2.sample_many(step_size)\n",
    "                temp_path_2 = list(\n",
    "                    map(lambda c: (c[0], c[1]), configurations_2))\n",
    "                temp_path_2.append((minConfGoal_2[0], minConfGoal_2[1]))\n",
    "                temp_path_2 = LineString(temp_path_2)\n",
    "                # G.graph.add_edge(b, a, weight=temp_path_2.length, geom=temp_path_2, pathConf=[minConfStart_2, minConfGoal_2], parent_gates=[b, a])\n",
    "                G.graph.add_edge(b, a, weight=minLength_2, geom=temp_path_2, pathConf=[\n",
    "                                 minConfStart_2, minConfGoal_2], parent_gates=[b, a])\n",
    "\n",
    "                # except:\n",
    "                #     None\n",
    "        prev_x_dist = nearest_gate_dist\n",
    "        prev_gates = nearest_gates\n",
    "\n",
    "    return G"
   ]
  },
  {
   "cell_type": "code",
   "execution_count": null,
   "id": "12ea1f99",
   "metadata": {},
   "outputs": [],
   "source": []
  },
  {
   "cell_type": "code",
   "execution_count": 175,
   "id": "5d3d1af9",
   "metadata": {},
   "outputs": [],
   "source": [
    "def is_angle_matching(Path, G):\n",
    "    for i in range(1, len(Path)-1):\n",
    "        # TO DO: Add boundary point sorting based on x-distace from start point\n",
    "        AngIn = G.graph.get_edge_data(Path[i-1], Path[i])['pathConf'][1][2]\n",
    "        AngOut = G.graph.get_edge_data(Path[i], Path[i+1])['pathConf'][0][2]\n",
    "        pathConfList = sorted([AngIn, AngOut])\n",
    "        if utils.Angdiff(pathConfList[0], pathConfList[1]) > G.tolerances['angular']*np.pi/180:\n",
    "            print('Angles', (pathConfList[0], pathConfList[1]))\n",
    "            print('Angle diff',  utils.Angdiff(\n",
    "                pathConfList[0], pathConfList[1])*180/np.pi)\n",
    "            return False\n",
    "    return True"
   ]
  },
  {
   "cell_type": "code",
   "execution_count": null,
   "id": "5ac79a45",
   "metadata": {},
   "outputs": [],
   "source": []
  },
  {
   "cell_type": "code",
   "execution_count": 212,
   "id": "1bea30bd",
   "metadata": {},
   "outputs": [],
   "source": [
    "def ConstructGates(G, Map, Path, graphType='euclidean'):\n",
    "    ''' 1. Draw gates for obstacles intesecting the path '''\n",
    "    for i in range(len(Path)-1):\n",
    "        u, v = Path[i], Path[i+1]\n",
    "        Edge = G.graph.get_edge_data(u, v)\n",
    "        # if is_feasible_connection(Edge, ObstacleMap) == False:\n",
    "        #\n",
    "        for obstacle in Map.ObstacleList:\n",
    "            if mapping(Edge['geom'])['type'] == 'LineString':\n",
    "                # if Edge['geom'].crosses(obstacle):\n",
    "                if not is_feasible_connection(Edge, obstacle, G.tolerances):\n",
    "                    # nx.G.graph.remove_edge()\n",
    "                    G = add_gate(G, Edge['geom'], obstacle, Map, graphType)\n",
    "\n",
    "            elif mapping(Edge['geom'])['type'] == 'MultiLineString':\n",
    "                for segment in list(Edge['geom']):\n",
    "                    # if segment.crosses(obstacle):\n",
    "                    if not is_feasible_connection(segment, obstacle, G.tolerances):\n",
    "                        G = add_gate(G, segment, obstacle, Map, graphType)\n",
    "    return G"
   ]
  },
  {
   "cell_type": "code",
   "execution_count": null,
   "id": "28e4ce01",
   "metadata": {},
   "outputs": [],
   "source": []
  },
  {
   "cell_type": "code",
   "execution_count": null,
   "id": "a5ff1009",
   "metadata": {},
   "outputs": [],
   "source": []
  },
  {
   "cell_type": "code",
   "execution_count": 214,
   "id": "cb6a560a",
   "metadata": {},
   "outputs": [],
   "source": [
    "def add_gate(G, Edge, Obstacle, Map, Type):\n",
    "    ''' List of points intersecting the obstacle'''\n",
    "    points = list(Edge.intersection(Obstacle).boundary)\n",
    "    ''' Draw gates at midway of points'''\n",
    "    avg_X, avg_Y = 0, 0\n",
    "    for p in points:\n",
    "        avg_X = avg_X + (p.x)/2\n",
    "        avg_Y = avg_Y + (p.y)/2\n",
    "\n",
    "    gate_geom = LineString([(avg_X, Map.map_maxy), (avg_X, Map.map_miny)])\n",
    "\n",
    "    for obs in Map.ObstacleList:\n",
    "        gate_geom = gate_geom - obs\n",
    "\n",
    "    # ExistingGateList = []\n",
    "    # try:\n",
    "    #     ExistingGateList = [G.graph.nodes[n]['geom'] for n in list(G.graph.nodes)]\n",
    "    # except AttributeError:\n",
    "    #     print(\"Error adding new gates\")\n",
    "\n",
    "    if Type == 'Euclidean':\n",
    "        if mapping(gate_geom)['type'] == 'LineString':\n",
    "            # if gate_geom not in ExistingGateList:\n",
    "            if gate_geom not in G.gateGeomList:\n",
    "                G.graph.add_node(G.GateCounter, id=G.GateCounter,\n",
    "                                 geom=gate_geom, sector=None, x_dist=avg_X)\n",
    "                G.gateGeomList.append(gate_geom)\n",
    "                G.GateCounter += 1\n",
    "        elif mapping(gate_geom)['type'] == 'MultiLineString':\n",
    "            for gate_segment_geom in list(gate_geom):\n",
    "                # if gate_segment_geom not in ExistingGateList:\n",
    "                if gate_segment_geom not in G.gateGeomList:\n",
    "                    G.graph.add_node(G.GateCounter, id=G.GateCounter,\n",
    "                                     geom=gate_segment_geom, sector=None, x_dist=avg_X)\n",
    "                    G.gateGeomList.append(gate_segment_geom)\n",
    "                    G.GateCounter += 1\n",
    "\n",
    "    elif Type == 'Dubins':\n",
    "        sector_list = [(2*np.pi*i/G.Sectors, 2*np.pi*(i+1)/G.Sectors)\n",
    "                       for i in range(G.Sectors)]\n",
    "        if mapping(gate_geom)['type'] == 'LineString':\n",
    "            # if gate_geom not in ExistingGateList:\n",
    "            if gate_geom not in G.gateGeomList:\n",
    "                for sector in sector_list:\n",
    "                    G.graph.add_node(G.GateCounter, id=G.GateCounter,\n",
    "                                     geom=gate_geom, sector=sector, x_dist=avg_X)\n",
    "                    G.gateGeomList.append(gate_geom)\n",
    "                    G.GateCounter += 1\n",
    "        elif mapping(gate_geom)['type'] == 'MultiLineString':\n",
    "            for gate_segment_geom in list(gate_geom):\n",
    "                # if gate_segment_geom not in ExistingGateList:\n",
    "                if gate_segment_geom not in G.gateGeomList:\n",
    "                    for sector in sector_list:\n",
    "                        G.graph.add_node(\n",
    "                            G.GateCounter, id=G.GateCounter, geom=gate_segment_geom, sector=sector, x_dist=avg_X)\n",
    "                        G.gateGeomList.append(gate_segment_geom)\n",
    "                        G.GateCounter += 1\n",
    "\n",
    "    else:\n",
    "        print('TypeError: Check selected path type')\n",
    "    return G"
   ]
  },
  {
   "cell_type": "code",
   "execution_count": null,
   "id": "32563b38",
   "metadata": {},
   "outputs": [],
   "source": []
  },
  {
   "cell_type": "code",
   "execution_count": null,
   "id": "0354490d",
   "metadata": {},
   "outputs": [],
   "source": []
  },
  {
   "cell_type": "code",
   "execution_count": 215,
   "id": "e534e5b7",
   "metadata": {},
   "outputs": [],
   "source": [
    "# M = Map((0, 2, 0), (5, 2, np.pi), (4, 4), 10, 5)\n",
    "\n",
    "G = Graph_Gstar(StartPoint=start_conf, EndPoint=end_conf,rho = rho, Sectors=initial_Sectors, tolerances=tolerances)\n",
    "\n",
    "timeLimit = 1800\n",
    "\n",
    "heading_restricted = True\n",
    "\n",
    "imgPath = './PRACTICE/'\n",
    "\n",
    "with open('./instances/map1/heading.yaml') as heading_yaml:\n",
    "    headingAngles = yaml.load(heading_yaml, Loader=yaml.FullLoader)"
   ]
  },
  {
   "cell_type": "code",
   "execution_count": 216,
   "id": "5c9a4641",
   "metadata": {},
   "outputs": [],
   "source": [
    "def GstarPaths(Map: Map, G: Graph_Gstar, timeLimit: int, imgPath: str, heading_restricted: bool, headingAngles: float):\n",
    "    \n",
    "    \n",
    "    return G.dubLowerPath, Map, G"
   ]
  },
  {
   "cell_type": "code",
   "execution_count": 217,
   "id": "81852168",
   "metadata": {},
   "outputs": [],
   "source": [
    "dubLB_path, Map, G = GstarPaths(Map= M, G = G, timeLimit = timeLimit, imgPath = imgPath, heading_restricted = heading_restricted, headingAngles = headingAngles)"
   ]
  },
  {
   "cell_type": "code",
   "execution_count": 218,
   "id": "04998095",
   "metadata": {},
   "outputs": [
    {
     "name": "stdout",
     "output_type": "stream",
     "text": [
      "Euclidean Upper Bound (No Obstacles):  16.0\n",
      "Dubins Upper Bound (No Obstacles):  17.27956949581917\n",
      "### Solving Euclidean Lower Bound ###\n"
     ]
    },
    {
     "ename": "TypeError",
     "evalue": "'MultiPoint' object is not iterable",
     "output_type": "error",
     "traceback": [
      "\u001b[0;31m---------------------------------------------------------------------------\u001b[0m",
      "\u001b[0;31mTypeError\u001b[0m                                 Traceback (most recent call last)",
      "Cell \u001b[0;32mIn[218], line 40\u001b[0m\n\u001b[1;32m     38\u001b[0m \u001b[38;5;28;01melse\u001b[39;00m:\n\u001b[1;32m     39\u001b[0m     \u001b[38;5;28;01mif\u001b[39;00m \u001b[38;5;129;01mnot\u001b[39;00m path_feasible:\n\u001b[0;32m---> 40\u001b[0m         G \u001b[38;5;241m=\u001b[39m \u001b[43mConstructGates\u001b[49m\u001b[43m(\u001b[49m\u001b[43mG\u001b[49m\u001b[43m,\u001b[49m\u001b[43m \u001b[49m\u001b[43mMap\u001b[49m\u001b[43m,\u001b[49m\u001b[43m \u001b[49m\u001b[43mshort_path_list\u001b[49m\u001b[43m,\u001b[49m\u001b[43mgraphType\u001b[49m\u001b[38;5;241;43m=\u001b[39;49m\u001b[38;5;124;43m'\u001b[39;49m\u001b[38;5;124;43mEuclidean\u001b[39;49m\u001b[38;5;124;43m'\u001b[39;49m\u001b[43m)\u001b[49m\n\u001b[1;32m     41\u001b[0m         G \u001b[38;5;241m=\u001b[39m ConnectGates_Euclidean(G)\n\u001b[1;32m     42\u001b[0m         short_path_list, short_path_length \u001b[38;5;241m=\u001b[39m get_shortest_path(\u001b[38;5;124m'\u001b[39m\u001b[38;5;124ms\u001b[39m\u001b[38;5;124m'\u001b[39m, \u001b[38;5;124m'\u001b[39m\u001b[38;5;124me\u001b[39m\u001b[38;5;124m'\u001b[39m, G)\n",
      "Cell \u001b[0;32mIn[212], line 13\u001b[0m, in \u001b[0;36mConstructGates\u001b[0;34m(G, Map, Path, graphType)\u001b[0m\n\u001b[1;32m      9\u001b[0m \u001b[38;5;28;01mif\u001b[39;00m mapping(Edge[\u001b[38;5;124m'\u001b[39m\u001b[38;5;124mgeom\u001b[39m\u001b[38;5;124m'\u001b[39m])[\u001b[38;5;124m'\u001b[39m\u001b[38;5;124mtype\u001b[39m\u001b[38;5;124m'\u001b[39m] \u001b[38;5;241m==\u001b[39m \u001b[38;5;124m'\u001b[39m\u001b[38;5;124mLineString\u001b[39m\u001b[38;5;124m'\u001b[39m:\n\u001b[1;32m     10\u001b[0m     \u001b[38;5;66;03m# if Edge['geom'].crosses(obstacle):\u001b[39;00m\n\u001b[1;32m     11\u001b[0m     \u001b[38;5;28;01mif\u001b[39;00m \u001b[38;5;129;01mnot\u001b[39;00m is_feasible_connection(Edge, obstacle, G\u001b[38;5;241m.\u001b[39mtolerances):\n\u001b[1;32m     12\u001b[0m         \u001b[38;5;66;03m# nx.G.graph.remove_edge()\u001b[39;00m\n\u001b[0;32m---> 13\u001b[0m         G \u001b[38;5;241m=\u001b[39m \u001b[43madd_gate\u001b[49m\u001b[43m(\u001b[49m\u001b[43mG\u001b[49m\u001b[43m,\u001b[49m\u001b[43m \u001b[49m\u001b[43mEdge\u001b[49m\u001b[43m[\u001b[49m\u001b[38;5;124;43m'\u001b[39;49m\u001b[38;5;124;43mgeom\u001b[39;49m\u001b[38;5;124;43m'\u001b[39;49m\u001b[43m]\u001b[49m\u001b[43m,\u001b[49m\u001b[43m \u001b[49m\u001b[43mobstacle\u001b[49m\u001b[43m,\u001b[49m\u001b[43m \u001b[49m\u001b[43mMap\u001b[49m\u001b[43m,\u001b[49m\u001b[43m \u001b[49m\u001b[43mgraphType\u001b[49m\u001b[43m)\u001b[49m\n\u001b[1;32m     15\u001b[0m \u001b[38;5;28;01melif\u001b[39;00m mapping(Edge[\u001b[38;5;124m'\u001b[39m\u001b[38;5;124mgeom\u001b[39m\u001b[38;5;124m'\u001b[39m])[\u001b[38;5;124m'\u001b[39m\u001b[38;5;124mtype\u001b[39m\u001b[38;5;124m'\u001b[39m] \u001b[38;5;241m==\u001b[39m \u001b[38;5;124m'\u001b[39m\u001b[38;5;124mMultiLineString\u001b[39m\u001b[38;5;124m'\u001b[39m:\n\u001b[1;32m     16\u001b[0m     \u001b[38;5;28;01mfor\u001b[39;00m segment \u001b[38;5;129;01min\u001b[39;00m \u001b[38;5;28mlist\u001b[39m(Edge[\u001b[38;5;124m'\u001b[39m\u001b[38;5;124mgeom\u001b[39m\u001b[38;5;124m'\u001b[39m]):\n\u001b[1;32m     17\u001b[0m         \u001b[38;5;66;03m# if segment.crosses(obstacle):\u001b[39;00m\n",
      "Cell \u001b[0;32mIn[214], line 3\u001b[0m, in \u001b[0;36madd_gate\u001b[0;34m(G, Edge, Obstacle, Map, Type)\u001b[0m\n\u001b[1;32m      1\u001b[0m \u001b[38;5;28;01mdef\u001b[39;00m \u001b[38;5;21madd_gate\u001b[39m(G, Edge, Obstacle, Map, Type):\n\u001b[1;32m      2\u001b[0m \u001b[38;5;250m    \u001b[39m\u001b[38;5;124;03m''' List of points intersecting the obstacle'''\u001b[39;00m\n\u001b[0;32m----> 3\u001b[0m     points \u001b[38;5;241m=\u001b[39m \u001b[38;5;28;43mlist\u001b[39;49m\u001b[43m(\u001b[49m\u001b[43mEdge\u001b[49m\u001b[38;5;241;43m.\u001b[39;49m\u001b[43mintersection\u001b[49m\u001b[43m(\u001b[49m\u001b[43mObstacle\u001b[49m\u001b[43m)\u001b[49m\u001b[38;5;241;43m.\u001b[39;49m\u001b[43mboundary\u001b[49m\u001b[43m)\u001b[49m\n\u001b[1;32m      4\u001b[0m \u001b[38;5;250m    \u001b[39m\u001b[38;5;124;03m''' Draw gates at midway of points'''\u001b[39;00m\n\u001b[1;32m      5\u001b[0m     avg_X, avg_Y \u001b[38;5;241m=\u001b[39m \u001b[38;5;241m0\u001b[39m, \u001b[38;5;241m0\u001b[39m\n",
      "\u001b[0;31mTypeError\u001b[0m: 'MultiPoint' object is not iterable"
     ]
    }
   ],
   "source": [
    "import time\n",
    "from copy import deepcopy\n",
    "\n",
    "short_path_list, short_path_length = get_shortest_path('s', 'e', G)\n",
    "\n",
    "if heading_restricted:\n",
    "    outAngle = headingAngles['startAngle']*np.pi/180\n",
    "    inAngle = headingAngles['goalAngle']*np.pi/180\n",
    "else:\n",
    "    outAngle, inAngle = 0, 0\n",
    "\n",
    "# Compute the Dubins upper bound of the shortest path\n",
    "delta = 0.001\n",
    "dubLB_free = DubinsL2L.Line2LineDubins(G.LineStart, (outAngle-delta, outAngle+delta), G.LineEnd, (inAngle-delta, inAngle+delta), G.rho)\n",
    "G.dubLB_free, minPath = dubLB_free.MinDub_L2L()\n",
    "\n",
    "# Print the Euclidean and Dubins upper bounds\n",
    "print(\"Euclidean Upper Bound (No Obstacles): \", short_path_length)\n",
    "print(\"Dubins Upper Bound (No Obstacles): \", G.dubLB_free)\n",
    "\n",
    "if not is_feasible_path(short_path_list, G, M.ObstacleList):\n",
    "    improve_bounds = True\n",
    "else:\n",
    "    improve_bounds = False\n",
    "\n",
    "print('### Solving Euclidean Lower Bound ###')\n",
    "loop = 0\n",
    "G.eucLB_time, eucBoundStartTime = 0, time.monotonic()\n",
    "improve_bounds = True\n",
    "\n",
    "while improve_bounds and (G.eucLB_time < 0.001*timeLimit):\n",
    "    path_exists = is_path_exists('s', 'e', G)\n",
    "    path_feasible = is_feasible_path(short_path_list, G, M.ObstacleList)\n",
    "    path_continuous = is_route_continuous(short_path_list, G)\n",
    "\n",
    "    if path_exists and path_continuous and path_feasible:\n",
    "        improve_bounds = False\n",
    "    else:\n",
    "        if not path_feasible:\n",
    "            G = ConstructGates(G, Map, short_path_list,graphType='Euclidean')\n",
    "            G = ConnectGates_Euclidean(G)\n",
    "            short_path_list, short_path_length = get_shortest_path('s', 'e', G)\n",
    "\n",
    "        if not path_continuous:\n",
    "            G = GraphUpdate_BreakGate(G, short_path_list)\n",
    "            G = UpdatePath_Euclidean(G)\n",
    "            short_path_list, short_path_length = get_shortest_path('s', 'e', G)\n",
    "\n",
    "    print('Path: ', short_path_list)\n",
    "    G.eucLB_time = time.monotonic()-eucBoundStartTime\n",
    "    loop += 1\n",
    "    plotTitle = \"Euclidean Lower Bound (length = \" + str(round(short_path_length, 3)) + \")\"\n",
    "    PlotGstar(short_path_list, G, Map, plotTitle, save_path=imgPath+'/step_'+str(loop)+'_euc', action='save')\n",
    "\n",
    "G.eucLowerPath, G.eucLowerBound = short_path_list, short_path_length\n",
    "G.eucGraph = deepcopy(G.graph)\n",
    "\n",
    "# print(nx.info(G.graph))\n",
    "print('Euclidean Lower Bound: ', G.eucLowerBound)\n",
    "print(\"Time (Euclindean Lower Bound): \", G.eucLB_time)\n",
    "plotTitle = \"Euclidean Lower Bound (length = \" + str(round(G.eucLowerBound, 3)) + \")\"\n",
    "PlotGstar(G.eucLowerPath, G, Map, plotTitle, save_path=imgPath+'/eucLB', action='display')"
   ]
  },
  {
   "cell_type": "code",
   "execution_count": 167,
   "id": "5a8c3c3e",
   "metadata": {},
   "outputs": [],
   "source": [
    "import dubins as du\n",
    "\n",
    "step_size = 0.1\n",
    "bound_resolution = 1"
   ]
  },
  {
   "cell_type": "code",
   "execution_count": 181,
   "id": "84fd98fb",
   "metadata": {},
   "outputs": [
    {
     "data": {
      "text/plain": [
       "1.5707963267948966"
      ]
     },
     "execution_count": 181,
     "metadata": {},
     "output_type": "execute_result"
    }
   ],
   "source": [
    "outAngle"
   ]
  },
  {
   "cell_type": "code",
   "execution_count": 182,
   "id": "864fc6c6",
   "metadata": {},
   "outputs": [
    {
     "data": {
      "text/plain": [
       "1.5707963267948966"
      ]
     },
     "execution_count": 182,
     "metadata": {},
     "output_type": "execute_result"
    }
   ],
   "source": [
    "inAngle"
   ]
  },
  {
   "cell_type": "code",
   "execution_count": 168,
   "id": "9028c0d7",
   "metadata": {},
   "outputs": [
    {
     "name": "stdout",
     "output_type": "stream",
     "text": [
      "### Solving Dubins Lower Bound ###\n"
     ]
    },
    {
     "data": {
      "image/png": "[encoded data removed]",
      "text/plain": [
       "<Figure size 640x480 with 1 Axes>"
      ]
     },
     "metadata": {},
     "output_type": "display_data"
    },
    {
     "name": "stdout",
     "output_type": "stream",
     "text": [
      "[8, 9]\n",
      "G* lower bound distance:  17.281851250221237\n"
     ]
    }
   ],
   "source": [
    "print('### Solving Dubins Lower Bound ###')\n",
    "times, Gstar_path_lengths = [], []\n",
    "dubBoundStartTime = time.monotonic()\n",
    "improve_bounds = True\n",
    "\n",
    "G = EuclideanToDubinsGraph(G, heading_restricted, startAngle=outAngle, goalAngle=inAngle)\n",
    "G = ConnectGates_Dubins(G)\n",
    "\n",
    "short_path_list, short_path_length = get_shortest_path('s', 'e', G)\n",
    "times.append(time.monotonic() - dubBoundStartTime)\n",
    "Gstar_path_lengths.append(short_path_length)\n",
    "loop += 1\n",
    "\n",
    "plotTitle = \"G* (length = \" + str(round(short_path_length, 3)) + \")\"\n",
    "PlotGstar(short_path_list, G, Map, plotTitle, save_path=imgPath +'/step_'+str(loop)+'_dub', action='display')\n",
    "\n",
    "print(short_path_list)\n",
    "print('G* lower bound distance: ', short_path_length)\n",
    "# PlotGstar(short_path_list, G.graph, self.Map, loop, title)\n",
    "G.dubLB_time = time.monotonic()-dubBoundStartTime"
   ]
  },
  {
   "cell_type": "code",
   "execution_count": 176,
   "id": "28a28b09",
   "metadata": {},
   "outputs": [
    {
     "name": "stdout",
     "output_type": "stream",
     "text": [
      "G* Bound Time:  0.24989665699831676\n",
      "G* Path:  [8, 9]\n",
      "G* lower bound distance:  17.281851250221237\n"
     ]
    }
   ],
   "source": [
    "'''### G* lower bounds ###'''\n",
    "'''### REPLACE EUCLIDEAN PATHS WITH DubLineToLine ###'''\n",
    "while improve_bounds and (G.dubLB_time < timeLimit):\n",
    "    path_exists = is_path_exists('s', 'e', G)\n",
    "    path_feasible = is_feasible_path(short_path_list, G, Map.ObstacleList)\n",
    "    path_continuous = is_route_continuous(short_path_list, G)\n",
    "    angle_matching = is_angle_matching(short_path_list, G)\n",
    "\n",
    "    if path_exists and path_continuous and path_feasible and angle_matching:\n",
    "        improve_bounds = False\n",
    "        # break\n",
    "    else:\n",
    "        if not path_feasible:\n",
    "            logging.info('loop {}', loop)\n",
    "            logging.info('Constructing New Gates...')\n",
    "            G = ConstructGates(G, Map, short_path_list, graphType='Dubins')\n",
    "            G = ConnectGates_Dubins(G)\n",
    "            short_path_list, short_path_length = get_shortest_path('s', 'e', G)\n",
    "            # PlotGstar(short_path_list, G, Map, title, save_path='./images', action='save')\n",
    "\n",
    "        if not path_continuous:\n",
    "            logging.info('Breaking Gates...')\n",
    "            G = GraphUpdate_BreakGate(G, short_path_list)\n",
    "            # G = ConnectGates_Dubins(G)\n",
    "            G = UpdatePath_Dubins(G)\n",
    "            short_path_list, short_path_length = get_shortest_path('s', 'e', G)\n",
    "            # PlotGstar(short_path_list, G, Map, title, save_path='./images', action='display')\n",
    "\n",
    "        if not angle_matching:\n",
    "            logging.info('Optimizing Angle...')\n",
    "            G = GraphUpdate_BreakAngle(G, short_path_list)\n",
    "            ## G = ConnectGates_Dubins(G)\n",
    "            G = UpdatePath_Dubins(G)\n",
    "            short_path_list, short_path_length = get_shortest_path('s', 'e', G)\n",
    "            # PlotGstar(short_path_list, G, Map, title, save_path='./images', action='display')\n",
    "\n",
    "        G.dubLB_time = time.monotonic()-dubBoundStartTime\n",
    "        times.append(G.dubLB_time)\n",
    "        Gstar_path_lengths.append(short_path_length)\n",
    "        loop += 1\n",
    "        plotTitle = \"G* (length = \" + str(round(short_path_length, 3)) + \")\"\n",
    "        PlotGstar(short_path_list, G, Map, plotTitle, save_path=imgPath+'/step_'+str(loop)+'_dub', action='display')\n",
    "\n",
    "\n",
    "# short_path_list, short_path_length = get_shortest_path('s', 'e', G)\n",
    "G.dubLowerPath, G.dubLowerBound = short_path_list, short_path_length\n",
    "print(\"G* Bound Time: \", G.dubLB_time)\n",
    "print(\"G* Path: \", G.dubLowerPath)\n",
    "print('G* lower bound distance: ', G.dubLowerBound)\n",
    "plotTitle = \"G* (length = \" + str(round(G.dubLowerBound, 3)) + \")\""
   ]
  },
  {
   "cell_type": "code",
   "execution_count": 180,
   "id": "231fe8a5",
   "metadata": {},
   "outputs": [
    {
     "data": {
      "text/plain": [
       "[8, 9]"
      ]
     },
     "execution_count": 180,
     "metadata": {},
     "output_type": "execute_result"
    }
   ],
   "source": [
    "short_path_list"
   ]
  },
  {
   "cell_type": "code",
   "execution_count": 153,
   "id": "c5721ebe",
   "metadata": {},
   "outputs": [
    {
     "data": {
      "text/plain": [
       "True"
      ]
     },
     "execution_count": 153,
     "metadata": {},
     "output_type": "execute_result"
    }
   ],
   "source": [
    "is_feasible_path(short_path_list, G, M.ObstacleList)"
   ]
  },
  {
   "cell_type": "code",
   "execution_count": null,
   "id": "d536051c",
   "metadata": {},
   "outputs": [],
   "source": []
  },
  {
   "cell_type": "code",
   "execution_count": null,
   "id": "7118fd84",
   "metadata": {},
   "outputs": [],
   "source": []
  },
  {
   "cell_type": "code",
   "execution_count": 122,
   "id": "24028cca",
   "metadata": {},
   "outputs": [],
   "source": [
    "if not is_feasible_path(short_path_list, G, M.ObstacleList):\n",
    "    improve_bounds = True\n",
    "else:\n",
    "    improve_bounds = False"
   ]
  },
  {
   "cell_type": "code",
   "execution_count": 123,
   "id": "9cf2033a",
   "metadata": {},
   "outputs": [
    {
     "data": {
      "text/plain": [
       "False"
      ]
     },
     "execution_count": 123,
     "metadata": {},
     "output_type": "execute_result"
    }
   ],
   "source": [
    "improve_bounds"
   ]
  },
  {
   "cell_type": "code",
   "execution_count": null,
   "id": "8560451e",
   "metadata": {},
   "outputs": [],
   "source": []
  }
 ],
 "metadata": {
  "kernelspec": {
   "display_name": "Python 3.8 (myenv)",
   "language": "python",
   "name": "myenv"
  },
  "language_info": {
   "codemirror_mode": {
    "name": "ipython",
    "version": 3
   },
   "file_extension": ".py",
   "mimetype": "text/x-python",
   "name": "python",
   "nbconvert_exporter": "python",
   "pygments_lexer": "ipython3",
   "version": "3.8.18"
  }
 },
 "nbformat": 4,
 "nbformat_minor": 5
}
