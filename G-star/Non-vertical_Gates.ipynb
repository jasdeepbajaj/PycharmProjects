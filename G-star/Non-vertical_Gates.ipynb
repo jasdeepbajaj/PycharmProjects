{
 "cells": [
  {
   "cell_type": "code",
   "execution_count": 1,
   "id": "8dab0104",
   "metadata": {},
   "outputs": [],
   "source": [
    "from dataclasses import dataclass"
   ]
  },
  {
   "cell_type": "code",
   "execution_count": 2,
   "id": "07360e21",
   "metadata": {},
   "outputs": [],
   "source": [
    "@dataclass\n",
    "class Gate:\n",
    "    obstacle_gates: list\n",
    "    boundary_gates: list\n",
    "    start_end_gates: list\n",
    "        "
   ]
  },
  {
   "cell_type": "code",
   "execution_count": null,
   "id": "bc9190b8",
   "metadata": {},
   "outputs": [],
   "source": []
  },
  {
   "cell_type": "code",
   "execution_count": 3,
   "id": "3e435ef1",
   "metadata": {},
   "outputs": [],
   "source": [
    "from shapely.geometry import Polygon, LineString\n",
    "import numpy as np\n",
    "from scipy.spatial import Delaunay\n",
    "import matplotlib.pyplot as plt\n",
    "from collections import defaultdict\n",
    "import random"
   ]
  },
  {
   "cell_type": "code",
   "execution_count": 4,
   "id": "cfefa537",
   "metadata": {},
   "outputs": [],
   "source": [
    "def slope(line: LineString) -> float:\n",
    "    \"\"\"\n",
    "    Calculate the slope of a LineString.\n",
    "\n",
    "    This function takes a LineString object as input and calculates the slope\n",
    "    of the line defined by its coordinates. The slope is calculated as the\n",
    "    change in y-coordinates divided by the change in x-coordinates between the\n",
    "    first and second points of the line.\n",
    "\n",
    "    Args:\n",
    "        line (LineString): A LineString object representing the line for which\n",
    "            to calculate the slope.\n",
    "\n",
    "    Returns:\n",
    "        float: The calculated slope of the line, rounded to three decimal places.\n",
    "\n",
    "    Raises:\n",
    "        ZeroDivisionError: If the change in x-coordinates (denominator) is zero,\n",
    "            indicating a vertical line with undefined slope.\n",
    "\n",
    "    Example:\n",
    "        >>> line = LineString([(0, 0), (2, 4)])\n",
    "        >>> slope_value = slope(line)\n",
    "        >>> print(slope_value)\n",
    "        2.0\n",
    "    \"\"\"\n",
    "    # Extract coordinates of the first and second points\n",
    "    x1, y1 = line.coords[0]\n",
    "    x2, y2 = line.coords[1]\n",
    "\n",
    "    # Calculate the change in x-coordinates\n",
    "    dx = x2 - x1\n",
    "\n",
    "    # Check for vertical line (undefined slope)\n",
    "    if dx == 0:\n",
    "        raise ZeroDivisionError(\"The line is vertical, and its slope is undefined.\")\n",
    "\n",
    "    # Calculate the slope\n",
    "    slope = (y2 - y1) / dx\n",
    "    \n",
    "    # Round the slope to three decimal places\n",
    "    slope = round(slope, 3)\n",
    "    \n",
    "    return slope\n"
   ]
  },
  {
   "cell_type": "code",
   "execution_count": 5,
   "id": "c73657b9",
   "metadata": {},
   "outputs": [],
   "source": [
    "import numpy as np\n",
    "from shapely.geometry import LineString\n",
    "from collections import defaultdict\n",
    "\n",
    "def line_eqs_delaunay(points: np.array, simplices) -> list:\n",
    "    \"\"\"\n",
    "    Generate a list of unique LineString equations for the given Delaunay triangulation.\n",
    "\n",
    "    Given an array of points and their Delaunay triangulation simplices, this function\n",
    "    generates a list of LineString equations representing the unique lines formed by\n",
    "    the vertices of the simplices.\n",
    "\n",
    "    Args:\n",
    "        points (np.array): An array of 2D points.\n",
    "        simplices: The simplices of the Delaunay triangulation.\n",
    "\n",
    "    Returns:\n",
    "        list: A list of LineString objects representing unique lines formed by the\n",
    "        vertices of the Delaunay triangulation.\n",
    "\n",
    "    Example:\n",
    "        >>> points = np.array([[0, 0], [1, 2], [3, 1]])\n",
    "        >>> simplices = [(0, 1, 2)]\n",
    "        >>> lines = line_eqs_delaunay(points, simplices)\n",
    "        >>> print(lines)\n",
    "        [LINESTRING (0 0, 1 2), LINESTRING (1 2, 3 1), LINESTRING (3 1, 0 0)]\n",
    "    \"\"\"\n",
    "    lines = []\n",
    "\n",
    "    # Generate LineString objects for each simplex\n",
    "    for simplex in simplices:\n",
    "        vertices = points[simplex]\n",
    "        for i in range(3):\n",
    "            for j in range(i + 1, 3):\n",
    "                lines.append(LineString([tuple(vertices[i]), tuple(vertices[j])]))\n",
    "\n",
    "    # Create a dictionary to group lines by slope\n",
    "    line_dict = defaultdict(list)\n",
    "\n",
    "    # Calculate slope for each line and group them\n",
    "    for line in lines:\n",
    "        slp = slope(line)\n",
    "        line_dict[slp].append(line)\n",
    "\n",
    "    filtered_lines = []\n",
    "\n",
    "    # Choose one representative line for each slope\n",
    "    for slp, line_list in line_dict.items():\n",
    "        filtered_lines.append(line_list[0])\n",
    "\n",
    "    return filtered_lines"
   ]
  },
  {
   "cell_type": "code",
   "execution_count": 6,
   "id": "69a10f96",
   "metadata": {},
   "outputs": [],
   "source": [
    "from shapely.geometry import LineString\n",
    "\n",
    "def line_eqs_inside_poly(lines, obstacle_list):\n",
    "    \"\"\"\n",
    "    Finds intersections between a list of lines and a list of obstacles, \n",
    "    and returns the coordinates of the points where the lines intersect \n",
    "    with the obstacles.\n",
    "    \n",
    "    Args:\n",
    "        lines (list): A list of lines represented as pairs of coordinates.\n",
    "        obstacle_list (list): A list of obstacle polygons represented as \n",
    "                             Shapely geometry objects.\n",
    "                             \n",
    "    Returns:\n",
    "        list: A list of lists containing coordinates of points where lines \n",
    "              intersect with obstacles.\n",
    "    \"\"\"\n",
    "    \n",
    "    line_eqs_in_poly = []  # Store intersections between lines and obstacles.\n",
    "\n",
    "    for line in lines:\n",
    "        for obstacle in obstacle_list:\n",
    "            if obstacle.intersects(LineString(line)):\n",
    "                # Append the intersection point to the list of intersections.\n",
    "                line_eqs_in_poly.append(obstacle.intersection(LineString(line)))\n",
    "                \n",
    "    # Convert intersection points to lists of coordinates.\n",
    "    line_inside_poly = [[list(coord) for coord in line.coords] for line in line_eqs_in_poly]\n",
    "\n",
    "    return line_inside_poly\n"
   ]
  },
  {
   "cell_type": "code",
   "execution_count": 7,
   "id": "d1bb5912",
   "metadata": {},
   "outputs": [],
   "source": [
    "from shapely.geometry import LineString\n",
    "\n",
    "def LongSeg_SmallSeg(lines, line_inside_poly):\n",
    "    \"\"\"\n",
    "    Finds and associates small line segments with corresponding long line segments\n",
    "    based on matching slopes and returns a dictionary containing the associations.\n",
    "\n",
    "    Args:\n",
    "        lines (list): A list of long line segments represented as pairs of coordinates.\n",
    "        line_inside_poly (list): A list of lists containing coordinates of points where\n",
    "                                 lines intersect with obstacles.\n",
    "\n",
    "    Returns:\n",
    "        dict: A dictionary where keys are long line segments (LineString objects) and \n",
    "              values are lists of coordinates representing associated small line segment points.\n",
    "    \"\"\"\n",
    "\n",
    "    diction_lines = {LineString(long_line_segs): [] for long_line_segs in lines}\n",
    "\n",
    "    for long_line_segs in lines:\n",
    "        for small_line_segs in line_inside_poly:\n",
    "            if slope(LineString(long_line_segs)) == slope(LineString(small_line_segs)):\n",
    "                for i in range(2):\n",
    "                    key = LineString(long_line_segs)\n",
    "                    if key in diction_lines:\n",
    "                        if small_line_segs[i] not in diction_lines[key]:\n",
    "                            diction_lines[key].append(small_line_segs[i])\n",
    "\n",
    "    #filtered_diction_lines = {key: value for key, value in diction_lines.items() if len(value) == 2}\n",
    "\n",
    "    return diction_lines\n"
   ]
  },
  {
   "cell_type": "code",
   "execution_count": 11,
   "id": "cda2e853",
   "metadata": {},
   "outputs": [],
   "source": [
    "from shapely.geometry import LineString\n",
    "\n",
    "def gates_for_GStar(M: ObstacleMap, diction_lines):\n",
    "    \"\"\"\n",
    "    Generates gate LineString objects for a graph G* based on the given dictionary\n",
    "    of associated small line segment points with long line segments.\n",
    "\n",
    "    Args:\n",
    "        diction_lines (dict): A dictionary where keys are long line segments (LineString objects) \n",
    "                             and values are lists of coordinates representing associated small line segment points.\n",
    "\n",
    "    Returns:\n",
    "        list: A list of gate LineString objects for the graph G*.\n",
    "    \"\"\"\n",
    "    \n",
    "    # Iterate through each key-value pair in the dictionary.\n",
    "    for key, value in diction_lines.items():\n",
    "        # Iterate through the two endpoints of the long line segment.\n",
    "        for i in range(2):\n",
    "            # Check if the endpoint is in the list of associated small line segment points.\n",
    "            if list(key.coords[i]) in value:\n",
    "                # Remove the endpoint from the list to avoid duplicate gates.\n",
    "                diction_lines[key].remove(list(key.coords[i]))\n",
    "\n",
    "    gates1 = []  # Store the LineString gate objects.\n",
    "\n",
    "    # Create LineString objects for the remaining points and add them to the gates list.\n",
    "    for values in diction_lines.values():\n",
    "        if len(values) != 0:\n",
    "            gates1.append(LineString(values))\n",
    "    \n",
    "    # Filter out gates that have more than two coordinates.\n",
    "    obstacle_gates = [gate for gate in gates1 if len(gate.coords) == 2]\n",
    "    \n",
    "    boundary_gates = []\n",
    "    \n",
    "    for point in M.convex_hull_vertices:\n",
    "#         print(point)\n",
    "#         print(type(point))\n",
    "        if point[1] >= (0.5 * M.ymax):\n",
    "            gate = LineString([point, (point[0], M.ymax)])\n",
    "            \n",
    "            \n",
    "        else:\n",
    "            gate = LineString([point, (point[0], M.ymin)])\n",
    "        \n",
    "       \n",
    "        boundary_gates.append(gate)\n",
    "        \n",
    "    \n",
    "    filtered_boundary_gates = []\n",
    "\n",
    "    for gate in boundary_gates:\n",
    "        count = 0\n",
    "        for obstacle in M.ObstacleList:\n",
    "            if gate.intersects(obstacle):\n",
    "                count += 1\n",
    "\n",
    "        if count == 1:\n",
    "            filtered_boundary_gates.append(gate)\n",
    "    \n",
    "    updates_boundary_gates = []\n",
    "    \n",
    "    for gate in filtered_boundary_gates:\n",
    "        for obs in M.ObstacleList:\n",
    "            if gate.intersects(obs):\n",
    "                new_gate = gate - obs\n",
    "                updates_boundary_gates.append(new_gate)\n",
    "                \n",
    "            else:\n",
    "                continue\n",
    "    \n",
    "    start_end_gates = []\n",
    "    \n",
    "    start_gate = LineString([(M.StartCoords.coords[0][0], M.StartCoords.coords[0][1] - 0.1), (M.StartCoords.coords[0][0], M.StartCoords.coords[0][1] + 0.1)])\n",
    "    end_gate = LineString([(M.EndCoords.coords[0][0], M.EndCoords.coords[0][1] - 0.1), (M.EndCoords.coords[0][0], M.EndCoords.coords[0][1] + 0.1)])\n",
    "            \n",
    "    start_end_gates.append(start_gate)\n",
    "    start_end_gates.append(end_gate)\n",
    "        \n",
    "    \n",
    "    \n",
    "    \n",
    "    \n",
    "    gates = Gate(obstacle_gates = obstacle_gates, boundary_gates = updates_boundary_gates, start_end_gates = start_end_gates)\n",
    "    \n",
    "    return gates\n"
   ]
  },
  {
   "cell_type": "code",
   "execution_count": 18,
   "id": "bc17c68d",
   "metadata": {},
   "outputs": [
    {
     "ename": "TypeError",
     "evalue": "'Gate' object is not iterable",
     "output_type": "error",
     "traceback": [
      "\u001b[0;31m---------------------------------------------------------------------------\u001b[0m",
      "\u001b[0;31mTypeError\u001b[0m                                 Traceback (most recent call last)",
      "Cell \u001b[0;32mIn[18], line 58\u001b[0m\n\u001b[1;32m     52\u001b[0m     ax\u001b[38;5;241m.\u001b[39mfill(x, y, color \u001b[38;5;241m=\u001b[39m \u001b[38;5;124m'\u001b[39m\u001b[38;5;124mpink\u001b[39m\u001b[38;5;124m'\u001b[39m)\n\u001b[1;32m     55\u001b[0m \u001b[38;5;66;03m# plt.triplot(points[:,0], points[:,1], tri.simplices.copy(), 'k--')\u001b[39;00m\n\u001b[1;32m     56\u001b[0m \u001b[38;5;66;03m# plt.plot(points[:,0], points[:,1], 'o')\u001b[39;00m\n\u001b[0;32m---> 58\u001b[0m \u001b[38;5;28;01mfor\u001b[39;00m gate \u001b[38;5;129;01min\u001b[39;00m gates:\n\u001b[1;32m     59\u001b[0m     x, y \u001b[38;5;241m=\u001b[39m gate\u001b[38;5;241m.\u001b[39mxy\n\u001b[1;32m     60\u001b[0m     plt\u001b[38;5;241m.\u001b[39mplot(x, y, \u001b[38;5;124m'\u001b[39m\u001b[38;5;124mc-\u001b[39m\u001b[38;5;124m'\u001b[39m, linewidth\u001b[38;5;241m=\u001b[39m\u001b[38;5;241m2\u001b[39m)\n",
      "\u001b[0;31mTypeError\u001b[0m: 'Gate' object is not iterable"
     ]
    },
    {
     "data": {
      "image/png": "[encoded data removed]",
      "text/plain": [
       "<Figure size 640x480 with 1 Axes>"
      ]
     },
     "metadata": {},
     "output_type": "display_data"
    }
   ],
   "source": [
    "# Create a polygon with 3 sides (equilateral triangle)\n",
    "triangle = Polygon([(0, 0), (3, 0), (1.5, 2.598)])\n",
    "\n",
    "# Create a polygon with 4 sides (square)\n",
    "square = Polygon([(8, 0), (12, 0), (12, 4), (8, 4)])\n",
    "\n",
    "# Create a polygon with 5 sides (regular pentagon)\n",
    "pentagon = Polygon([(0, 8), (5, 8), (7.071, 10.071), (5, 12.142), (0, 12.142)])\n",
    "\n",
    "triangle_new = Polygon([(12.5,0),(15, 0), (13, 4)])\n",
    "\n",
    "triangle_onemore = Polygon([(8,12),(6, 16), (10, 16)])\n",
    "\n",
    "rectangle = Polygon([(4, 4), (6, 4), (6, 5), (4, 5)])\n",
    "\n",
    "pentagon_new = Polygon([(10, 5), (8, 7.5), (9, 10), (10, 9), (11, 8)])\n",
    "\n",
    "obstacle_list = [triangle, square, pentagon, triangle_new, triangle_onemore, rectangle, pentagon_new]\n",
    "\n",
    "centroid_list = []\n",
    "\n",
    "for obstacle in obstacle_list:\n",
    "    centroid_list.append(list(obstacle.centroid.coords))\n",
    "\n",
    "\n",
    "points = np.array(centroid_list)\n",
    "points = points.reshape(-1,2)\n",
    "\n",
    "tri = Delaunay(points)\n",
    "simplices = tri.simplices\n",
    "\n",
    "lines = line_eqs_delaunay(points, simplices)\n",
    "\n",
    "line_inside_poly = line_eqs_inside_poly(lines, obstacle_list)\n",
    "\n",
    "\n",
    "diction_lines = LongSeg_SmallSeg(lines, line_inside_poly)\n",
    "\n",
    "#filtered_lines = filtered_diction_lines(diction_lines)\n",
    "\n",
    "gates = gates_for_GStar(M, diction_lines)\n",
    "\n",
    "\n",
    "\n",
    "# Create a figure and axis\n",
    "fig, ax = plt.subplots()\n",
    "\n",
    "\n",
    "\n",
    "for obstacle in obstacle_list:\n",
    "    x,y = obstacle.exterior.xy\n",
    "    ax.fill(x, y, color = 'pink')\n",
    "\n",
    "\n",
    "# plt.triplot(points[:,0], points[:,1], tri.simplices.copy(), 'k--')\n",
    "# plt.plot(points[:,0], points[:,1], 'o')\n",
    "\n",
    "for gate in gates:\n",
    "    x, y = gate.xy\n",
    "    plt.plot(x, y, 'c-', linewidth=2)\n",
    "\n",
    "# Set axis limits\n",
    "ax.set_xlim(-1, 18)\n",
    "ax.set_ylim(-1, 18)\n",
    "\n",
    "# Add labels and title\n",
    "plt.xlabel('X')\n",
    "plt.ylabel('Y')\n",
    "plt.title('Non-vertical gates representation')\n",
    "\n",
    "# Show the plot\n",
    "plt.show()\n",
    "\n",
    "\n"
   ]
  },
  {
   "cell_type": "code",
   "execution_count": null,
   "id": "edf735d3",
   "metadata": {},
   "outputs": [],
   "source": []
  },
  {
   "cell_type": "code",
   "execution_count": null,
   "id": "57dc1b58",
   "metadata": {},
   "outputs": [],
   "source": []
  },
  {
   "cell_type": "code",
   "execution_count": 19,
   "id": "0ef940cb",
   "metadata": {},
   "outputs": [],
   "source": [
    "import random\n",
    "import numpy as np\n",
    "import matplotlib.pyplot as plt\n",
    "from shapely.geometry import Polygon, Point, LineString\n",
    "from scipy.spatial import ConvexHull\n",
    "\n",
    "class ObstacleMap:\n",
    "    \n",
    "    def __init__(self, StartConf: tuple, EndConf: tuple, MapBounds: tuple, ObstaclesNum: int, Shape: int):\n",
    "        \"\"\"\n",
    "        Initialize an obstacle map with given parameters.\n",
    "\n",
    "        Args:\n",
    "            StartConf (tuple): Start configuration coordinates.\n",
    "            EndConf (tuple): End configuration coordinates.\n",
    "            MapBounds (tuple): Map boundary dimensions (x_max, y_max).\n",
    "            ObstaclesNum (int): Number of obstacles to generate.\n",
    "            Shape (int): Number of sides in polygon obstacles (minimum 3).\n",
    "\n",
    "        Raises:\n",
    "            Exception: If Shape is less than 3.\n",
    "        \"\"\"\n",
    "        \n",
    "        self.xmin, self.xmax = 0, MapBounds[0]\n",
    "        self.ymin, self.ymax = 0, MapBounds[1]\n",
    "        \n",
    "        self.StartCoords = Point(StartConf[0], StartConf[1])\n",
    "        self.EndCoords = Point(EndConf[0], EndConf[1])\n",
    "        \n",
    "        if Shape < 3:\n",
    "            raise Exception(\"Min Num of sides in a Polygon is 3\")\n",
    "        else:\n",
    "            self.ObstacleList, self.CentroidList = self.generate_polygon_obstacles(MapBounds, ObstaclesNum, Shape)\n",
    "            self.convex_hull_vertices = self.__get_largest_polygon_coordinates()\n",
    "    \n",
    "    def __get_angles(self, num_of_sides: int) -> list:\n",
    "        \"\"\"\n",
    "        Generate a list of angles for the vertices of a polygon.\n",
    "\n",
    "        Args:\n",
    "            num_of_sides (int): Number of sides in the polygon.\n",
    "\n",
    "        Returns:\n",
    "            list: List of angles in radians.\n",
    "        \"\"\"\n",
    "        random_numbers = [random.uniform(0, 1) for _ in range(num_of_sides)]\n",
    "        normalized_numbers = [num / sum(random_numbers) for num in random_numbers]\n",
    "        angles = np.cumsum([2*np.pi * x for x in normalized_numbers])\n",
    "        angles_list = list(angles)\n",
    "        return angles_list\n",
    "    \n",
    "    def __get_vertices(self, center: np.array, radius: float, angles_list: list):\n",
    "        \"\"\"\n",
    "        Calculate vertices of a polygon based on center, radius, and angles.\n",
    "\n",
    "        Args:\n",
    "            center (np.array): Center coordinates of the polygon.\n",
    "            radius (float): Radius of the polygon.\n",
    "            angles_list (list): List of angles in radians.\n",
    "\n",
    "        Returns:\n",
    "            np.array: Array of vertices for the polygon.\n",
    "        \"\"\"\n",
    "        vertices = np.array([center + np.array([radius*np.cos(angle), radius*np.sin(angle)]) for angle in angles_list])\n",
    "        return vertices\n",
    "    \n",
    "    def __get_largest_polygon_coordinates(self):\n",
    "        \n",
    "        points = np.array(self.CentroidList)\n",
    "        points = points.reshape(-1,2)\n",
    "        \n",
    "        unique_coords = np.unique(points, axis=0)\n",
    "        hull = ConvexHull(unique_coords)\n",
    "        convex_hull_vertices = hull.points[hull.vertices]\n",
    "        \n",
    "        return convex_hull_vertices\n",
    "\n",
    "    \n",
    "    def generate_polygon_obstacles(self, MapBounds: tuple, ObstaclesNum: int, Shape: int):\n",
    "        \"\"\"\n",
    "        Generate a list of polygon obstacles.\n",
    "\n",
    "        Args:\n",
    "            MapBounds (tuple): Map boundary dimensions (x_max, y_max).\n",
    "            ObstaclesNum (int): Number of obstacles to generate.\n",
    "            Shape (int): Number of sides in polygon obstacles.\n",
    "\n",
    "        Returns:\n",
    "            list: List of Shapely Polygon obstacles.\n",
    "        \"\"\"\n",
    "        xmin, xmax = 0, MapBounds[0]\n",
    "        ymin, ymax = 0, MapBounds[1]\n",
    "        \n",
    "        Boundary1 = LineString([(xmin, ymin), (xmax, ymin)])\n",
    "        Boundary2 = LineString([(xmax, ymin), (xmax, ymax)])\n",
    "        Boundary3 = LineString([(xmax, ymax), (xmin, ymax)])\n",
    "        Boundary4 = LineString([(xmin, ymin), (xmin, ymax)])\n",
    "        \n",
    "        map_boundaries = [Boundary1, Boundary2, Boundary3, Boundary4]\n",
    "        \n",
    "        min_distance = 0.5\n",
    "        ObstacleList = []\n",
    "        CentroidList = []\n",
    "        count = 0\n",
    "        while count < ObstaclesNum:\n",
    "            radius = random.uniform(0.07, 0.08) * xmax\n",
    "            center = np.array([np.random.rand() * xmax, np.random.rand() * ymax])\n",
    "            \n",
    "            \n",
    "            if Shape == 3:\n",
    "                pshape = 3\n",
    "            else:\n",
    "                pshape = np.random.randint(low=3, high=Shape)\n",
    "            \n",
    "            angles_list = self.__get_angles(pshape)\n",
    "            vertices = self.__get_vertices(center, radius, angles_list)\n",
    "            polygon = Polygon(vertices)\n",
    "            x, y = polygon.exterior.xy\n",
    "            \n",
    "            intersects_obstacle = False\n",
    "            for existing_obstacle in ObstacleList:\n",
    "                if polygon.intersects(existing_obstacle) or polygon.distance(existing_obstacle) < min_distance or \\\n",
    "                polygon.intersects(self.StartCoords) or polygon.intersects(self.EndCoords):\n",
    "                    intersects_obstacle = True\n",
    "                    break\n",
    "                    \n",
    "            intersects_boundaries = False\n",
    "            for boundary in map_boundaries:\n",
    "                if polygon.intersects(boundary):\n",
    "                    intersects_boundaries = True\n",
    "                    break\n",
    "                    \n",
    "                    \n",
    "            centroid_outside = False\n",
    "            x_centroid = polygon.centroid.coords[0][0]\n",
    "            y_centroid = polygon.centroid.coords[0][1]\n",
    "            \n",
    "            if x_centroid > xmax and x_centroid < xmin and y_centroid > ymax and y_centroid < ymin:\n",
    "                centroid_outside = True\n",
    "                \n",
    "                \n",
    "            vertices_within_range = True\n",
    "            for i in range(len(list(polygon.exterior.coords))):\n",
    "                x_vertex = polygon.exterior.coords[i][0]\n",
    "                y_vertex = polygon.exterior.coords[i][1]\n",
    "                \n",
    "                if (self.StartCoords.x + 1) <= x_vertex <= (self.EndCoords.x - 1) and (ymin + 1) <= y_vertex <= (ymax - 1):\n",
    "                    continue\n",
    "                    \n",
    "                else:\n",
    "                    vertices_within_range = False\n",
    "                    \n",
    "            \n",
    "            \n",
    "            \n",
    "            \n",
    "            if not intersects_obstacle and not intersects_boundaries and not centroid_outside and vertices_within_range:\n",
    "                ObstacleList.append(polygon)\n",
    "                \n",
    "                CentroidList.append(list(polygon.centroid.coords))\n",
    "                count += 1\n",
    "                \n",
    "                \n",
    "        \n",
    "                \n",
    "                \n",
    "                \n",
    "        \n",
    "        return ObstacleList, CentroidList\n",
    "    \n",
    "    def generate_plot(self):\n",
    "        \"\"\"\n",
    "        Generate a plot to visualize the obstacle map.\n",
    "        \"\"\"\n",
    "        plt.axis('equal')\n",
    "        for obstacle in self.ObstacleList:\n",
    "            x, y = obstacle.exterior.xy\n",
    "            plt.fill(x, y, c=\"blue\")\n",
    "            \n",
    "        plt.scatter(self.convex_hull_vertices[:,0], self.convex_hull_vertices[:,1])\n",
    "        \n",
    "        plt.plot([self.xmin, self.xmax, self.xmax, self.xmin, self.xmin], [self.ymin, self.ymin, self.ymax, self.ymax, self.ymin], color='black')\n",
    "            \n",
    "        plt.plot(self.StartCoords.x, self.StartCoords.y, \"X\", color =\"black\")\n",
    "        plt.plot(self.EndCoords.x, self.EndCoords.y, \"X\", color = \"black\")\n",
    "        \n",
    "#         plt.figure(figsize=(140,14))\n",
    "#         plt.figure().set_figwidth(15)\n",
    "        plt.show()\n"
   ]
  },
  {
   "cell_type": "code",
   "execution_count": null,
   "id": "08eacc13",
   "metadata": {},
   "outputs": [],
   "source": []
  },
  {
   "cell_type": "code",
   "execution_count": null,
   "id": "372b8acd",
   "metadata": {},
   "outputs": [],
   "source": []
  },
  {
   "cell_type": "code",
   "execution_count": null,
   "id": "6d44d3c8",
   "metadata": {},
   "outputs": [],
   "source": []
  },
  {
   "cell_type": "code",
   "execution_count": 20,
   "id": "ced7446e",
   "metadata": {},
   "outputs": [],
   "source": [
    "StartConf = (0.5, 5, 5.78)\n",
    "EndConf = (9.5, 5, 2.79)\n",
    "MapBounds=(10.0, 10.0)\n",
    "ObstaclesNum= 15\n",
    "Shape=6"
   ]
  },
  {
   "cell_type": "code",
   "execution_count": null,
   "id": "f4b54899",
   "metadata": {},
   "outputs": [],
   "source": []
  },
  {
   "cell_type": "code",
   "execution_count": 21,
   "id": "8e353ac2",
   "metadata": {},
   "outputs": [],
   "source": [
    "M = ObstacleMap(StartConf, EndConf, MapBounds, ObstaclesNum, Shape)"
   ]
  },
  {
   "cell_type": "code",
   "execution_count": 22,
   "id": "5e4b6dbe",
   "metadata": {},
   "outputs": [
    {
     "data": {
      "text/plain": [
       "array([[7.53240037, 1.44383034],\n",
       "       [7.88507702, 3.92058963],\n",
       "       [7.54923003, 7.41086981],\n",
       "       [5.41659524, 8.07345317],\n",
       "       [2.41852431, 7.72436979],\n",
       "       [2.24207321, 5.71465365],\n",
       "       [2.20529232, 4.41366602],\n",
       "       [2.21797105, 3.16512763],\n",
       "       [2.93919295, 2.05178927]])"
      ]
     },
     "execution_count": 22,
     "metadata": {},
     "output_type": "execute_result"
    }
   ],
   "source": [
    "M.convex_hull_vertices"
   ]
  },
  {
   "cell_type": "code",
   "execution_count": 23,
   "id": "d0a12d82",
   "metadata": {},
   "outputs": [
    {
     "data": {
      "image/png": "[encoded data removed]",
      "text/plain": [
       "<Figure size 640x480 with 1 Axes>"
      ]
     },
     "metadata": {},
     "output_type": "display_data"
    }
   ],
   "source": [
    "M.generate_plot()"
   ]
  },
  {
   "cell_type": "code",
   "execution_count": 24,
   "id": "285efb17",
   "metadata": {},
   "outputs": [
    {
     "data": {
      "text/plain": [
       "[[(6.0022789194568595, 4.276836623512884)],\n",
       " [(2.418524308868696, 7.724369794903194)],\n",
       " [(2.205292317093742, 4.413666021431602)],\n",
       " [(6.642578547388863, 2.274133249580143)],\n",
       " [(2.939192948995665, 2.051789265749244)],\n",
       " [(4.8528961475200685, 2.6326204692661554)],\n",
       " [(5.416595244471528, 8.073453172157883)],\n",
       " [(7.453009068615086, 5.391656044356907)],\n",
       " [(7.549230028905151, 7.410869813838976)],\n",
       " [(4.338466225695975, 6.104164063978037)],\n",
       " [(3.7143800807116905, 4.51755370295099)],\n",
       " [(2.2420732083990615, 5.714653653675728)],\n",
       " [(7.532400372933727, 1.4438303410726963)],\n",
       " [(7.88507702048176, 3.9205896251776338)],\n",
       " [(2.217971052768492, 3.165127628276015)]]"
      ]
     },
     "execution_count": 24,
     "metadata": {},
     "output_type": "execute_result"
    }
   ],
   "source": [
    "M.CentroidList"
   ]
  },
  {
   "cell_type": "code",
   "execution_count": 25,
   "id": "85abb7f1",
   "metadata": {},
   "outputs": [
    {
     "data": {
      "text/plain": [
       "[(3.3050553694360225, 5.168925288198136),\n",
       " (3.4364190978340603, 3.8462642399969833),\n",
       " (4.40166577486499, 4.537471580657851),\n",
       " (3.3050553694360225, 5.168925288198136)]"
      ]
     },
     "execution_count": 25,
     "metadata": {},
     "output_type": "execute_result"
    }
   ],
   "source": [
    "list(M.ObstacleList[-5].exterior.coords)"
   ]
  },
  {
   "cell_type": "code",
   "execution_count": 26,
   "id": "ea8741f9",
   "metadata": {},
   "outputs": [
    {
     "data": {
      "text/plain": [
       "[(5.954344628147593, 4.978723341662636),\n",
       " (5.434072656551364, 4.754975409893421),\n",
       " (5.665570442979828, 3.6075571011609453),\n",
       " (6.547418332721589, 3.8623469754194404),\n",
       " (6.669898008296034, 4.262807882275942),\n",
       " (5.954344628147593, 4.978723341662636)]"
      ]
     },
     "execution_count": 26,
     "metadata": {},
     "output_type": "execute_result"
    }
   ],
   "source": [
    "list(M.ObstacleList[0].exterior.coords)"
   ]
  },
  {
   "cell_type": "code",
   "execution_count": 27,
   "id": "29023adf",
   "metadata": {},
   "outputs": [
    {
     "data": {
      "text/plain": [
       "5.0"
      ]
     },
     "execution_count": 27,
     "metadata": {},
     "output_type": "execute_result"
    }
   ],
   "source": [
    "M.StartCoords.y"
   ]
  },
  {
   "cell_type": "code",
   "execution_count": null,
   "id": "8e516331",
   "metadata": {},
   "outputs": [],
   "source": []
  },
  {
   "cell_type": "code",
   "execution_count": null,
   "id": "ae381d61",
   "metadata": {},
   "outputs": [],
   "source": []
  },
  {
   "cell_type": "code",
   "execution_count": null,
   "id": "5bcb37d8",
   "metadata": {},
   "outputs": [],
   "source": []
  },
  {
   "cell_type": "code",
   "execution_count": null,
   "id": "48a365aa",
   "metadata": {},
   "outputs": [],
   "source": []
  },
  {
   "cell_type": "code",
   "execution_count": null,
   "id": "ac4f83e0",
   "metadata": {},
   "outputs": [],
   "source": []
  },
  {
   "cell_type": "code",
   "execution_count": null,
   "id": "dba86329",
   "metadata": {},
   "outputs": [],
   "source": []
  },
  {
   "cell_type": "code",
   "execution_count": null,
   "id": "6023e7af",
   "metadata": {},
   "outputs": [],
   "source": []
  },
  {
   "cell_type": "code",
   "execution_count": null,
   "id": "bb1cd28b",
   "metadata": {},
   "outputs": [],
   "source": []
  },
  {
   "cell_type": "code",
   "execution_count": null,
   "id": "8e681265",
   "metadata": {},
   "outputs": [],
   "source": []
  },
  {
   "cell_type": "code",
   "execution_count": 54,
   "id": "431f94b7",
   "metadata": {},
   "outputs": [],
   "source": [
    "StartConf = (0.5, 5, 5.78)\n",
    "EndConf = (9.5, 5, 2.79)\n",
    "MapBounds=(10.0, 10.0)\n",
    "ObstaclesNum= 15\n",
    "Shape=6"
   ]
  },
  {
   "cell_type": "code",
   "execution_count": 55,
   "id": "6116a5c6",
   "metadata": {},
   "outputs": [],
   "source": [
    "M = ObstacleMap(StartConf, EndConf, MapBounds, ObstaclesNum, Shape)"
   ]
  },
  {
   "cell_type": "code",
   "execution_count": 56,
   "id": "6ecac9cf",
   "metadata": {},
   "outputs": [
    {
     "data": {
      "image/png": "[encoded data removed]",
      "text/plain": [
       "<Figure size 640x480 with 1 Axes>"
      ]
     },
     "metadata": {},
     "output_type": "display_data"
    }
   ],
   "source": [
    "obstacle_list, centroid_list = M.ObstacleList, M.CentroidList\n",
    "\n",
    "points = np.array(centroid_list)\n",
    "points = points.reshape(-1,2)\n",
    "\n",
    "tri = Delaunay(points)\n",
    "simplices = tri.simplices\n",
    "\n",
    "lines = line_eqs_delaunay(points, simplices)\n",
    "\n",
    "line_inside_poly = line_eqs_inside_poly(lines, obstacle_list)\n",
    "\n",
    "\n",
    "diction_lines = LongSeg_SmallSeg(lines, line_inside_poly)\n",
    "\n",
    "\n",
    "gates = gates_for_GStar(M, diction_lines)\n",
    "\n",
    "\n",
    "\n",
    "# Create a figure and axis\n",
    "fig, ax = plt.subplots()\n",
    "\n",
    "\n",
    "\n",
    "for obstacle in obstacle_list:\n",
    "    x,y = obstacle.exterior.xy\n",
    "    ax.fill(x, y, color = 'pink')\n",
    "\n",
    "\n",
    "# plt.triplot(points[:,0], points[:,1], tri.simplices.copy(), 'k--')\n",
    "# plt.plot(points[:,0], points[:,1], 'o')\n",
    "\n",
    "for ObsGate in gates.obstacle_gates:\n",
    "    x, y = ObsGate.xy\n",
    "    plt.plot(x, y, 'c-', linewidth=1.5)\n",
    "    \n",
    "for BoundGate in gates.boundary_gates:\n",
    "    x, y = BoundGate.xy\n",
    "    plt.plot(x, y, 'c-', linewidth = 1.5)\n",
    "    \n",
    "for StartEndGate in gates.start_end_gates:\n",
    "    x, y = StartEndGate.xy\n",
    "    plt.plot(x, y, 'c-', linewidth = 1.5)\n",
    "    \n",
    "    \n",
    "plt.plot([M.xmin, M.xmax, M.xmax, M.xmin, M.xmin], [M.ymin, M.ymin, M.ymax, M.ymax, M.ymin], color='black')\n",
    "\n",
    "# Set axis limits\n",
    "# ax.set_xlim(-2, 12)\n",
    "# ax.set_ylim(-2, 12)\n",
    "plt.axis('equal')\n",
    "\n",
    "# Add labels and title\n",
    "plt.xlabel('X')\n",
    "plt.ylabel('Y')\n",
    "plt.title('Non-vertical gates representation')\n",
    "\n",
    "plt.plot()\n",
    "\n",
    "# Show the plot\n",
    "plt.show()\n"
   ]
  },
  {
   "cell_type": "code",
   "execution_count": 30,
   "id": "d14f42e0",
   "metadata": {},
   "outputs": [],
   "source": [
    "x, y = obstacle_list[0].exterior.xy"
   ]
  },
  {
   "cell_type": "code",
   "execution_count": 31,
   "id": "afbfa6e4",
   "metadata": {},
   "outputs": [
    {
     "data": {
      "text/plain": [
       "array('d', [4.345344510005762, 4.365768924813484, 5.706961833424658, 4.345344510005762])"
      ]
     },
     "execution_count": 31,
     "metadata": {},
     "output_type": "execute_result"
    }
   ],
   "source": [
    "x"
   ]
  },
  {
   "cell_type": "code",
   "execution_count": 32,
   "id": "b605455a",
   "metadata": {},
   "outputs": [],
   "source": [
    "poly = obstacle_list[0]"
   ]
  },
  {
   "cell_type": "code",
   "execution_count": 33,
   "id": "59a73a2b",
   "metadata": {},
   "outputs": [],
   "source": [
    "x, y = poly.exterior.xy"
   ]
  },
  {
   "cell_type": "code",
   "execution_count": 34,
   "id": "a9fceefa",
   "metadata": {},
   "outputs": [
    {
     "data": {
      "text/plain": [
       "array('d', [4.345344510005762, 4.365768924813484, 5.706961833424658, 4.345344510005762])"
      ]
     },
     "execution_count": 34,
     "metadata": {},
     "output_type": "execute_result"
    }
   ],
   "source": [
    "x"
   ]
  },
  {
   "cell_type": "code",
   "execution_count": 35,
   "id": "bd9308be",
   "metadata": {},
   "outputs": [],
   "source": [
    "StartPoint = Point(8.22,5)"
   ]
  },
  {
   "cell_type": "code",
   "execution_count": 36,
   "id": "b30670ca",
   "metadata": {},
   "outputs": [
    {
     "data": {
      "text/plain": [
       "True"
      ]
     },
     "execution_count": 36,
     "metadata": {},
     "output_type": "execute_result"
    }
   ],
   "source": [
    "any(x) < StartPoint.x"
   ]
  },
  {
   "cell_type": "code",
   "execution_count": 37,
   "id": "922d52a7",
   "metadata": {},
   "outputs": [
    {
     "data": {
      "text/plain": [
       "True"
      ]
     },
     "execution_count": 37,
     "metadata": {},
     "output_type": "execute_result"
    }
   ],
   "source": [
    "np.any(x < StartPoint.x)"
   ]
  },
  {
   "cell_type": "code",
   "execution_count": 38,
   "id": "20728cae",
   "metadata": {},
   "outputs": [
    {
     "data": {
      "text/plain": [
       "10.0"
      ]
     },
     "execution_count": 38,
     "metadata": {},
     "output_type": "execute_result"
    }
   ],
   "source": [
    "M.xmax"
   ]
  },
  {
   "cell_type": "code",
   "execution_count": 39,
   "id": "e682fbab",
   "metadata": {},
   "outputs": [],
   "source": [
    "BoundGates = gates.boundary_gates"
   ]
  },
  {
   "cell_type": "code",
   "execution_count": 40,
   "id": "d0d8691e",
   "metadata": {},
   "outputs": [
    {
     "data": {
      "text/plain": [
       "[<LINESTRING (7.577 1.255, 7.577 0)>,\n",
       " <LINESTRING (7.485 7.585, 7.485 10)>,\n",
       " <LINESTRING (5.637 8.182, 5.637 10)>,\n",
       " <LINESTRING (4.189 8.475, 4.189 10)>,\n",
       " <LINESTRING (2.391 8.112, 2.391 10)>,\n",
       " <LINESTRING (2.289 2.776, 2.289 0)>,\n",
       " <LINESTRING (4.806 1.764, 4.806 0)>]"
      ]
     },
     "execution_count": 40,
     "metadata": {},
     "output_type": "execute_result"
    }
   ],
   "source": [
    "BoundGates"
   ]
  },
  {
   "cell_type": "code",
   "execution_count": 41,
   "id": "db7db3b5",
   "metadata": {},
   "outputs": [],
   "source": [
    "try_gate = []\n",
    "\n",
    "for gate in BoundGates:\n",
    "    count = 0\n",
    "    for obstacle in M.ObstacleList:\n",
    "        if gate.intersects(obstacle):\n",
    "            count += 1\n",
    "    \n",
    "    if count == 1:\n",
    "        try_gate.append(gate)\n",
    "            \n",
    "    "
   ]
  },
  {
   "cell_type": "code",
   "execution_count": 42,
   "id": "22887ef0",
   "metadata": {},
   "outputs": [
    {
     "data": {
      "text/plain": [
       "[<LINESTRING (4.189 8.475, 4.189 10)>, <LINESTRING (2.289 2.776, 2.289 0)>]"
      ]
     },
     "execution_count": 42,
     "metadata": {},
     "output_type": "execute_result"
    }
   ],
   "source": [
    "try_gate"
   ]
  },
  {
   "cell_type": "code",
   "execution_count": 43,
   "id": "a5f6e5b8",
   "metadata": {},
   "outputs": [
    {
     "data": {
      "text/plain": [
       "(0.5, 5.0)"
      ]
     },
     "execution_count": 43,
     "metadata": {},
     "output_type": "execute_result"
    }
   ],
   "source": [
    "M.StartCoords.coords[0]"
   ]
  },
  {
   "cell_type": "code",
   "execution_count": 44,
   "id": "cc5269c3",
   "metadata": {},
   "outputs": [
    {
     "data": {
      "text/plain": [
       "[<LINESTRING (7.577 1.255, 7.577 0)>,\n",
       " <LINESTRING (7.485 7.585, 7.485 10)>,\n",
       " <LINESTRING (5.637 8.182, 5.637 10)>,\n",
       " <LINESTRING (4.189 8.475, 4.189 10)>,\n",
       " <LINESTRING (2.391 8.112, 2.391 10)>,\n",
       " <LINESTRING (2.289 2.776, 2.289 0)>,\n",
       " <LINESTRING (4.806 1.764, 4.806 0)>]"
      ]
     },
     "execution_count": 44,
     "metadata": {},
     "output_type": "execute_result"
    }
   ],
   "source": [
    "hello = gates.boundary_gates\n",
    "hello"
   ]
  },
  {
   "cell_type": "code",
   "execution_count": 45,
   "id": "15d910fc",
   "metadata": {},
   "outputs": [
    {
     "data": {
      "image/png": "[encoded data removed]",
      "text/plain": [
       "<Figure size 640x480 with 1 Axes>"
      ]
     },
     "metadata": {},
     "output_type": "display_data"
    }
   ],
   "source": [
    "fig, ax = plt.subplots()\n",
    "\n",
    "plt.plot([M.xmin, M.xmax, M.xmax, M.xmin, M.xmin], [M.ymin, M.ymin, M.ymax, M.ymax, M.ymin], color='black')\n",
    "\n",
    "for obstacle in obstacle_list:\n",
    "    x,y = obstacle.exterior.xy\n",
    "    ax.fill(x, y, color = 'pink')\n",
    "    \n",
    "for BoundGate in hello:\n",
    "    x, y = BoundGate.xy\n",
    "    plt.plot(x, y, 'c-', linewidth = 1.5)"
   ]
  },
  {
   "cell_type": "code",
   "execution_count": 46,
   "id": "5d4c51f9",
   "metadata": {},
   "outputs": [
    {
     "data": {
      "image/svg+xml": [
       "<svg xmlns=\"http://www.w3.org/2000/svg\" xmlns:xlink=\"http://www.w3.org/1999/xlink\" width=\"100.0\" height=\"100.0\" viewBox=\"4.735450877466201 -0.07057421194843352 0.14114842389686721 1.9055037226077052\" preserveAspectRatio=\"xMinYMin meet\"><g transform=\"matrix(1,0,0,-1,0,1.764355298710838)\"><polyline fill=\"none\" stroke=\"#66cc99\" stroke-width=\"0.03811007445215411\" points=\"4.806025089414635,1.764355298710838 4.806025089414635,0.0\" opacity=\"0.8\" /></g></svg>"
      ],
      "text/plain": [
       "<LINESTRING (4.806 1.764, 4.806 0)>"
      ]
     },
     "execution_count": 46,
     "metadata": {},
     "output_type": "execute_result"
    }
   ],
   "source": [
    "test_gate = hello[-1]\n",
    "test_gate"
   ]
  },
  {
   "cell_type": "code",
   "execution_count": 47,
   "id": "98f6aa9e",
   "metadata": {},
   "outputs": [
    {
     "data": {
      "image/svg+xml": [
       "<svg xmlns=\"http://www.w3.org/2000/svg\" xmlns:xlink=\"http://www.w3.org/1999/xlink\" width=\"100.0\" height=\"100.0\" viewBox=\"1.8779010214820684 4.5412663131881725 1.4833892663259423 1.225122203363986\" preserveAspectRatio=\"xMinYMin meet\"><g transform=\"matrix(1,0,0,-1,0,10.307654829740331)\"><path fill-rule=\"evenodd\" fill=\"#66cc99\" stroke=\"#555555\" stroke-width=\"0.029667785326518845\" opacity=\"0.6\" d=\"M 3.182945590594752,5.403610178561621 L 2.634370497390983,5.711448173354901 L 1.9328413646793254,5.24701048421326 L 2.0191913378941995,4.59620665638543 L 3.3063499446107536,5.004151190545559 L 3.182945590594752,5.403610178561621 z\" /></g></svg>"
      ],
      "text/plain": [
       "<POLYGON ((3.183 5.404, 2.634 5.711, 1.933 5.247, 2.019 4.596, 3.306 5.004, ...>"
      ]
     },
     "execution_count": 47,
     "metadata": {},
     "output_type": "execute_result"
    }
   ],
   "source": [
    "test_obst = obstacle_list[5]\n",
    "test_obst"
   ]
  },
  {
   "cell_type": "code",
   "execution_count": 48,
   "id": "8a92b212",
   "metadata": {},
   "outputs": [],
   "source": [
    "a = (test_gate - test_obst)"
   ]
  },
  {
   "cell_type": "code",
   "execution_count": 49,
   "id": "311b1cb0",
   "metadata": {},
   "outputs": [
    {
     "data": {
      "text/plain": [
       "(4.806025089414635, 1.764355298710838)"
      ]
     },
     "execution_count": 49,
     "metadata": {},
     "output_type": "execute_result"
    }
   ],
   "source": [
    "a.coords[0]"
   ]
  },
  {
   "cell_type": "code",
   "execution_count": 50,
   "id": "ab456c3d",
   "metadata": {},
   "outputs": [
    {
     "data": {
      "text/plain": [
       "[(2.5689366757630636, 5.1517024489507435)]"
      ]
     },
     "execution_count": 50,
     "metadata": {},
     "output_type": "execute_result"
    }
   ],
   "source": [
    "M.CentroidList[5]"
   ]
  },
  {
   "cell_type": "code",
   "execution_count": null,
   "id": "d63701b8",
   "metadata": {},
   "outputs": [],
   "source": []
  }
 ],
 "metadata": {
  "kernelspec": {
   "display_name": "Python 3.8 (myenv)",
   "language": "python",
   "name": "myenv"
  },
  "language_info": {
   "codemirror_mode": {
    "name": "ipython",
    "version": 3
   },
   "file_extension": ".py",
   "mimetype": "text/x-python",
   "name": "python",
   "nbconvert_exporter": "python",
   "pygments_lexer": "ipython3",
   "version": "3.8.18"
  }
 },
 "nbformat": 4,
 "nbformat_minor": 5
}
