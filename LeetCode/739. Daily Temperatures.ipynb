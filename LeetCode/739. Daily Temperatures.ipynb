{
 "cells": [
  {
   "cell_type": "code",
   "execution_count": 11,
   "id": "ed933038",
   "metadata": {},
   "outputs": [],
   "source": [
    "temperatures = [30,40,50,60]"
   ]
  },
  {
   "cell_type": "code",
   "execution_count": 12,
   "id": "88ff7797",
   "metadata": {},
   "outputs": [],
   "source": [
    "output = [0 for _ in temperatures]\n",
    "\n",
    "for i in range(0, len(temperatures)):\n",
    "    \n",
    "    diff = []\n",
    "    \n",
    "    for j in range(i+1, len(temperatures)):\n",
    "        if temperatures[j] > temperatures[i]:\n",
    "            day = j-i\n",
    "            output[i] = day\n",
    "            break\n",
    "            \n",
    "        else:\n",
    "            continue"
   ]
  },
  {
   "cell_type": "code",
   "execution_count": null,
   "id": "dbf0b2aa",
   "metadata": {},
   "outputs": [],
   "source": []
  },
  {
   "cell_type": "code",
   "execution_count": 3,
   "id": "3a63d67e",
   "metadata": {},
   "outputs": [],
   "source": [
    "output = [0 for _ in temperatures]"
   ]
  },
  {
   "cell_type": "code",
   "execution_count": 13,
   "id": "6a862c31",
   "metadata": {},
   "outputs": [
    {
     "data": {
      "text/plain": [
       "[1, 1, 1, 0]"
      ]
     },
     "execution_count": 13,
     "metadata": {},
     "output_type": "execute_result"
    }
   ],
   "source": [
    "output"
   ]
  },
  {
   "cell_type": "code",
   "execution_count": 19,
   "id": "7c2845ac",
   "metadata": {},
   "outputs": [],
   "source": [
    "i = min(output)"
   ]
  },
  {
   "cell_type": "code",
   "execution_count": 20,
   "id": "01416e9e",
   "metadata": {},
   "outputs": [
    {
     "data": {
      "text/plain": [
       "1"
      ]
     },
     "execution_count": 20,
     "metadata": {},
     "output_type": "execute_result"
    }
   ],
   "source": [
    "i"
   ]
  },
  {
   "cell_type": "code",
   "execution_count": 21,
   "id": "14d981eb",
   "metadata": {},
   "outputs": [
    {
     "data": {
      "text/plain": [
       "0"
      ]
     },
     "execution_count": 21,
     "metadata": {},
     "output_type": "execute_result"
    }
   ],
   "source": [
    "output.index(1)"
   ]
  },
  {
   "cell_type": "code",
   "execution_count": 18,
   "id": "b4808bce",
   "metadata": {},
   "outputs": [
    {
     "name": "stdout",
     "output_type": "stream",
     "text": [
      "The next greatest number than 5 is 2.\n"
     ]
    }
   ],
   "source": [
    "def next_greatest_number(lst, target):\n",
    "    next_greater = float('inf')  # Initialize with positive infinity\n",
    "    \n",
    "    for num in lst:\n",
    "        if num > target and num < next_greater:\n",
    "            next_greater = num\n",
    "            \n",
    "    if next_greater == float('inf'):\n",
    "        return None\n",
    "    else:\n",
    "        return lst.index(next_greater)\n",
    "\n",
    "# Example usage\n",
    "numbers = [10, 5, 7, 12, 8, 15, 3]\n",
    "target_number = 5\n",
    "\n",
    "result = next_greatest_number(numbers, target_number)\n",
    "if result is not None:\n",
    "    print(f\"The next greatest number than {target_number} is {result}.\")\n",
    "else:\n",
    "    print(f\"There is no number greater than {target_number} in the list.\")\n"
   ]
  },
  {
   "cell_type": "code",
   "execution_count": 23,
   "id": "cd3fdcc9",
   "metadata": {},
   "outputs": [
    {
     "ename": "TypeError",
     "evalue": "unsupported operand type(s) for -: 'NoneType' and 'int'",
     "output_type": "error",
     "traceback": [
      "\u001b[0;31m---------------------------------------------------------------------------\u001b[0m",
      "\u001b[0;31mTypeError\u001b[0m                                 Traceback (most recent call last)",
      "Cell \u001b[0;32mIn[23], line 14\u001b[0m\n\u001b[1;32m     12\u001b[0m \u001b[38;5;28;01melse\u001b[39;00m:\n\u001b[1;32m     13\u001b[0m     idx \u001b[38;5;241m=\u001b[39m next_greatest_number(temperatures[i\u001b[38;5;241m+\u001b[39m\u001b[38;5;241m1\u001b[39m:], temperatures[i])\n\u001b[0;32m---> 14\u001b[0m     output[i] \u001b[38;5;241m=\u001b[39m \u001b[43midx\u001b[49m\u001b[43m \u001b[49m\u001b[38;5;241;43m-\u001b[39;49m\u001b[43m \u001b[49m\u001b[43mi\u001b[49m\n",
      "\u001b[0;31mTypeError\u001b[0m: unsupported operand type(s) for -: 'NoneType' and 'int'"
     ]
    }
   ],
   "source": [
    "output = [0 for _ in temperatures]\n",
    "\n",
    "\n",
    "\n",
    "\n",
    "\n",
    "for i in range(0, len(temperatures)):\n",
    "    \n",
    "    if i == len(temperatures):\n",
    "        output[-1] = 0\n",
    "        \n",
    "    else:\n",
    "        idx = next_greatest_number(temperatures[i+1:], temperatures[i])\n",
    "        output[i] = idx - i"
   ]
  },
  {
   "cell_type": "code",
   "execution_count": 22,
   "id": "4ed314b6",
   "metadata": {},
   "outputs": [
    {
     "data": {
      "text/plain": [
       "[50, 60]"
      ]
     },
     "execution_count": 22,
     "metadata": {},
     "output_type": "execute_result"
    }
   ],
   "source": [
    "temperatures[2:]"
   ]
  },
  {
   "cell_type": "code",
   "execution_count": 1,
   "id": "99fba2b3",
   "metadata": {},
   "outputs": [],
   "source": [
    "a = [0] * 8"
   ]
  },
  {
   "cell_type": "code",
   "execution_count": 2,
   "id": "729e78a5",
   "metadata": {},
   "outputs": [
    {
     "data": {
      "text/plain": [
       "[0, 0, 0, 0, 0, 0, 0, 0]"
      ]
     },
     "execution_count": 2,
     "metadata": {},
     "output_type": "execute_result"
    }
   ],
   "source": [
    "a"
   ]
  },
  {
   "cell_type": "code",
   "execution_count": null,
   "id": "8ff9104c",
   "metadata": {},
   "outputs": [],
   "source": []
  }
 ],
 "metadata": {
  "kernelspec": {
   "display_name": "Python 3 (ipykernel)",
   "language": "python",
   "name": "python3"
  },
  "language_info": {
   "codemirror_mode": {
    "name": "ipython",
    "version": 3
   },
   "file_extension": ".py",
   "mimetype": "text/x-python",
   "name": "python",
   "nbconvert_exporter": "python",
   "pygments_lexer": "ipython3",
   "version": "3.10.12"
  }
 },
 "nbformat": 4,
 "nbformat_minor": 5
}
